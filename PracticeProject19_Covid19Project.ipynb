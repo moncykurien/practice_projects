{
  "nbformat": 4,
  "nbformat_minor": 0,
  "metadata": {
    "colab": {
      "name": "PracticeProject19_Covid19Project.ipynb",
      "provenance": [],
      "collapsed_sections": [],
      "authorship_tag": "ABX9TyPFvlOJdj0ZDCSndxBw/IHE",
      "include_colab_link": true
    },
    "kernelspec": {
      "name": "python3",
      "display_name": "Python 3"
    },
    "accelerator": "GPU"
  },
  "cells": [
    {
      "cell_type": "markdown",
      "metadata": {
        "id": "view-in-github",
        "colab_type": "text"
      },
      "source": [
        "<a href=\"https://colab.research.google.com/github/moncykurien/practice_projects/blob/master/PracticeProject19_Covid19Project.ipynb\" target=\"_parent\"><img src=\"https://colab.research.google.com/assets/colab-badge.svg\" alt=\"Open In Colab\"/></a>"
      ]
    },
    {
      "cell_type": "code",
      "metadata": {
        "id": "MgLitM2qn9CM"
      },
      "source": [
        "import pandas as pd\r\n",
        "import numpy as np\r\n",
        "import plotly.graph_objects as go\r\n",
        "import plotly.express as px"
      ],
      "execution_count": 2,
      "outputs": []
    },
    {
      "cell_type": "markdown",
      "metadata": {
        "id": "7u8dvEiuxAVI"
      },
      "source": [
        "The size of the country and its population along with number of Confirmed cases and number of recovery can impact the number of deaths. So get the Size of the country and its population."
      ]
    },
    {
      "cell_type": "code",
      "metadata": {
        "colab": {
          "base_uri": "https://localhost:8080/",
          "height": 194
        },
        "id": "xXZb8BIzoKzY",
        "outputId": "8add2b06-9626-47df-f6af-afe45695a3be"
      },
      "source": [
        "df = pd.read_csv('https://raw.githubusercontent.com/dsrscientist/DSData/master/aggregate_covid_country.csv')\r\n",
        "df.head()"
      ],
      "execution_count": 3,
      "outputs": [
        {
          "output_type": "execute_result",
          "data": {
            "text/html": [
              "<div>\n",
              "<style scoped>\n",
              "    .dataframe tbody tr th:only-of-type {\n",
              "        vertical-align: middle;\n",
              "    }\n",
              "\n",
              "    .dataframe tbody tr th {\n",
              "        vertical-align: top;\n",
              "    }\n",
              "\n",
              "    .dataframe thead th {\n",
              "        text-align: right;\n",
              "    }\n",
              "</style>\n",
              "<table border=\"1\" class=\"dataframe\">\n",
              "  <thead>\n",
              "    <tr style=\"text-align: right;\">\n",
              "      <th></th>\n",
              "      <th>Date</th>\n",
              "      <th>Country</th>\n",
              "      <th>Confirmed</th>\n",
              "      <th>Recovered</th>\n",
              "      <th>Deaths</th>\n",
              "    </tr>\n",
              "  </thead>\n",
              "  <tbody>\n",
              "    <tr>\n",
              "      <th>0</th>\n",
              "      <td>2020-01-22</td>\n",
              "      <td>Afghanistan</td>\n",
              "      <td>0</td>\n",
              "      <td>0</td>\n",
              "      <td>0</td>\n",
              "    </tr>\n",
              "    <tr>\n",
              "      <th>1</th>\n",
              "      <td>2020-01-22</td>\n",
              "      <td>Albania</td>\n",
              "      <td>0</td>\n",
              "      <td>0</td>\n",
              "      <td>0</td>\n",
              "    </tr>\n",
              "    <tr>\n",
              "      <th>2</th>\n",
              "      <td>2020-01-22</td>\n",
              "      <td>Algeria</td>\n",
              "      <td>0</td>\n",
              "      <td>0</td>\n",
              "      <td>0</td>\n",
              "    </tr>\n",
              "    <tr>\n",
              "      <th>3</th>\n",
              "      <td>2020-01-22</td>\n",
              "      <td>Andorra</td>\n",
              "      <td>0</td>\n",
              "      <td>0</td>\n",
              "      <td>0</td>\n",
              "    </tr>\n",
              "    <tr>\n",
              "      <th>4</th>\n",
              "      <td>2020-01-22</td>\n",
              "      <td>Angola</td>\n",
              "      <td>0</td>\n",
              "      <td>0</td>\n",
              "      <td>0</td>\n",
              "    </tr>\n",
              "  </tbody>\n",
              "</table>\n",
              "</div>"
            ],
            "text/plain": [
              "         Date      Country  Confirmed  Recovered  Deaths\n",
              "0  2020-01-22  Afghanistan          0          0       0\n",
              "1  2020-01-22      Albania          0          0       0\n",
              "2  2020-01-22      Algeria          0          0       0\n",
              "3  2020-01-22      Andorra          0          0       0\n",
              "4  2020-01-22       Angola          0          0       0"
            ]
          },
          "metadata": {
            "tags": []
          },
          "execution_count": 3
        }
      ]
    },
    {
      "cell_type": "code",
      "metadata": {
        "colab": {
          "base_uri": "https://localhost:8080/"
        },
        "id": "H58i9zMHoK0z",
        "outputId": "bfc0f787-9c35-4b6e-bb8f-9ba58260c4b3"
      },
      "source": [
        "df.shape"
      ],
      "execution_count": 4,
      "outputs": [
        {
          "output_type": "execute_result",
          "data": {
            "text/plain": [
              "(23688, 5)"
            ]
          },
          "metadata": {
            "tags": []
          },
          "execution_count": 4
        }
      ]
    },
    {
      "cell_type": "code",
      "metadata": {
        "colab": {
          "base_uri": "https://localhost:8080/"
        },
        "id": "XpZRDbJCoK4x",
        "outputId": "00bdd710-bf4f-4735-ca81-ff3fac24ec4d"
      },
      "source": [
        "df.info()"
      ],
      "execution_count": 5,
      "outputs": [
        {
          "output_type": "stream",
          "text": [
            "<class 'pandas.core.frame.DataFrame'>\n",
            "RangeIndex: 23688 entries, 0 to 23687\n",
            "Data columns (total 5 columns):\n",
            " #   Column     Non-Null Count  Dtype \n",
            "---  ------     --------------  ----- \n",
            " 0   Date       23688 non-null  object\n",
            " 1   Country    23688 non-null  object\n",
            " 2   Confirmed  23688 non-null  int64 \n",
            " 3   Recovered  23688 non-null  int64 \n",
            " 4   Deaths     23688 non-null  int64 \n",
            "dtypes: int64(3), object(2)\n",
            "memory usage: 925.4+ KB\n"
          ],
          "name": "stdout"
        }
      ]
    },
    {
      "cell_type": "code",
      "metadata": {
        "colab": {
          "base_uri": "https://localhost:8080/",
          "height": 282
        },
        "id": "IGO-iaEkvtyt",
        "outputId": "85ebbffe-3a3d-4df3-f6a3-dc47576cefe3"
      },
      "source": [
        "df.describe()"
      ],
      "execution_count": 15,
      "outputs": [
        {
          "output_type": "execute_result",
          "data": {
            "text/html": [
              "<div>\n",
              "<style scoped>\n",
              "    .dataframe tbody tr th:only-of-type {\n",
              "        vertical-align: middle;\n",
              "    }\n",
              "\n",
              "    .dataframe tbody tr th {\n",
              "        vertical-align: top;\n",
              "    }\n",
              "\n",
              "    .dataframe thead th {\n",
              "        text-align: right;\n",
              "    }\n",
              "</style>\n",
              "<table border=\"1\" class=\"dataframe\">\n",
              "  <thead>\n",
              "    <tr style=\"text-align: right;\">\n",
              "      <th></th>\n",
              "      <th>Confirmed</th>\n",
              "      <th>Recovered</th>\n",
              "      <th>Deaths</th>\n",
              "    </tr>\n",
              "  </thead>\n",
              "  <tbody>\n",
              "    <tr>\n",
              "      <th>count</th>\n",
              "      <td>2.368800e+04</td>\n",
              "      <td>23688.000000</td>\n",
              "      <td>23688.000000</td>\n",
              "    </tr>\n",
              "    <tr>\n",
              "      <th>mean</th>\n",
              "      <td>7.969368e+03</td>\n",
              "      <td>2581.801714</td>\n",
              "      <td>526.935030</td>\n",
              "    </tr>\n",
              "    <tr>\n",
              "      <th>std</th>\n",
              "      <td>5.842109e+04</td>\n",
              "      <td>15143.101257</td>\n",
              "      <td>3992.815956</td>\n",
              "    </tr>\n",
              "    <tr>\n",
              "      <th>min</th>\n",
              "      <td>0.000000e+00</td>\n",
              "      <td>0.000000</td>\n",
              "      <td>0.000000</td>\n",
              "    </tr>\n",
              "    <tr>\n",
              "      <th>25%</th>\n",
              "      <td>0.000000e+00</td>\n",
              "      <td>0.000000</td>\n",
              "      <td>0.000000</td>\n",
              "    </tr>\n",
              "    <tr>\n",
              "      <th>50%</th>\n",
              "      <td>1.800000e+01</td>\n",
              "      <td>1.000000</td>\n",
              "      <td>0.000000</td>\n",
              "    </tr>\n",
              "    <tr>\n",
              "      <th>75%</th>\n",
              "      <td>7.300000e+02</td>\n",
              "      <td>123.000000</td>\n",
              "      <td>13.000000</td>\n",
              "    </tr>\n",
              "    <tr>\n",
              "      <th>max</th>\n",
              "      <td>1.680913e+06</td>\n",
              "      <td>384902.000000</td>\n",
              "      <td>98913.000000</td>\n",
              "    </tr>\n",
              "  </tbody>\n",
              "</table>\n",
              "</div>"
            ],
            "text/plain": [
              "          Confirmed      Recovered        Deaths\n",
              "count  2.368800e+04   23688.000000  23688.000000\n",
              "mean   7.969368e+03    2581.801714    526.935030\n",
              "std    5.842109e+04   15143.101257   3992.815956\n",
              "min    0.000000e+00       0.000000      0.000000\n",
              "25%    0.000000e+00       0.000000      0.000000\n",
              "50%    1.800000e+01       1.000000      0.000000\n",
              "75%    7.300000e+02     123.000000     13.000000\n",
              "max    1.680913e+06  384902.000000  98913.000000"
            ]
          },
          "metadata": {
            "tags": []
          },
          "execution_count": 15
        }
      ]
    },
    {
      "cell_type": "code",
      "metadata": {
        "id": "fdNkAQsaS9GC"
      },
      "source": [
        "import datetime"
      ],
      "execution_count": 16,
      "outputs": []
    },
    {
      "cell_type": "code",
      "metadata": {
        "colab": {
          "base_uri": "https://localhost:8080/",
          "height": 164
        },
        "id": "6WU5DRorWYla",
        "outputId": "013f8967-2d3c-4735-fc48-6389012e18f2"
      },
      "source": [
        "df[['Country','Date']].describe()"
      ],
      "execution_count": 17,
      "outputs": [
        {
          "output_type": "execute_result",
          "data": {
            "text/html": [
              "<div>\n",
              "<style scoped>\n",
              "    .dataframe tbody tr th:only-of-type {\n",
              "        vertical-align: middle;\n",
              "    }\n",
              "\n",
              "    .dataframe tbody tr th {\n",
              "        vertical-align: top;\n",
              "    }\n",
              "\n",
              "    .dataframe thead th {\n",
              "        text-align: right;\n",
              "    }\n",
              "</style>\n",
              "<table border=\"1\" class=\"dataframe\">\n",
              "  <thead>\n",
              "    <tr style=\"text-align: right;\">\n",
              "      <th></th>\n",
              "      <th>Country</th>\n",
              "      <th>Date</th>\n",
              "    </tr>\n",
              "  </thead>\n",
              "  <tbody>\n",
              "    <tr>\n",
              "      <th>count</th>\n",
              "      <td>23688</td>\n",
              "      <td>23688</td>\n",
              "    </tr>\n",
              "    <tr>\n",
              "      <th>unique</th>\n",
              "      <td>188</td>\n",
              "      <td>126</td>\n",
              "    </tr>\n",
              "    <tr>\n",
              "      <th>top</th>\n",
              "      <td>US</td>\n",
              "      <td>2020-05-26</td>\n",
              "    </tr>\n",
              "    <tr>\n",
              "      <th>freq</th>\n",
              "      <td>126</td>\n",
              "      <td>188</td>\n",
              "    </tr>\n",
              "  </tbody>\n",
              "</table>\n",
              "</div>"
            ],
            "text/plain": [
              "       Country        Date\n",
              "count    23688       23688\n",
              "unique     188         126\n",
              "top         US  2020-05-26\n",
              "freq       126         188"
            ]
          },
          "metadata": {
            "tags": []
          },
          "execution_count": 17
        }
      ]
    },
    {
      "cell_type": "markdown",
      "metadata": {
        "id": "k_klGKoZXcrZ"
      },
      "source": [
        "Observations:\r\n",
        "\r\n",
        "1. There are 188 countries and 126 dates in the dataset.\r\n",
        "2. Total number of rows 23688.\r\n",
        "3. 126 x 188 = 23688(meaning every single country has every sinle dates in the dataset). None of the country is missing any data for any date."
      ]
    },
    {
      "cell_type": "code",
      "metadata": {
        "colab": {
          "base_uri": "https://localhost:8080/",
          "height": 36
        },
        "id": "57b4t7GDSux_",
        "outputId": "be7d912b-585a-41a1-a988-1a126a730fab"
      },
      "source": [
        "str(datetime.datetime.strptime(df['Date'].max(), \"%Y-%m-%d\").month - datetime.datetime.strptime(df['Date'].min(), \"%Y-%m-%d\").month)+'+ months'"
      ],
      "execution_count": 18,
      "outputs": [
        {
          "output_type": "execute_result",
          "data": {
            "application/vnd.google.colaboratory.intrinsic+json": {
              "type": "string"
            },
            "text/plain": [
              "'4+ months'"
            ]
          },
          "metadata": {
            "tags": []
          },
          "execution_count": 18
        }
      ]
    },
    {
      "cell_type": "markdown",
      "metadata": {
        "id": "FNKBhj_jYDB3"
      },
      "source": [
        "Observations:\r\n",
        "\r\n",
        "1. The data we have is for 4 months and few days."
      ]
    },
    {
      "cell_type": "code",
      "metadata": {
        "colab": {
          "base_uri": "https://localhost:8080/"
        },
        "id": "NZV_d2opSQGJ",
        "outputId": "859dec1c-efa5-4d17-d3cc-7d031a1578d3"
      },
      "source": [
        "df[['Confirmed','Recovered','Deaths']].sum()/1000000"
      ],
      "execution_count": 19,
      "outputs": [
        {
          "output_type": "execute_result",
          "data": {
            "text/plain": [
              "Confirmed    188.778378\n",
              "Recovered     61.157719\n",
              "Deaths        12.482037\n",
              "dtype: float64"
            ]
          },
          "metadata": {
            "tags": []
          },
          "execution_count": 19
        }
      ]
    },
    {
      "cell_type": "markdown",
      "metadata": {
        "id": "UakZ8nEwYNNF"
      },
      "source": [
        "Observations:\r\n",
        "\r\n",
        "In just 4 months:\r\n",
        "1. There were 188.8 million confirmed cases across the whole world.\r\n",
        "2. There were 12.5 million deaths recorded due to COVID 19.\r\n",
        "3. About 61.2 Million patients recovered."
      ]
    },
    {
      "cell_type": "code",
      "metadata": {
        "colab": {
          "base_uri": "https://localhost:8080/"
        },
        "id": "gQNq64eVUmoj",
        "outputId": "3a1bcc8c-404c-4208-82d4-5e703e710a27"
      },
      "source": [
        "df[['Recovered','Deaths']].sum()/df['Confirmed'].sum()*100"
      ],
      "execution_count": 20,
      "outputs": [
        {
          "output_type": "execute_result",
          "data": {
            "text/plain": [
              "Recovered    32.396570\n",
              "Deaths        6.612006\n",
              "dtype: float64"
            ]
          },
          "metadata": {
            "tags": []
          },
          "execution_count": 20
        }
      ]
    },
    {
      "cell_type": "markdown",
      "metadata": {
        "id": "Z_u2puBZYnm2"
      },
      "source": [
        "Observations:\r\n",
        "1. The Recovery rate slightly higher than 5 times the death rate in the confirmed cases in the 4 month period we have."
      ]
    },
    {
      "cell_type": "code",
      "metadata": {
        "colab": {
          "base_uri": "https://localhost:8080/"
        },
        "id": "d4njaHmQvttS",
        "outputId": "fa8c0345-7743-419d-d02f-39d8acc3a604"
      },
      "source": [
        "df.isnull().sum()"
      ],
      "execution_count": 21,
      "outputs": [
        {
          "output_type": "execute_result",
          "data": {
            "text/plain": [
              "Date         0\n",
              "Country      0\n",
              "Confirmed    0\n",
              "Recovered    0\n",
              "Deaths       0\n",
              "dtype: int64"
            ]
          },
          "metadata": {
            "tags": []
          },
          "execution_count": 21
        }
      ]
    },
    {
      "cell_type": "markdown",
      "metadata": {
        "id": "aQd0Cv_PZEtj"
      },
      "source": [
        "Observations:\r\n",
        "There are no null values in the data"
      ]
    },
    {
      "cell_type": "code",
      "metadata": {
        "colab": {
          "base_uri": "https://localhost:8080/",
          "height": 428
        },
        "id": "3jQIYXL1aR4e",
        "outputId": "571d8bc3-d6a5-4971-854b-c7f0fe92d049"
      },
      "source": [
        "df[['Country', 'Confirmed', 'Recovered', 'Deaths']].groupby(by='Country').sum().sort_values(by='Deaths', ascending=False)"
      ],
      "execution_count": 22,
      "outputs": [
        {
          "output_type": "execute_result",
          "data": {
            "text/html": [
              "<div>\n",
              "<style scoped>\n",
              "    .dataframe tbody tr th:only-of-type {\n",
              "        vertical-align: middle;\n",
              "    }\n",
              "\n",
              "    .dataframe tbody tr th {\n",
              "        vertical-align: top;\n",
              "    }\n",
              "\n",
              "    .dataframe thead th {\n",
              "        text-align: right;\n",
              "    }\n",
              "</style>\n",
              "<table border=\"1\" class=\"dataframe\">\n",
              "  <thead>\n",
              "    <tr style=\"text-align: right;\">\n",
              "      <th></th>\n",
              "      <th>Confirmed</th>\n",
              "      <th>Recovered</th>\n",
              "      <th>Deaths</th>\n",
              "    </tr>\n",
              "    <tr>\n",
              "      <th>Country</th>\n",
              "      <th></th>\n",
              "      <th></th>\n",
              "      <th></th>\n",
              "    </tr>\n",
              "  </thead>\n",
              "  <tbody>\n",
              "    <tr>\n",
              "      <th>US</th>\n",
              "      <td>57098767</td>\n",
              "      <td>8428678</td>\n",
              "      <td>3221969</td>\n",
              "    </tr>\n",
              "    <tr>\n",
              "      <th>Italy</th>\n",
              "      <td>11896347</td>\n",
              "      <td>4354815</td>\n",
              "      <td>1568276</td>\n",
              "    </tr>\n",
              "    <tr>\n",
              "      <th>United Kingdom</th>\n",
              "      <td>9150537</td>\n",
              "      <td>43829</td>\n",
              "      <td>1329006</td>\n",
              "    </tr>\n",
              "    <tr>\n",
              "      <th>Spain</th>\n",
              "      <td>11890691</td>\n",
              "      <td>5770271</td>\n",
              "      <td>1302010</td>\n",
              "    </tr>\n",
              "    <tr>\n",
              "      <th>France</th>\n",
              "      <td>8746538</td>\n",
              "      <td>2519190</td>\n",
              "      <td>1209634</td>\n",
              "    </tr>\n",
              "    <tr>\n",
              "      <th>...</th>\n",
              "      <td>...</td>\n",
              "      <td>...</td>\n",
              "      <td>...</td>\n",
              "    </tr>\n",
              "    <tr>\n",
              "      <th>Saint Vincent and the Grenadines</th>\n",
              "      <td>793</td>\n",
              "      <td>379</td>\n",
              "      <td>0</td>\n",
              "    </tr>\n",
              "    <tr>\n",
              "      <th>Fiji</th>\n",
              "      <td>979</td>\n",
              "      <td>476</td>\n",
              "      <td>0</td>\n",
              "    </tr>\n",
              "    <tr>\n",
              "      <th>Cambodia</th>\n",
              "      <td>8024</td>\n",
              "      <td>5888</td>\n",
              "      <td>0</td>\n",
              "    </tr>\n",
              "    <tr>\n",
              "      <th>Seychelles</th>\n",
              "      <td>722</td>\n",
              "      <td>321</td>\n",
              "      <td>0</td>\n",
              "    </tr>\n",
              "    <tr>\n",
              "      <th>Mongolia</th>\n",
              "      <td>3197</td>\n",
              "      <td>679</td>\n",
              "      <td>0</td>\n",
              "    </tr>\n",
              "  </tbody>\n",
              "</table>\n",
              "<p>188 rows × 3 columns</p>\n",
              "</div>"
            ],
            "text/plain": [
              "                                  Confirmed  Recovered   Deaths\n",
              "Country                                                        \n",
              "US                                 57098767    8428678  3221969\n",
              "Italy                              11896347    4354815  1568276\n",
              "United Kingdom                      9150537      43829  1329006\n",
              "Spain                              11890691    5770271  1302010\n",
              "France                              8746538    2519190  1209634\n",
              "...                                     ...        ...      ...\n",
              "Saint Vincent and the Grenadines        793        379        0\n",
              "Fiji                                    979        476        0\n",
              "Cambodia                               8024       5888        0\n",
              "Seychelles                              722        321        0\n",
              "Mongolia                               3197        679        0\n",
              "\n",
              "[188 rows x 3 columns]"
            ]
          },
          "metadata": {
            "tags": []
          },
          "execution_count": 22
        }
      ]
    },
    {
      "cell_type": "code",
      "metadata": {
        "colab": {
          "base_uri": "https://localhost:8080/",
          "height": 370
        },
        "id": "v7z0WcldaR3Y",
        "outputId": "2a35018b-01da-441c-89f7-18fd43cc9075"
      },
      "source": [
        "rate_by_country=df[['Country', 'Deaths','Confirmed', 'Recovered']].groupby(by='Country').sum().sort_values(by='Deaths', ascending=False)\r\n",
        "rate_by_country['Death_rate'] = round(rate_by_country['Deaths']/rate_by_country['Confirmed']*100).astype('int')\r\n",
        "rate_by_country['Recovery_rate'] = round(rate_by_country['Recovered']/rate_by_country['Confirmed']*100).astype('int')\r\n",
        "rate_by_country.head(10)"
      ],
      "execution_count": 7,
      "outputs": [
        {
          "output_type": "execute_result",
          "data": {
            "text/html": [
              "<div>\n",
              "<style scoped>\n",
              "    .dataframe tbody tr th:only-of-type {\n",
              "        vertical-align: middle;\n",
              "    }\n",
              "\n",
              "    .dataframe tbody tr th {\n",
              "        vertical-align: top;\n",
              "    }\n",
              "\n",
              "    .dataframe thead th {\n",
              "        text-align: right;\n",
              "    }\n",
              "</style>\n",
              "<table border=\"1\" class=\"dataframe\">\n",
              "  <thead>\n",
              "    <tr style=\"text-align: right;\">\n",
              "      <th></th>\n",
              "      <th>Deaths</th>\n",
              "      <th>Confirmed</th>\n",
              "      <th>Recovered</th>\n",
              "      <th>Death_rate</th>\n",
              "      <th>Recovery_rate</th>\n",
              "    </tr>\n",
              "    <tr>\n",
              "      <th>Country</th>\n",
              "      <th></th>\n",
              "      <th></th>\n",
              "      <th></th>\n",
              "      <th></th>\n",
              "      <th></th>\n",
              "    </tr>\n",
              "  </thead>\n",
              "  <tbody>\n",
              "    <tr>\n",
              "      <th>US</th>\n",
              "      <td>3221969</td>\n",
              "      <td>57098767</td>\n",
              "      <td>8428678</td>\n",
              "      <td>6</td>\n",
              "      <td>15</td>\n",
              "    </tr>\n",
              "    <tr>\n",
              "      <th>Italy</th>\n",
              "      <td>1568276</td>\n",
              "      <td>11896347</td>\n",
              "      <td>4354815</td>\n",
              "      <td>13</td>\n",
              "      <td>37</td>\n",
              "    </tr>\n",
              "    <tr>\n",
              "      <th>United Kingdom</th>\n",
              "      <td>1329006</td>\n",
              "      <td>9150537</td>\n",
              "      <td>43829</td>\n",
              "      <td>15</td>\n",
              "      <td>0</td>\n",
              "    </tr>\n",
              "    <tr>\n",
              "      <th>Spain</th>\n",
              "      <td>1302010</td>\n",
              "      <td>11890691</td>\n",
              "      <td>5770271</td>\n",
              "      <td>11</td>\n",
              "      <td>49</td>\n",
              "    </tr>\n",
              "    <tr>\n",
              "      <th>France</th>\n",
              "      <td>1209634</td>\n",
              "      <td>8746538</td>\n",
              "      <td>2519190</td>\n",
              "      <td>14</td>\n",
              "      <td>29</td>\n",
              "    </tr>\n",
              "    <tr>\n",
              "      <th>Brazil</th>\n",
              "      <td>438199</td>\n",
              "      <td>6701409</td>\n",
              "      <td>2666743</td>\n",
              "      <td>7</td>\n",
              "      <td>40</td>\n",
              "    </tr>\n",
              "    <tr>\n",
              "      <th>China</th>\n",
              "      <td>384657</td>\n",
              "      <td>8871610</td>\n",
              "      <td>6776464</td>\n",
              "      <td>4</td>\n",
              "      <td>76</td>\n",
              "    </tr>\n",
              "    <tr>\n",
              "      <th>Belgium</th>\n",
              "      <td>362702</td>\n",
              "      <td>2480956</td>\n",
              "      <td>587424</td>\n",
              "      <td>15</td>\n",
              "      <td>24</td>\n",
              "    </tr>\n",
              "    <tr>\n",
              "      <th>Iran</th>\n",
              "      <td>352960</td>\n",
              "      <td>5778865</td>\n",
              "      <td>3973261</td>\n",
              "      <td>6</td>\n",
              "      <td>69</td>\n",
              "    </tr>\n",
              "    <tr>\n",
              "      <th>Germany</th>\n",
              "      <td>319666</td>\n",
              "      <td>9046257</td>\n",
              "      <td>6102898</td>\n",
              "      <td>4</td>\n",
              "      <td>67</td>\n",
              "    </tr>\n",
              "  </tbody>\n",
              "</table>\n",
              "</div>"
            ],
            "text/plain": [
              "                 Deaths  Confirmed  Recovered  Death_rate  Recovery_rate\n",
              "Country                                                                 \n",
              "US              3221969   57098767    8428678           6             15\n",
              "Italy           1568276   11896347    4354815          13             37\n",
              "United Kingdom  1329006    9150537      43829          15              0\n",
              "Spain           1302010   11890691    5770271          11             49\n",
              "France          1209634    8746538    2519190          14             29\n",
              "Brazil           438199    6701409    2666743           7             40\n",
              "China            384657    8871610    6776464           4             76\n",
              "Belgium          362702    2480956     587424          15             24\n",
              "Iran             352960    5778865    3973261           6             69\n",
              "Germany          319666    9046257    6102898           4             67"
            ]
          },
          "metadata": {
            "tags": []
          },
          "execution_count": 7
        }
      ]
    },
    {
      "cell_type": "code",
      "metadata": {
        "colab": {
          "base_uri": "https://localhost:8080/"
        },
        "id": "V2AH9Cs7aRzA",
        "outputId": "ab7e6aff-6d52-4cc7-9e2b-14920c916ee1"
      },
      "source": [
        "rate_by_country.loc['India']"
      ],
      "execution_count": 8,
      "outputs": [
        {
          "output_type": "execute_result",
          "data": {
            "text/plain": [
              "Deaths             83979\n",
              "Confirmed        2677040\n",
              "Recovered         903541\n",
              "Death_rate             3\n",
              "Recovery_rate         34\n",
              "Name: India, dtype: int64"
            ]
          },
          "metadata": {
            "tags": []
          },
          "execution_count": 8
        }
      ]
    },
    {
      "cell_type": "code",
      "metadata": {
        "colab": {
          "base_uri": "https://localhost:8080/",
          "height": 194
        },
        "id": "C3LJUHCZaRx_",
        "outputId": "bbaae54a-5cb6-4170-f09b-1a800722e31f"
      },
      "source": [
        "data = df.copy()\r\n",
        "data['Death_rate'] = data['Country'].apply(lambda x: rate_by_country.loc[x]['Death_rate'])\r\n",
        "data['Recovery_rate'] = data['Country'].apply(lambda x: rate_by_country.loc[x]['Recovery_rate'])\r\n",
        "data.head()"
      ],
      "execution_count": 9,
      "outputs": [
        {
          "output_type": "execute_result",
          "data": {
            "text/html": [
              "<div>\n",
              "<style scoped>\n",
              "    .dataframe tbody tr th:only-of-type {\n",
              "        vertical-align: middle;\n",
              "    }\n",
              "\n",
              "    .dataframe tbody tr th {\n",
              "        vertical-align: top;\n",
              "    }\n",
              "\n",
              "    .dataframe thead th {\n",
              "        text-align: right;\n",
              "    }\n",
              "</style>\n",
              "<table border=\"1\" class=\"dataframe\">\n",
              "  <thead>\n",
              "    <tr style=\"text-align: right;\">\n",
              "      <th></th>\n",
              "      <th>Date</th>\n",
              "      <th>Country</th>\n",
              "      <th>Confirmed</th>\n",
              "      <th>Recovered</th>\n",
              "      <th>Deaths</th>\n",
              "      <th>Death_rate</th>\n",
              "      <th>Recovery_rate</th>\n",
              "    </tr>\n",
              "  </thead>\n",
              "  <tbody>\n",
              "    <tr>\n",
              "      <th>0</th>\n",
              "      <td>2020-01-22</td>\n",
              "      <td>Afghanistan</td>\n",
              "      <td>0</td>\n",
              "      <td>0</td>\n",
              "      <td>0</td>\n",
              "      <td>3</td>\n",
              "      <td>11</td>\n",
              "    </tr>\n",
              "    <tr>\n",
              "      <th>1</th>\n",
              "      <td>2020-01-22</td>\n",
              "      <td>Albania</td>\n",
              "      <td>0</td>\n",
              "      <td>0</td>\n",
              "      <td>0</td>\n",
              "      <td>4</td>\n",
              "      <td>62</td>\n",
              "    </tr>\n",
              "    <tr>\n",
              "      <th>2</th>\n",
              "      <td>2020-01-22</td>\n",
              "      <td>Algeria</td>\n",
              "      <td>0</td>\n",
              "      <td>0</td>\n",
              "      <td>0</td>\n",
              "      <td>10</td>\n",
              "      <td>45</td>\n",
              "    </tr>\n",
              "    <tr>\n",
              "      <th>3</th>\n",
              "      <td>2020-01-22</td>\n",
              "      <td>Andorra</td>\n",
              "      <td>0</td>\n",
              "      <td>0</td>\n",
              "      <td>0</td>\n",
              "      <td>5</td>\n",
              "      <td>50</td>\n",
              "    </tr>\n",
              "    <tr>\n",
              "      <th>4</th>\n",
              "      <td>2020-01-22</td>\n",
              "      <td>Angola</td>\n",
              "      <td>0</td>\n",
              "      <td>0</td>\n",
              "      <td>0</td>\n",
              "      <td>7</td>\n",
              "      <td>27</td>\n",
              "    </tr>\n",
              "  </tbody>\n",
              "</table>\n",
              "</div>"
            ],
            "text/plain": [
              "         Date      Country  Confirmed  ...  Deaths  Death_rate  Recovery_rate\n",
              "0  2020-01-22  Afghanistan          0  ...       0           3             11\n",
              "1  2020-01-22      Albania          0  ...       0           4             62\n",
              "2  2020-01-22      Algeria          0  ...       0          10             45\n",
              "3  2020-01-22      Andorra          0  ...       0           5             50\n",
              "4  2020-01-22       Angola          0  ...       0           7             27\n",
              "\n",
              "[5 rows x 7 columns]"
            ]
          },
          "metadata": {
            "tags": []
          },
          "execution_count": 9
        }
      ]
    },
    {
      "cell_type": "code",
      "metadata": {
        "colab": {
          "base_uri": "https://localhost:8080/"
        },
        "id": "G0E62r1qaRuS",
        "outputId": "dfed5dcd-e780-4bd1-8f70-e22317749ce6"
      },
      "source": [
        "data.Death_rate.nunique()"
      ],
      "execution_count": 10,
      "outputs": [
        {
          "output_type": "execute_result",
          "data": {
            "text/plain": [
              "18"
            ]
          },
          "metadata": {
            "tags": []
          },
          "execution_count": 10
        }
      ]
    },
    {
      "cell_type": "code",
      "metadata": {
        "colab": {
          "base_uri": "https://localhost:8080/"
        },
        "id": "nc2rVGUygude",
        "outputId": "5408e7ce-e769-49e0-962c-d35ac5c25b52"
      },
      "source": [
        "data.Recovery_rate.nunique()"
      ],
      "execution_count": 11,
      "outputs": [
        {
          "output_type": "execute_result",
          "data": {
            "text/plain": [
              "69"
            ]
          },
          "metadata": {
            "tags": []
          },
          "execution_count": 11
        }
      ]
    },
    {
      "cell_type": "code",
      "metadata": {
        "colab": {
          "base_uri": "https://localhost:8080/",
          "height": 428
        },
        "id": "7Ky3bvhfg4do",
        "outputId": "601b64ab-c954-45cd-efa2-52deb617a04f"
      },
      "source": [
        "data.groupby(by='Country').mean().sort_values('Deaths',ascending=False)"
      ],
      "execution_count": 12,
      "outputs": [
        {
          "output_type": "execute_result",
          "data": {
            "text/html": [
              "<div>\n",
              "<style scoped>\n",
              "    .dataframe tbody tr th:only-of-type {\n",
              "        vertical-align: middle;\n",
              "    }\n",
              "\n",
              "    .dataframe tbody tr th {\n",
              "        vertical-align: top;\n",
              "    }\n",
              "\n",
              "    .dataframe thead th {\n",
              "        text-align: right;\n",
              "    }\n",
              "</style>\n",
              "<table border=\"1\" class=\"dataframe\">\n",
              "  <thead>\n",
              "    <tr style=\"text-align: right;\">\n",
              "      <th></th>\n",
              "      <th>Confirmed</th>\n",
              "      <th>Recovered</th>\n",
              "      <th>Deaths</th>\n",
              "      <th>Death_rate</th>\n",
              "      <th>Recovery_rate</th>\n",
              "    </tr>\n",
              "    <tr>\n",
              "      <th>Country</th>\n",
              "      <th></th>\n",
              "      <th></th>\n",
              "      <th></th>\n",
              "      <th></th>\n",
              "      <th></th>\n",
              "    </tr>\n",
              "  </thead>\n",
              "  <tbody>\n",
              "    <tr>\n",
              "      <th>US</th>\n",
              "      <td>453164.817460</td>\n",
              "      <td>66894.269841</td>\n",
              "      <td>25571.182540</td>\n",
              "      <td>6.0</td>\n",
              "      <td>15.0</td>\n",
              "    </tr>\n",
              "    <tr>\n",
              "      <th>Italy</th>\n",
              "      <td>94415.452381</td>\n",
              "      <td>34562.023810</td>\n",
              "      <td>12446.634921</td>\n",
              "      <td>13.0</td>\n",
              "      <td>37.0</td>\n",
              "    </tr>\n",
              "    <tr>\n",
              "      <th>United Kingdom</th>\n",
              "      <td>72623.309524</td>\n",
              "      <td>347.849206</td>\n",
              "      <td>10547.666667</td>\n",
              "      <td>15.0</td>\n",
              "      <td>0.0</td>\n",
              "    </tr>\n",
              "    <tr>\n",
              "      <th>Spain</th>\n",
              "      <td>94370.563492</td>\n",
              "      <td>45795.801587</td>\n",
              "      <td>10333.412698</td>\n",
              "      <td>11.0</td>\n",
              "      <td>49.0</td>\n",
              "    </tr>\n",
              "    <tr>\n",
              "      <th>France</th>\n",
              "      <td>69416.968254</td>\n",
              "      <td>19993.571429</td>\n",
              "      <td>9600.269841</td>\n",
              "      <td>14.0</td>\n",
              "      <td>29.0</td>\n",
              "    </tr>\n",
              "    <tr>\n",
              "      <th>...</th>\n",
              "      <td>...</td>\n",
              "      <td>...</td>\n",
              "      <td>...</td>\n",
              "      <td>...</td>\n",
              "      <td>...</td>\n",
              "    </tr>\n",
              "    <tr>\n",
              "      <th>Saint Vincent and the Grenadines</th>\n",
              "      <td>6.293651</td>\n",
              "      <td>3.007937</td>\n",
              "      <td>0.000000</td>\n",
              "      <td>0.0</td>\n",
              "      <td>48.0</td>\n",
              "    </tr>\n",
              "    <tr>\n",
              "      <th>Fiji</th>\n",
              "      <td>7.769841</td>\n",
              "      <td>3.777778</td>\n",
              "      <td>0.000000</td>\n",
              "      <td>0.0</td>\n",
              "      <td>49.0</td>\n",
              "    </tr>\n",
              "    <tr>\n",
              "      <th>Cambodia</th>\n",
              "      <td>63.682540</td>\n",
              "      <td>46.730159</td>\n",
              "      <td>0.000000</td>\n",
              "      <td>0.0</td>\n",
              "      <td>73.0</td>\n",
              "    </tr>\n",
              "    <tr>\n",
              "      <th>Seychelles</th>\n",
              "      <td>5.730159</td>\n",
              "      <td>2.547619</td>\n",
              "      <td>0.000000</td>\n",
              "      <td>0.0</td>\n",
              "      <td>44.0</td>\n",
              "    </tr>\n",
              "    <tr>\n",
              "      <th>Mongolia</th>\n",
              "      <td>25.373016</td>\n",
              "      <td>5.388889</td>\n",
              "      <td>0.000000</td>\n",
              "      <td>0.0</td>\n",
              "      <td>21.0</td>\n",
              "    </tr>\n",
              "  </tbody>\n",
              "</table>\n",
              "<p>188 rows × 5 columns</p>\n",
              "</div>"
            ],
            "text/plain": [
              "                                      Confirmed  ...  Recovery_rate\n",
              "Country                                          ...               \n",
              "US                                453164.817460  ...           15.0\n",
              "Italy                              94415.452381  ...           37.0\n",
              "United Kingdom                     72623.309524  ...            0.0\n",
              "Spain                              94370.563492  ...           49.0\n",
              "France                             69416.968254  ...           29.0\n",
              "...                                         ...  ...            ...\n",
              "Saint Vincent and the Grenadines       6.293651  ...           48.0\n",
              "Fiji                                   7.769841  ...           49.0\n",
              "Cambodia                              63.682540  ...           73.0\n",
              "Seychelles                             5.730159  ...           44.0\n",
              "Mongolia                              25.373016  ...           21.0\n",
              "\n",
              "[188 rows x 5 columns]"
            ]
          },
          "metadata": {
            "tags": []
          },
          "execution_count": 12
        }
      ]
    },
    {
      "cell_type": "markdown",
      "metadata": {
        "id": "lMmodjI-uW_w"
      },
      "source": [
        "Observations:\r\n",
        "1. Although US has the highest deaths, the death_rate for US is not the highest.\r\n",
        "2. We can also see that the economic Gaints are on the top with high Confirmed rates and the Death rates while smaller countries in the bottom show0 deaths and the recovery_rate is fairly high."
      ]
    },
    {
      "cell_type": "code",
      "metadata": {
        "colab": {
          "base_uri": "https://localhost:8080/",
          "height": 428
        },
        "id": "AIZ2GjOljIDF",
        "outputId": "c5678ae3-72f8-4b00-9a0c-682b7a0a4f69"
      },
      "source": [
        "data.groupby(by='Country').mean().sort_values('Death_rate',ascending=False)"
      ],
      "execution_count": 13,
      "outputs": [
        {
          "output_type": "execute_result",
          "data": {
            "text/html": [
              "<div>\n",
              "<style scoped>\n",
              "    .dataframe tbody tr th:only-of-type {\n",
              "        vertical-align: middle;\n",
              "    }\n",
              "\n",
              "    .dataframe tbody tr th {\n",
              "        vertical-align: top;\n",
              "    }\n",
              "\n",
              "    .dataframe thead th {\n",
              "        text-align: right;\n",
              "    }\n",
              "</style>\n",
              "<table border=\"1\" class=\"dataframe\">\n",
              "  <thead>\n",
              "    <tr style=\"text-align: right;\">\n",
              "      <th></th>\n",
              "      <th>Confirmed</th>\n",
              "      <th>Recovered</th>\n",
              "      <th>Deaths</th>\n",
              "      <th>Death_rate</th>\n",
              "      <th>Recovery_rate</th>\n",
              "    </tr>\n",
              "    <tr>\n",
              "      <th>Country</th>\n",
              "      <th></th>\n",
              "      <th></th>\n",
              "      <th></th>\n",
              "      <th></th>\n",
              "      <th></th>\n",
              "    </tr>\n",
              "  </thead>\n",
              "  <tbody>\n",
              "    <tr>\n",
              "      <th>MS Zaandam</th>\n",
              "      <td>4.063492</td>\n",
              "      <td>0.000000</td>\n",
              "      <td>0.888889</td>\n",
              "      <td>22.0</td>\n",
              "      <td>0.0</td>\n",
              "    </tr>\n",
              "    <tr>\n",
              "      <th>Yemen</th>\n",
              "      <td>21.396825</td>\n",
              "      <td>0.730159</td>\n",
              "      <td>3.650794</td>\n",
              "      <td>17.0</td>\n",
              "      <td>3.0</td>\n",
              "    </tr>\n",
              "    <tr>\n",
              "      <th>Belgium</th>\n",
              "      <td>19690.126984</td>\n",
              "      <td>4662.095238</td>\n",
              "      <td>2878.587302</td>\n",
              "      <td>15.0</td>\n",
              "      <td>24.0</td>\n",
              "    </tr>\n",
              "    <tr>\n",
              "      <th>United Kingdom</th>\n",
              "      <td>72623.309524</td>\n",
              "      <td>347.849206</td>\n",
              "      <td>10547.666667</td>\n",
              "      <td>15.0</td>\n",
              "      <td>0.0</td>\n",
              "    </tr>\n",
              "    <tr>\n",
              "      <th>France</th>\n",
              "      <td>69416.968254</td>\n",
              "      <td>19993.571429</td>\n",
              "      <td>9600.269841</td>\n",
              "      <td>14.0</td>\n",
              "      <td>29.0</td>\n",
              "    </tr>\n",
              "    <tr>\n",
              "      <th>...</th>\n",
              "      <td>...</td>\n",
              "      <td>...</td>\n",
              "      <td>...</td>\n",
              "      <td>...</td>\n",
              "      <td>...</td>\n",
              "    </tr>\n",
              "    <tr>\n",
              "      <th>Nepal</th>\n",
              "      <td>65.690476</td>\n",
              "      <td>10.507937</td>\n",
              "      <td>0.230159</td>\n",
              "      <td>0.0</td>\n",
              "      <td>16.0</td>\n",
              "    </tr>\n",
              "    <tr>\n",
              "      <th>Seychelles</th>\n",
              "      <td>5.730159</td>\n",
              "      <td>2.547619</td>\n",
              "      <td>0.000000</td>\n",
              "      <td>0.0</td>\n",
              "      <td>44.0</td>\n",
              "    </tr>\n",
              "    <tr>\n",
              "      <th>Eritrea</th>\n",
              "      <td>16.714286</td>\n",
              "      <td>8.460317</td>\n",
              "      <td>0.000000</td>\n",
              "      <td>0.0</td>\n",
              "      <td>51.0</td>\n",
              "    </tr>\n",
              "    <tr>\n",
              "      <th>Fiji</th>\n",
              "      <td>7.769841</td>\n",
              "      <td>3.777778</td>\n",
              "      <td>0.000000</td>\n",
              "      <td>0.0</td>\n",
              "      <td>49.0</td>\n",
              "    </tr>\n",
              "    <tr>\n",
              "      <th>Mongolia</th>\n",
              "      <td>25.373016</td>\n",
              "      <td>5.388889</td>\n",
              "      <td>0.000000</td>\n",
              "      <td>0.0</td>\n",
              "      <td>21.0</td>\n",
              "    </tr>\n",
              "  </tbody>\n",
              "</table>\n",
              "<p>188 rows × 5 columns</p>\n",
              "</div>"
            ],
            "text/plain": [
              "                   Confirmed     Recovered  ...  Death_rate  Recovery_rate\n",
              "Country                                     ...                           \n",
              "MS Zaandam          4.063492      0.000000  ...        22.0            0.0\n",
              "Yemen              21.396825      0.730159  ...        17.0            3.0\n",
              "Belgium         19690.126984   4662.095238  ...        15.0           24.0\n",
              "United Kingdom  72623.309524    347.849206  ...        15.0            0.0\n",
              "France          69416.968254  19993.571429  ...        14.0           29.0\n",
              "...                      ...           ...  ...         ...            ...\n",
              "Nepal              65.690476     10.507937  ...         0.0           16.0\n",
              "Seychelles          5.730159      2.547619  ...         0.0           44.0\n",
              "Eritrea            16.714286      8.460317  ...         0.0           51.0\n",
              "Fiji                7.769841      3.777778  ...         0.0           49.0\n",
              "Mongolia           25.373016      5.388889  ...         0.0           21.0\n",
              "\n",
              "[188 rows x 5 columns]"
            ]
          },
          "metadata": {
            "tags": []
          },
          "execution_count": 13
        }
      ]
    },
    {
      "cell_type": "markdown",
      "metadata": {
        "id": "Nfstc9MvmC-Y"
      },
      "source": [
        "Observations:\r\n",
        "1. This is interesting. For MS Zaandam, the mean confirmed and deaths are pretty low yet the death rate is the highest.\r\n",
        "2. I found out that Zaandan is actually a cruise ship and not a Country that we have in this dataset. Ref -> https://en.wikipedia.org/wiki/COVID-19_pandemic_on_cruise_ships#Zaandam\r\n",
        "3. Looks like it was not allowed to port since it had COVID positive cases. Since it was a closed vessel that might have been the cause of the increased death rate."
      ]
    },
    {
      "cell_type": "code",
      "metadata": {
        "colab": {
          "base_uri": "https://localhost:8080/"
        },
        "id": "EMJ7bkrYlLOi",
        "outputId": "2c474bd6-0f21-4150-93f9-422ccdec7097"
      },
      "source": [
        "data[data['Country']=='MS Zaandam'][['Confirmed','Recovered','Deaths']].sum()"
      ],
      "execution_count": 14,
      "outputs": [
        {
          "output_type": "execute_result",
          "data": {
            "text/plain": [
              "Confirmed    512\n",
              "Recovered      0\n",
              "Deaths       112\n",
              "dtype: int64"
            ]
          },
          "metadata": {
            "tags": []
          },
          "execution_count": 14
        }
      ]
    },
    {
      "cell_type": "markdown",
      "metadata": {
        "id": "RMeDLqebvTve"
      },
      "source": [
        "Apparently there were 1,829 travellers onboard on Zaandam and we can see that 512 of them got infected by May 2020 and 112 people died."
      ]
    },
    {
      "cell_type": "code",
      "metadata": {
        "colab": {
          "base_uri": "https://localhost:8080/",
          "height": 428
        },
        "id": "9R-Y-_s7jUpf",
        "outputId": "7d480ea6-9a14-4e19-f6a7-c9b1f9854125"
      },
      "source": [
        "data.groupby(by='Country').mean().sort_values('Recovery_rate',ascending=False)"
      ],
      "execution_count": 15,
      "outputs": [
        {
          "output_type": "execute_result",
          "data": {
            "text/html": [
              "<div>\n",
              "<style scoped>\n",
              "    .dataframe tbody tr th:only-of-type {\n",
              "        vertical-align: middle;\n",
              "    }\n",
              "\n",
              "    .dataframe tbody tr th {\n",
              "        vertical-align: top;\n",
              "    }\n",
              "\n",
              "    .dataframe thead th {\n",
              "        text-align: right;\n",
              "    }\n",
              "</style>\n",
              "<table border=\"1\" class=\"dataframe\">\n",
              "  <thead>\n",
              "    <tr style=\"text-align: right;\">\n",
              "      <th></th>\n",
              "      <th>Confirmed</th>\n",
              "      <th>Recovered</th>\n",
              "      <th>Deaths</th>\n",
              "      <th>Death_rate</th>\n",
              "      <th>Recovery_rate</th>\n",
              "    </tr>\n",
              "    <tr>\n",
              "      <th>Country</th>\n",
              "      <th></th>\n",
              "      <th></th>\n",
              "      <th></th>\n",
              "      <th></th>\n",
              "      <th></th>\n",
              "    </tr>\n",
              "  </thead>\n",
              "  <tbody>\n",
              "    <tr>\n",
              "      <th>China</th>\n",
              "      <td>70409.603175</td>\n",
              "      <td>53781.460317</td>\n",
              "      <td>3052.833333</td>\n",
              "      <td>4.0</td>\n",
              "      <td>76.0</td>\n",
              "    </tr>\n",
              "    <tr>\n",
              "      <th>Cambodia</th>\n",
              "      <td>63.682540</td>\n",
              "      <td>46.730159</td>\n",
              "      <td>0.000000</td>\n",
              "      <td>0.0</td>\n",
              "      <td>73.0</td>\n",
              "    </tr>\n",
              "    <tr>\n",
              "      <th>Thailand</th>\n",
              "      <td>1349.246032</td>\n",
              "      <td>985.492063</td>\n",
              "      <td>21.420635</td>\n",
              "      <td>2.0</td>\n",
              "      <td>73.0</td>\n",
              "    </tr>\n",
              "    <tr>\n",
              "      <th>Iceland</th>\n",
              "      <td>859.357143</td>\n",
              "      <td>622.515873</td>\n",
              "      <td>4.134921</td>\n",
              "      <td>0.0</td>\n",
              "      <td>72.0</td>\n",
              "    </tr>\n",
              "    <tr>\n",
              "      <th>Saint Lucia</th>\n",
              "      <td>7.730159</td>\n",
              "      <td>5.515873</td>\n",
              "      <td>0.000000</td>\n",
              "      <td>0.0</td>\n",
              "      <td>71.0</td>\n",
              "    </tr>\n",
              "    <tr>\n",
              "      <th>...</th>\n",
              "      <td>...</td>\n",
              "      <td>...</td>\n",
              "      <td>...</td>\n",
              "      <td>...</td>\n",
              "      <td>...</td>\n",
              "    </tr>\n",
              "    <tr>\n",
              "      <th>South Sudan</th>\n",
              "      <td>57.706349</td>\n",
              "      <td>0.579365</td>\n",
              "      <td>0.523810</td>\n",
              "      <td>1.0</td>\n",
              "      <td>1.0</td>\n",
              "    </tr>\n",
              "    <tr>\n",
              "      <th>Netherlands</th>\n",
              "      <td>16469.595238</td>\n",
              "      <td>92.793651</td>\n",
              "      <td>1938.269841</td>\n",
              "      <td>12.0</td>\n",
              "      <td>1.0</td>\n",
              "    </tr>\n",
              "    <tr>\n",
              "      <th>Lesotho</th>\n",
              "      <td>0.150794</td>\n",
              "      <td>0.000000</td>\n",
              "      <td>0.000000</td>\n",
              "      <td>0.0</td>\n",
              "      <td>0.0</td>\n",
              "    </tr>\n",
              "    <tr>\n",
              "      <th>United Kingdom</th>\n",
              "      <td>72623.309524</td>\n",
              "      <td>347.849206</td>\n",
              "      <td>10547.666667</td>\n",
              "      <td>15.0</td>\n",
              "      <td>0.0</td>\n",
              "    </tr>\n",
              "    <tr>\n",
              "      <th>MS Zaandam</th>\n",
              "      <td>4.063492</td>\n",
              "      <td>0.000000</td>\n",
              "      <td>0.888889</td>\n",
              "      <td>22.0</td>\n",
              "      <td>0.0</td>\n",
              "    </tr>\n",
              "  </tbody>\n",
              "</table>\n",
              "<p>188 rows × 5 columns</p>\n",
              "</div>"
            ],
            "text/plain": [
              "                   Confirmed     Recovered  ...  Death_rate  Recovery_rate\n",
              "Country                                     ...                           \n",
              "China           70409.603175  53781.460317  ...         4.0           76.0\n",
              "Cambodia           63.682540     46.730159  ...         0.0           73.0\n",
              "Thailand         1349.246032    985.492063  ...         2.0           73.0\n",
              "Iceland           859.357143    622.515873  ...         0.0           72.0\n",
              "Saint Lucia         7.730159      5.515873  ...         0.0           71.0\n",
              "...                      ...           ...  ...         ...            ...\n",
              "South Sudan        57.706349      0.579365  ...         1.0            1.0\n",
              "Netherlands     16469.595238     92.793651  ...        12.0            1.0\n",
              "Lesotho             0.150794      0.000000  ...         0.0            0.0\n",
              "United Kingdom  72623.309524    347.849206  ...        15.0            0.0\n",
              "MS Zaandam          4.063492      0.000000  ...        22.0            0.0\n",
              "\n",
              "[188 rows x 5 columns]"
            ]
          },
          "metadata": {
            "tags": []
          },
          "execution_count": 15
        }
      ]
    },
    {
      "cell_type": "markdown",
      "metadata": {
        "id": "5ekcCPsLwE6Q"
      },
      "source": [
        "Observations:\r\n",
        "1. Interesting to see that China is leading the Recovery Rate.\r\n",
        "2. United Kingdom is at the last along with Zaandam in the Recovery Rate. Ma be because most of the people infected in UK were in their old age. This may not be true. We need more data to find that."
      ]
    },
    {
      "cell_type": "code",
      "metadata": {
        "colab": {
          "base_uri": "https://localhost:8080/",
          "height": 194
        },
        "id": "55ttY5lzg4ZF",
        "outputId": "a2128837-32c6-415d-ed4b-92db9b2e035e"
      },
      "source": [
        "data['Actives'] = data['Confirmed'] - (data['Recovered'] + data['Deaths'])\r\n",
        "data.head()"
      ],
      "execution_count": 16,
      "outputs": [
        {
          "output_type": "execute_result",
          "data": {
            "text/html": [
              "<div>\n",
              "<style scoped>\n",
              "    .dataframe tbody tr th:only-of-type {\n",
              "        vertical-align: middle;\n",
              "    }\n",
              "\n",
              "    .dataframe tbody tr th {\n",
              "        vertical-align: top;\n",
              "    }\n",
              "\n",
              "    .dataframe thead th {\n",
              "        text-align: right;\n",
              "    }\n",
              "</style>\n",
              "<table border=\"1\" class=\"dataframe\">\n",
              "  <thead>\n",
              "    <tr style=\"text-align: right;\">\n",
              "      <th></th>\n",
              "      <th>Date</th>\n",
              "      <th>Country</th>\n",
              "      <th>Confirmed</th>\n",
              "      <th>Recovered</th>\n",
              "      <th>Deaths</th>\n",
              "      <th>Death_rate</th>\n",
              "      <th>Recovery_rate</th>\n",
              "      <th>Actives</th>\n",
              "    </tr>\n",
              "  </thead>\n",
              "  <tbody>\n",
              "    <tr>\n",
              "      <th>0</th>\n",
              "      <td>2020-01-22</td>\n",
              "      <td>Afghanistan</td>\n",
              "      <td>0</td>\n",
              "      <td>0</td>\n",
              "      <td>0</td>\n",
              "      <td>3</td>\n",
              "      <td>11</td>\n",
              "      <td>0</td>\n",
              "    </tr>\n",
              "    <tr>\n",
              "      <th>1</th>\n",
              "      <td>2020-01-22</td>\n",
              "      <td>Albania</td>\n",
              "      <td>0</td>\n",
              "      <td>0</td>\n",
              "      <td>0</td>\n",
              "      <td>4</td>\n",
              "      <td>62</td>\n",
              "      <td>0</td>\n",
              "    </tr>\n",
              "    <tr>\n",
              "      <th>2</th>\n",
              "      <td>2020-01-22</td>\n",
              "      <td>Algeria</td>\n",
              "      <td>0</td>\n",
              "      <td>0</td>\n",
              "      <td>0</td>\n",
              "      <td>10</td>\n",
              "      <td>45</td>\n",
              "      <td>0</td>\n",
              "    </tr>\n",
              "    <tr>\n",
              "      <th>3</th>\n",
              "      <td>2020-01-22</td>\n",
              "      <td>Andorra</td>\n",
              "      <td>0</td>\n",
              "      <td>0</td>\n",
              "      <td>0</td>\n",
              "      <td>5</td>\n",
              "      <td>50</td>\n",
              "      <td>0</td>\n",
              "    </tr>\n",
              "    <tr>\n",
              "      <th>4</th>\n",
              "      <td>2020-01-22</td>\n",
              "      <td>Angola</td>\n",
              "      <td>0</td>\n",
              "      <td>0</td>\n",
              "      <td>0</td>\n",
              "      <td>7</td>\n",
              "      <td>27</td>\n",
              "      <td>0</td>\n",
              "    </tr>\n",
              "  </tbody>\n",
              "</table>\n",
              "</div>"
            ],
            "text/plain": [
              "         Date      Country  Confirmed  ...  Death_rate  Recovery_rate  Actives\n",
              "0  2020-01-22  Afghanistan          0  ...           3             11        0\n",
              "1  2020-01-22      Albania          0  ...           4             62        0\n",
              "2  2020-01-22      Algeria          0  ...          10             45        0\n",
              "3  2020-01-22      Andorra          0  ...           5             50        0\n",
              "4  2020-01-22       Angola          0  ...           7             27        0\n",
              "\n",
              "[5 rows x 8 columns]"
            ]
          },
          "metadata": {
            "tags": []
          },
          "execution_count": 16
        }
      ]
    },
    {
      "cell_type": "code",
      "metadata": {
        "id": "3iHJyGCvg4X_"
      },
      "source": [
        ""
      ],
      "execution_count": 16,
      "outputs": []
    },
    {
      "cell_type": "markdown",
      "metadata": {
        "id": "XOr0t1A6WaSD"
      },
      "source": [
        "### Data Visualization"
      ]
    },
    {
      "cell_type": "code",
      "metadata": {
        "id": "aiE8YuuYPmAG"
      },
      "source": [
        "import seaborn as sns\r\n",
        "import matplotlib.pyplot as plt\r\n"
      ],
      "execution_count": 17,
      "outputs": []
    },
    {
      "cell_type": "code",
      "metadata": {
        "id": "gWbultYKSbK5"
      },
      "source": [
        "dt=data[['Date','Confirmed','Deaths','Recovered','Actives']].groupby(by='Date').sum()\r\n",
        "dt['Dates'] = dt.index"
      ],
      "execution_count": 18,
      "outputs": []
    },
    {
      "cell_type": "code",
      "metadata": {
        "colab": {
          "base_uri": "https://localhost:8080/",
          "height": 556
        },
        "id": "_45-LpmEPmBq",
        "outputId": "2c560bcb-405d-4f51-f96c-14ce73dd5552"
      },
      "source": [
        "plt.figure(figsize=(25,8))\r\n",
        "sns.lineplot(x=dt['Dates'],y=dt['Confirmed'])\r\n",
        "sns.lineplot(x=dt['Dates'],y=dt['Deaths'])\r\n",
        "sns.lineplot(x=dt['Dates'],y=dt['Recovered'])\r\n",
        "plt.legend(['Confirmed','Deaths','Recovered'])\r\n",
        "plt.xticks(rotation=90)\r\n",
        "plt.show()"
      ],
      "execution_count": 19,
      "outputs": [
        {
          "output_type": "display_data",
          "data": {
            "image/png": "[encoded data removed]",
            "text/plain": [
              "<Figure size 1800x576 with 1 Axes>"
            ]
          },
          "metadata": {
            "tags": [],
            "needs_background": "light"
          }
        }
      ]
    },
    {
      "cell_type": "code",
      "metadata": {
        "colab": {
          "base_uri": "https://localhost:8080/",
          "height": 542
        },
        "id": "6la31ZmMPmGA",
        "outputId": "d87e6de5-7f44-4dad-fdd2-402d5effb766"
      },
      "source": [
        "#Trying plotly\r\n",
        "fig = go.Figure()\r\n",
        "a=go.Scatter(name='Confirmed',x=dt['Dates'],y=dt['Confirmed'])\r\n",
        "b=go.Scatter(name='Recovered',x=dt['Dates'],y=dt['Recovered'])\r\n",
        "c=go.Scatter(name='Deaths',x=dt['Dates'],y=dt['Deaths'])\r\n",
        "d=go.Scatter(name='Actives',x=dt['Dates'],y=dt['Actives'])\r\n",
        "fig.add_traces([a,b,c,d])\r\n",
        "fig.show()"
      ],
      "execution_count": 20,
      "outputs": [
        {
          "output_type": "display_data",
          "data": {
            "text/html": [
              "<html>\n",
              "<head><meta charset=\"utf-8\" /></head>\n",
              "<body>\n",
              "    <div>\n",
              "            <script src=\"https://cdnjs.cloudflare.com/ajax/libs/mathjax/2.7.5/MathJax.js?config=TeX-AMS-MML_SVG\"></script><script type=\"text/javascript\">if (window.MathJax) {MathJax.Hub.Config({SVG: {font: \"STIX-Web\"}});}</script>\n",
              "                <script type=\"text/javascript\">window.PlotlyConfig = {MathJaxConfig: 'local'};</script>\n",
              "        <script src=\"https://cdn.plot.ly/plotly-latest.min.js\"></script>    \n",
              "            <div id=\"a9ca18b5-b5d9-460d-8453-35919c48d49d\" class=\"plotly-graph-div\" style=\"height:525px; width:100%;\"></div>\n",
              "            <script type=\"text/javascript\">\n",
              "                \n",
              "                    window.PLOTLYENV=window.PLOTLYENV || {};\n",
              "                    \n",
              "                if (document.getElementById(\"a9ca18b5-b5d9-460d-8453-35919c48d49d\")) {\n",
              "                    Plotly.newPlot(\n",
              "                        'a9ca18b5-b5d9-460d-8453-35919c48d49d',\n",
              "                        [{\"name\": \"Confirmed\", \"type\": \"scatter\", \"x\": [\"2020-01-22\", \"2020-01-23\", \"2020-01-24\", \"2020-01-25\", \"2020-01-26\", \"2020-01-27\", \"2020-01-28\", \"2020-01-29\", \"2020-01-30\", \"2020-01-31\", \"2020-02-01\", \"2020-02-02\", \"2020-02-03\", \"2020-02-04\", \"2020-02-05\", \"2020-02-06\", \"2020-02-07\", \"2020-02-08\", \"2020-02-09\", \"2020-02-10\", \"2020-02-11\", \"2020-02-12\", \"2020-02-13\", \"2020-02-14\", \"2020-02-15\", \"2020-02-16\", \"2020-02-17\", \"2020-02-18\", \"2020-02-19\", \"2020-02-20\", \"2020-02-21\", \"2020-02-22\", \"2020-02-23\", \"2020-02-24\", \"2020-02-25\", \"2020-02-26\", \"2020-02-27\", \"2020-02-28\", \"2020-02-29\", \"2020-03-01\", \"2020-03-02\", \"2020-03-03\", \"2020-03-04\", \"2020-03-05\", \"2020-03-06\", \"2020-03-07\", \"2020-03-08\", \"2020-03-09\", \"2020-03-10\", \"2020-03-11\", \"2020-03-12\", \"2020-03-13\", \"2020-03-14\", \"2020-03-15\", \"2020-03-16\", \"2020-03-17\", \"2020-03-18\", \"2020-03-19\", \"2020-03-20\", \"2020-03-21\", \"2020-03-22\", \"2020-03-23\", \"2020-03-24\", \"2020-03-25\", \"2020-03-26\", \"2020-03-27\", \"2020-03-28\", \"2020-03-29\", \"2020-03-30\", \"2020-03-31\", \"2020-04-01\", \"2020-04-02\", \"2020-04-03\", \"2020-04-04\", \"2020-04-05\", \"2020-04-06\", \"2020-04-07\", \"2020-04-08\", \"2020-04-09\", \"2020-04-10\", \"2020-04-11\", \"2020-04-12\", \"2020-04-13\", \"2020-04-14\", \"2020-04-15\", \"2020-04-16\", \"2020-04-17\", \"2020-04-18\", \"2020-04-19\", \"2020-04-20\", \"2020-04-21\", \"2020-04-22\", \"2020-04-23\", \"2020-04-24\", \"2020-04-25\", \"2020-04-26\", \"2020-04-27\", \"2020-04-28\", \"2020-04-29\", \"2020-04-30\", \"2020-05-01\", \"2020-05-02\", \"2020-05-03\", \"2020-05-04\", \"2020-05-05\", \"2020-05-06\", \"2020-05-07\", \"2020-05-08\", \"2020-05-09\", \"2020-05-10\", \"2020-05-11\", \"2020-05-12\", \"2020-05-13\", \"2020-05-14\", \"2020-05-15\", \"2020-05-16\", \"2020-05-17\", \"2020-05-18\", \"2020-05-19\", \"2020-05-20\", \"2020-05-21\", \"2020-05-22\", \"2020-05-23\", \"2020-05-24\", \"2020-05-25\", \"2020-05-26\"], \"y\": [555, 654, 941, 1434, 2118, 2927, 5578, 6166, 8234, 9927, 12038, 16787, 19881, 23892, 27635, 30794, 34391, 37120, 40150, 42762, 44802, 45221, 60368, 66885, 69030, 71224, 73258, 75136, 75639, 76197, 76819, 78572, 78958, 79561, 80406, 81388, 82746, 84112, 86011, 88369, 90306, 92840, 95120, 97888, 101806, 105848, 109822, 113595, 118623, 125879, 131007, 145225, 156120, 167507, 181653, 197150, 214873, 242632, 272264, 304580, 337022, 378301, 418295, 467817, 529722, 593764, 661174, 720291, 782816, 857608, 933010, 1013863, 1096324, 1176436, 1249743, 1321436, 1396438, 1480232, 1566102, 1658261, 1736412, 1835145, 1905165, 1975566, 2055748, 2152181, 2239990, 2317636, 2400787, 2472109, 2549046, 2624608, 2708403, 2795731, 2881140, 2955033, 3023722, 3097229, 3172287, 3256910, 3345558, 3427584, 3506729, 3583055, 3662691, 3756069, 3845718, 3938064, 4024009, 4101699, 4177502, 4261747, 4347018, 4442163, 4542347, 4634068, 4713620, 4801943, 4897492, 4996472, 5102424, 5210817, 5310362, 5407613, 5495061, 5589626]}, {\"name\": \"Recovered\", \"type\": \"scatter\", \"x\": [\"2020-01-22\", \"2020-01-23\", \"2020-01-24\", \"2020-01-25\", \"2020-01-26\", \"2020-01-27\", \"2020-01-28\", \"2020-01-29\", \"2020-01-30\", \"2020-01-31\", \"2020-02-01\", \"2020-02-02\", \"2020-02-03\", \"2020-02-04\", \"2020-02-05\", \"2020-02-06\", \"2020-02-07\", \"2020-02-08\", \"2020-02-09\", \"2020-02-10\", \"2020-02-11\", \"2020-02-12\", \"2020-02-13\", \"2020-02-14\", \"2020-02-15\", \"2020-02-16\", \"2020-02-17\", \"2020-02-18\", \"2020-02-19\", \"2020-02-20\", \"2020-02-21\", \"2020-02-22\", \"2020-02-23\", \"2020-02-24\", \"2020-02-25\", \"2020-02-26\", \"2020-02-27\", \"2020-02-28\", \"2020-02-29\", \"2020-03-01\", \"2020-03-02\", \"2020-03-03\", \"2020-03-04\", \"2020-03-05\", \"2020-03-06\", \"2020-03-07\", \"2020-03-08\", \"2020-03-09\", \"2020-03-10\", \"2020-03-11\", \"2020-03-12\", \"2020-03-13\", \"2020-03-14\", \"2020-03-15\", \"2020-03-16\", \"2020-03-17\", \"2020-03-18\", \"2020-03-19\", \"2020-03-20\", \"2020-03-21\", \"2020-03-22\", \"2020-03-23\", \"2020-03-24\", \"2020-03-25\", \"2020-03-26\", \"2020-03-27\", \"2020-03-28\", \"2020-03-29\", \"2020-03-30\", \"2020-03-31\", \"2020-04-01\", \"2020-04-02\", \"2020-04-03\", \"2020-04-04\", \"2020-04-05\", \"2020-04-06\", \"2020-04-07\", \"2020-04-08\", \"2020-04-09\", \"2020-04-10\", \"2020-04-11\", \"2020-04-12\", \"2020-04-13\", \"2020-04-14\", \"2020-04-15\", \"2020-04-16\", \"2020-04-17\", \"2020-04-18\", \"2020-04-19\", \"2020-04-20\", \"2020-04-21\", \"2020-04-22\", \"2020-04-23\", \"2020-04-24\", \"2020-04-25\", \"2020-04-26\", \"2020-04-27\", \"2020-04-28\", \"2020-04-29\", \"2020-04-30\", \"2020-05-01\", \"2020-05-02\", \"2020-05-03\", \"2020-05-04\", \"2020-05-05\", \"2020-05-06\", \"2020-05-07\", \"2020-05-08\", \"2020-05-09\", \"2020-05-10\", \"2020-05-11\", \"2020-05-12\", \"2020-05-13\", \"2020-05-14\", \"2020-05-15\", \"2020-05-16\", \"2020-05-17\", \"2020-05-18\", \"2020-05-19\", \"2020-05-20\", \"2020-05-21\", \"2020-05-22\", \"2020-05-23\", \"2020-05-24\", \"2020-05-25\", \"2020-05-26\"], \"y\": [28, 30, 36, 39, 52, 61, 107, 126, 143, 222, 284, 472, 623, 852, 1124, 1487, 2011, 2616, 3244, 3946, 4683, 5150, 6295, 8058, 9395, 10865, 12583, 14352, 16121, 18177, 18890, 22886, 23394, 25227, 27905, 30384, 33277, 36711, 39782, 42716, 45602, 48228, 51170, 53796, 55865, 58358, 60694, 62494, 64404, 67003, 68324, 70251, 72624, 76034, 78088, 80840, 83312, 84975, 87420, 91692, 97899, 98351, 108000, 113787, 122150, 130915, 139415, 149082, 164566, 178034, 193198, 210269, 225814, 246152, 260023, 276534, 300054, 328703, 353989, 376104, 402120, 421722, 448672, 473980, 510516, 541592, 567765, 591719, 623307, 645308, 679905, 710046, 738980, 789585, 817405, 845985, 873677, 906955, 948425, 1013886, 1052415, 1093137, 1125236, 1162724, 1198832, 1245413, 1284741, 1322050, 1375624, 1408980, 1456209, 1493414, 1548547, 1587893, 1637067, 1693197, 1733963, 1786875, 1838995, 1897466, 1948739, 2056643, 2112185, 2168563, 2231738, 2286956]}, {\"name\": \"Deaths\", \"type\": \"scatter\", \"x\": [\"2020-01-22\", \"2020-01-23\", \"2020-01-24\", \"2020-01-25\", \"2020-01-26\", \"2020-01-27\", \"2020-01-28\", \"2020-01-29\", \"2020-01-30\", \"2020-01-31\", \"2020-02-01\", \"2020-02-02\", \"2020-02-03\", \"2020-02-04\", \"2020-02-05\", \"2020-02-06\", \"2020-02-07\", \"2020-02-08\", \"2020-02-09\", \"2020-02-10\", \"2020-02-11\", \"2020-02-12\", \"2020-02-13\", \"2020-02-14\", \"2020-02-15\", \"2020-02-16\", \"2020-02-17\", \"2020-02-18\", \"2020-02-19\", \"2020-02-20\", \"2020-02-21\", \"2020-02-22\", \"2020-02-23\", \"2020-02-24\", \"2020-02-25\", \"2020-02-26\", \"2020-02-27\", \"2020-02-28\", \"2020-02-29\", \"2020-03-01\", \"2020-03-02\", \"2020-03-03\", \"2020-03-04\", \"2020-03-05\", \"2020-03-06\", \"2020-03-07\", \"2020-03-08\", \"2020-03-09\", \"2020-03-10\", \"2020-03-11\", \"2020-03-12\", \"2020-03-13\", \"2020-03-14\", \"2020-03-15\", \"2020-03-16\", \"2020-03-17\", \"2020-03-18\", \"2020-03-19\", \"2020-03-20\", \"2020-03-21\", \"2020-03-22\", \"2020-03-23\", \"2020-03-24\", \"2020-03-25\", \"2020-03-26\", \"2020-03-27\", \"2020-03-28\", \"2020-03-29\", \"2020-03-30\", \"2020-03-31\", \"2020-04-01\", \"2020-04-02\", \"2020-04-03\", \"2020-04-04\", \"2020-04-05\", \"2020-04-06\", \"2020-04-07\", \"2020-04-08\", \"2020-04-09\", \"2020-04-10\", \"2020-04-11\", \"2020-04-12\", \"2020-04-13\", \"2020-04-14\", \"2020-04-15\", \"2020-04-16\", \"2020-04-17\", \"2020-04-18\", \"2020-04-19\", \"2020-04-20\", \"2020-04-21\", \"2020-04-22\", \"2020-04-23\", \"2020-04-24\", \"2020-04-25\", \"2020-04-26\", \"2020-04-27\", \"2020-04-28\", \"2020-04-29\", \"2020-04-30\", \"2020-05-01\", \"2020-05-02\", \"2020-05-03\", \"2020-05-04\", \"2020-05-05\", \"2020-05-06\", \"2020-05-07\", \"2020-05-08\", \"2020-05-09\", \"2020-05-10\", \"2020-05-11\", \"2020-05-12\", \"2020-05-13\", \"2020-05-14\", \"2020-05-15\", \"2020-05-16\", \"2020-05-17\", \"2020-05-18\", \"2020-05-19\", \"2020-05-20\", \"2020-05-21\", \"2020-05-22\", \"2020-05-23\", \"2020-05-24\", \"2020-05-25\", \"2020-05-26\"], \"y\": [17, 18, 26, 42, 56, 82, 131, 133, 171, 213, 259, 362, 426, 492, 564, 634, 719, 806, 906, 1013, 1113, 1118, 1371, 1523, 1666, 1770, 1868, 2007, 2122, 2247, 2251, 2458, 2469, 2629, 2708, 2770, 2814, 2872, 2941, 2996, 3085, 3160, 3254, 3347, 3459, 3558, 3801, 3987, 4263, 4614, 4912, 5409, 5832, 6473, 7151, 7957, 8824, 9947, 11423, 13125, 14826, 16759, 19017, 21789, 24788, 28292, 31811, 35323, 39443, 44238, 49685, 55834, 61826, 67996, 73077, 78767, 86662, 93354, 100915, 108137, 114170, 119853, 125561, 132439, 140685, 147963, 156821, 163236, 167772, 173124, 180236, 186912, 193665, 199997, 206187, 209900, 214444, 220801, 227665, 233360, 238619, 243813, 247470, 251537, 257239, 263855, 269567, 274898, 279311, 282709, 286330, 291942, 297197, 302418, 307666, 311781, 315185, 318481, 323285, 328115, 332924, 338160, 342097, 345059, 346232, 350453]}, {\"name\": \"Actives\", \"type\": \"scatter\", \"x\": [\"2020-01-22\", \"2020-01-23\", \"2020-01-24\", \"2020-01-25\", \"2020-01-26\", \"2020-01-27\", \"2020-01-28\", \"2020-01-29\", \"2020-01-30\", \"2020-01-31\", \"2020-02-01\", \"2020-02-02\", \"2020-02-03\", \"2020-02-04\", \"2020-02-05\", \"2020-02-06\", \"2020-02-07\", \"2020-02-08\", \"2020-02-09\", \"2020-02-10\", \"2020-02-11\", \"2020-02-12\", \"2020-02-13\", \"2020-02-14\", \"2020-02-15\", \"2020-02-16\", \"2020-02-17\", \"2020-02-18\", \"2020-02-19\", \"2020-02-20\", \"2020-02-21\", \"2020-02-22\", \"2020-02-23\", \"2020-02-24\", \"2020-02-25\", \"2020-02-26\", \"2020-02-27\", \"2020-02-28\", \"2020-02-29\", \"2020-03-01\", \"2020-03-02\", \"2020-03-03\", \"2020-03-04\", \"2020-03-05\", \"2020-03-06\", \"2020-03-07\", \"2020-03-08\", \"2020-03-09\", \"2020-03-10\", \"2020-03-11\", \"2020-03-12\", \"2020-03-13\", \"2020-03-14\", \"2020-03-15\", \"2020-03-16\", \"2020-03-17\", \"2020-03-18\", \"2020-03-19\", \"2020-03-20\", \"2020-03-21\", \"2020-03-22\", \"2020-03-23\", \"2020-03-24\", \"2020-03-25\", \"2020-03-26\", \"2020-03-27\", \"2020-03-28\", \"2020-03-29\", \"2020-03-30\", \"2020-03-31\", \"2020-04-01\", \"2020-04-02\", \"2020-04-03\", \"2020-04-04\", \"2020-04-05\", \"2020-04-06\", \"2020-04-07\", \"2020-04-08\", \"2020-04-09\", \"2020-04-10\", \"2020-04-11\", \"2020-04-12\", \"2020-04-13\", \"2020-04-14\", \"2020-04-15\", \"2020-04-16\", \"2020-04-17\", \"2020-04-18\", \"2020-04-19\", \"2020-04-20\", \"2020-04-21\", \"2020-04-22\", \"2020-04-23\", \"2020-04-24\", \"2020-04-25\", \"2020-04-26\", \"2020-04-27\", \"2020-04-28\", \"2020-04-29\", \"2020-04-30\", \"2020-05-01\", \"2020-05-02\", \"2020-05-03\", \"2020-05-04\", \"2020-05-05\", \"2020-05-06\", \"2020-05-07\", \"2020-05-08\", \"2020-05-09\", \"2020-05-10\", \"2020-05-11\", \"2020-05-12\", \"2020-05-13\", \"2020-05-14\", \"2020-05-15\", \"2020-05-16\", \"2020-05-17\", \"2020-05-18\", \"2020-05-19\", \"2020-05-20\", \"2020-05-21\", \"2020-05-22\", \"2020-05-23\", \"2020-05-24\", \"2020-05-25\", \"2020-05-26\"], \"y\": [510, 606, 879, 1353, 2010, 2784, 5340, 5907, 7920, 9492, 11495, 15953, 18832, 22548, 25947, 28673, 31661, 33698, 36000, 37803, 39006, 38953, 52702, 57304, 57969, 58589, 58807, 58777, 57396, 55773, 55678, 53228, 53095, 51705, 49793, 48234, 46655, 44529, 43288, 42657, 41619, 41452, 40696, 40745, 42482, 43932, 45327, 47114, 49956, 54262, 57771, 69565, 77664, 85000, 96414, 108353, 122737, 147710, 173421, 199763, 224297, 263191, 291278, 332241, 382784, 434557, 489948, 535886, 578807, 635336, 690127, 747760, 808684, 862288, 916643, 966135, 1009722, 1058175, 1111198, 1174020, 1220122, 1293570, 1330932, 1369147, 1404547, 1462626, 1515404, 1562681, 1609708, 1653677, 1688905, 1727650, 1775758, 1806149, 1857548, 1899148, 1935601, 1969473, 1996197, 2009664, 2054524, 2090634, 2134023, 2168794, 2206620, 2246801, 2291410, 2341116, 2369074, 2410010, 2434963, 2476391, 2501274, 2551852, 2597614, 2629090, 2664472, 2696587, 2735212, 2770891, 2820761, 2816014, 2856080, 2893991, 2917091, 2952217]}],\n",
              "                        {\"template\": {\"data\": {\"bar\": [{\"error_x\": {\"color\": \"#2a3f5f\"}, \"error_y\": {\"color\": \"#2a3f5f\"}, \"marker\": {\"line\": {\"color\": \"#E5ECF6\", \"width\": 0.5}}, \"type\": \"bar\"}], \"barpolar\": [{\"marker\": {\"line\": {\"color\": \"#E5ECF6\", \"width\": 0.5}}, \"type\": \"barpolar\"}], \"carpet\": [{\"aaxis\": {\"endlinecolor\": \"#2a3f5f\", \"gridcolor\": \"white\", \"linecolor\": \"white\", \"minorgridcolor\": \"white\", \"startlinecolor\": \"#2a3f5f\"}, \"baxis\": {\"endlinecolor\": \"#2a3f5f\", \"gridcolor\": \"white\", \"linecolor\": \"white\", \"minorgridcolor\": \"white\", \"startlinecolor\": \"#2a3f5f\"}, \"type\": \"carpet\"}], \"choropleth\": [{\"colorbar\": {\"outlinewidth\": 0, \"ticks\": \"\"}, \"type\": \"choropleth\"}], \"contour\": [{\"colorbar\": {\"outlinewidth\": 0, \"ticks\": \"\"}, \"colorscale\": [[0.0, \"#0d0887\"], [0.1111111111111111, \"#46039f\"], [0.2222222222222222, \"#7201a8\"], [0.3333333333333333, \"#9c179e\"], [0.4444444444444444, \"#bd3786\"], [0.5555555555555556, \"#d8576b\"], [0.6666666666666666, \"#ed7953\"], [0.7777777777777778, \"#fb9f3a\"], [0.8888888888888888, \"#fdca26\"], [1.0, \"#f0f921\"]], \"type\": \"contour\"}], \"contourcarpet\": [{\"colorbar\": {\"outlinewidth\": 0, \"ticks\": \"\"}, \"type\": \"contourcarpet\"}], \"heatmap\": [{\"colorbar\": {\"outlinewidth\": 0, \"ticks\": \"\"}, \"colorscale\": [[0.0, \"#0d0887\"], [0.1111111111111111, \"#46039f\"], [0.2222222222222222, \"#7201a8\"], [0.3333333333333333, \"#9c179e\"], [0.4444444444444444, \"#bd3786\"], [0.5555555555555556, \"#d8576b\"], [0.6666666666666666, \"#ed7953\"], [0.7777777777777778, \"#fb9f3a\"], [0.8888888888888888, \"#fdca26\"], [1.0, \"#f0f921\"]], \"type\": \"heatmap\"}], \"heatmapgl\": [{\"colorbar\": {\"outlinewidth\": 0, \"ticks\": \"\"}, \"colorscale\": [[0.0, \"#0d0887\"], [0.1111111111111111, \"#46039f\"], [0.2222222222222222, \"#7201a8\"], [0.3333333333333333, \"#9c179e\"], [0.4444444444444444, \"#bd3786\"], [0.5555555555555556, \"#d8576b\"], [0.6666666666666666, \"#ed7953\"], [0.7777777777777778, \"#fb9f3a\"], [0.8888888888888888, \"#fdca26\"], [1.0, \"#f0f921\"]], \"type\": \"heatmapgl\"}], \"histogram\": [{\"marker\": {\"colorbar\": {\"outlinewidth\": 0, \"ticks\": \"\"}}, \"type\": \"histogram\"}], \"histogram2d\": [{\"colorbar\": {\"outlinewidth\": 0, \"ticks\": \"\"}, \"colorscale\": [[0.0, \"#0d0887\"], [0.1111111111111111, \"#46039f\"], [0.2222222222222222, \"#7201a8\"], [0.3333333333333333, \"#9c179e\"], [0.4444444444444444, \"#bd3786\"], [0.5555555555555556, \"#d8576b\"], [0.6666666666666666, \"#ed7953\"], [0.7777777777777778, \"#fb9f3a\"], [0.8888888888888888, \"#fdca26\"], [1.0, \"#f0f921\"]], \"type\": \"histogram2d\"}], \"histogram2dcontour\": [{\"colorbar\": {\"outlinewidth\": 0, \"ticks\": \"\"}, \"colorscale\": [[0.0, \"#0d0887\"], [0.1111111111111111, \"#46039f\"], [0.2222222222222222, \"#7201a8\"], [0.3333333333333333, \"#9c179e\"], [0.4444444444444444, \"#bd3786\"], [0.5555555555555556, \"#d8576b\"], [0.6666666666666666, \"#ed7953\"], [0.7777777777777778, \"#fb9f3a\"], [0.8888888888888888, \"#fdca26\"], [1.0, \"#f0f921\"]], \"type\": \"histogram2dcontour\"}], \"mesh3d\": [{\"colorbar\": {\"outlinewidth\": 0, \"ticks\": \"\"}, \"type\": \"mesh3d\"}], \"parcoords\": [{\"line\": {\"colorbar\": {\"outlinewidth\": 0, \"ticks\": \"\"}}, \"type\": \"parcoords\"}], \"pie\": [{\"automargin\": true, \"type\": \"pie\"}], \"scatter\": [{\"marker\": {\"colorbar\": {\"outlinewidth\": 0, \"ticks\": \"\"}}, \"type\": \"scatter\"}], \"scatter3d\": [{\"line\": {\"colorbar\": {\"outlinewidth\": 0, \"ticks\": \"\"}}, \"marker\": {\"colorbar\": {\"outlinewidth\": 0, \"ticks\": \"\"}}, \"type\": \"scatter3d\"}], \"scattercarpet\": [{\"marker\": {\"colorbar\": {\"outlinewidth\": 0, \"ticks\": \"\"}}, \"type\": \"scattercarpet\"}], \"scattergeo\": [{\"marker\": {\"colorbar\": {\"outlinewidth\": 0, \"ticks\": \"\"}}, \"type\": \"scattergeo\"}], \"scattergl\": [{\"marker\": {\"colorbar\": {\"outlinewidth\": 0, \"ticks\": \"\"}}, \"type\": \"scattergl\"}], \"scattermapbox\": [{\"marker\": {\"colorbar\": {\"outlinewidth\": 0, \"ticks\": \"\"}}, \"type\": \"scattermapbox\"}], \"scatterpolar\": [{\"marker\": {\"colorbar\": {\"outlinewidth\": 0, \"ticks\": \"\"}}, \"type\": \"scatterpolar\"}], \"scatterpolargl\": [{\"marker\": {\"colorbar\": {\"outlinewidth\": 0, \"ticks\": \"\"}}, \"type\": \"scatterpolargl\"}], \"scatterternary\": [{\"marker\": {\"colorbar\": {\"outlinewidth\": 0, \"ticks\": \"\"}}, \"type\": \"scatterternary\"}], \"surface\": [{\"colorbar\": {\"outlinewidth\": 0, \"ticks\": \"\"}, \"colorscale\": [[0.0, \"#0d0887\"], [0.1111111111111111, \"#46039f\"], [0.2222222222222222, \"#7201a8\"], [0.3333333333333333, \"#9c179e\"], [0.4444444444444444, \"#bd3786\"], [0.5555555555555556, \"#d8576b\"], [0.6666666666666666, \"#ed7953\"], [0.7777777777777778, \"#fb9f3a\"], [0.8888888888888888, \"#fdca26\"], [1.0, \"#f0f921\"]], \"type\": \"surface\"}], \"table\": [{\"cells\": {\"fill\": {\"color\": \"#EBF0F8\"}, \"line\": {\"color\": \"white\"}}, \"header\": {\"fill\": {\"color\": \"#C8D4E3\"}, \"line\": {\"color\": \"white\"}}, \"type\": \"table\"}]}, \"layout\": {\"annotationdefaults\": {\"arrowcolor\": \"#2a3f5f\", \"arrowhead\": 0, \"arrowwidth\": 1}, \"coloraxis\": {\"colorbar\": {\"outlinewidth\": 0, \"ticks\": \"\"}}, \"colorscale\": {\"diverging\": [[0, \"#8e0152\"], [0.1, \"#c51b7d\"], [0.2, \"#de77ae\"], [0.3, \"#f1b6da\"], [0.4, \"#fde0ef\"], [0.5, \"#f7f7f7\"], [0.6, \"#e6f5d0\"], [0.7, \"#b8e186\"], [0.8, \"#7fbc41\"], [0.9, \"#4d9221\"], [1, \"#276419\"]], \"sequential\": [[0.0, \"#0d0887\"], [0.1111111111111111, \"#46039f\"], [0.2222222222222222, \"#7201a8\"], [0.3333333333333333, \"#9c179e\"], [0.4444444444444444, \"#bd3786\"], [0.5555555555555556, \"#d8576b\"], [0.6666666666666666, \"#ed7953\"], [0.7777777777777778, \"#fb9f3a\"], [0.8888888888888888, \"#fdca26\"], [1.0, \"#f0f921\"]], \"sequentialminus\": [[0.0, \"#0d0887\"], [0.1111111111111111, \"#46039f\"], [0.2222222222222222, \"#7201a8\"], [0.3333333333333333, \"#9c179e\"], [0.4444444444444444, \"#bd3786\"], [0.5555555555555556, \"#d8576b\"], [0.6666666666666666, \"#ed7953\"], [0.7777777777777778, \"#fb9f3a\"], [0.8888888888888888, \"#fdca26\"], [1.0, \"#f0f921\"]]}, \"colorway\": [\"#636efa\", \"#EF553B\", \"#00cc96\", \"#ab63fa\", \"#FFA15A\", \"#19d3f3\", \"#FF6692\", \"#B6E880\", \"#FF97FF\", \"#FECB52\"], \"font\": {\"color\": \"#2a3f5f\"}, \"geo\": {\"bgcolor\": \"white\", \"lakecolor\": \"white\", \"landcolor\": \"#E5ECF6\", \"showlakes\": true, \"showland\": true, \"subunitcolor\": \"white\"}, \"hoverlabel\": {\"align\": \"left\"}, \"hovermode\": \"closest\", \"mapbox\": {\"style\": \"light\"}, \"paper_bgcolor\": \"white\", \"plot_bgcolor\": \"#E5ECF6\", \"polar\": {\"angularaxis\": {\"gridcolor\": \"white\", \"linecolor\": \"white\", \"ticks\": \"\"}, \"bgcolor\": \"#E5ECF6\", \"radialaxis\": {\"gridcolor\": \"white\", \"linecolor\": \"white\", \"ticks\": \"\"}}, \"scene\": {\"xaxis\": {\"backgroundcolor\": \"#E5ECF6\", \"gridcolor\": \"white\", \"gridwidth\": 2, \"linecolor\": \"white\", \"showbackground\": true, \"ticks\": \"\", \"zerolinecolor\": \"white\"}, \"yaxis\": {\"backgroundcolor\": \"#E5ECF6\", \"gridcolor\": \"white\", \"gridwidth\": 2, \"linecolor\": \"white\", \"showbackground\": true, \"ticks\": \"\", \"zerolinecolor\": \"white\"}, \"zaxis\": {\"backgroundcolor\": \"#E5ECF6\", \"gridcolor\": \"white\", \"gridwidth\": 2, \"linecolor\": \"white\", \"showbackground\": true, \"ticks\": \"\", \"zerolinecolor\": \"white\"}}, \"shapedefaults\": {\"line\": {\"color\": \"#2a3f5f\"}}, \"ternary\": {\"aaxis\": {\"gridcolor\": \"white\", \"linecolor\": \"white\", \"ticks\": \"\"}, \"baxis\": {\"gridcolor\": \"white\", \"linecolor\": \"white\", \"ticks\": \"\"}, \"bgcolor\": \"#E5ECF6\", \"caxis\": {\"gridcolor\": \"white\", \"linecolor\": \"white\", \"ticks\": \"\"}}, \"title\": {\"x\": 0.05}, \"xaxis\": {\"automargin\": true, \"gridcolor\": \"white\", \"linecolor\": \"white\", \"ticks\": \"\", \"title\": {\"standoff\": 15}, \"zerolinecolor\": \"white\", \"zerolinewidth\": 2}, \"yaxis\": {\"automargin\": true, \"gridcolor\": \"white\", \"linecolor\": \"white\", \"ticks\": \"\", \"title\": {\"standoff\": 15}, \"zerolinecolor\": \"white\", \"zerolinewidth\": 2}}}},\n",
              "                        {\"responsive\": true}\n",
              "                    ).then(function(){\n",
              "                            \n",
              "var gd = document.getElementById('a9ca18b5-b5d9-460d-8453-35919c48d49d');\n",
              "var x = new MutationObserver(function (mutations, observer) {{\n",
              "        var display = window.getComputedStyle(gd).display;\n",
              "        if (!display || display === 'none') {{\n",
              "            console.log([gd, 'removed!']);\n",
              "            Plotly.purge(gd);\n",
              "            observer.disconnect();\n",
              "        }}\n",
              "}});\n",
              "\n",
              "// Listen for the removal of the full notebook cells\n",
              "var notebookContainer = gd.closest('#notebook-container');\n",
              "if (notebookContainer) {{\n",
              "    x.observe(notebookContainer, {childList: true});\n",
              "}}\n",
              "\n",
              "// Listen for the clearing of the current output cell\n",
              "var outputEl = gd.closest('.output');\n",
              "if (outputEl) {{\n",
              "    x.observe(outputEl, {childList: true});\n",
              "}}\n",
              "\n",
              "                        })\n",
              "                };\n",
              "                \n",
              "            </script>\n",
              "        </div>\n",
              "</body>\n",
              "</html>"
            ]
          },
          "metadata": {
            "tags": []
          }
        }
      ]
    },
    {
      "cell_type": "markdown",
      "metadata": {
        "id": "H_1hqvslWcJx"
      },
      "source": [
        "1. We can clearly see that the confirmed cases are exponentially rising  since march 2020.This gives us an idea of the spreading rate of COVID 19.\r\n",
        "2. The Recovery is definitely higher than the deaths."
      ]
    },
    {
      "cell_type": "code",
      "metadata": {
        "id": "W8_vHVFYg4L8",
        "colab": {
          "base_uri": "https://localhost:8080/",
          "height": 264
        },
        "outputId": "faf7c4fb-8ab0-4dce-ff2e-3a1394e9d591"
      },
      "source": [
        "cn = data[['Country','Confirmed','Deaths','Recovered','Actives']].groupby(by='Country').sum().sort_values(by='Actives',ascending=False).head(10)\r\n",
        "cn.style.bar()"
      ],
      "execution_count": 21,
      "outputs": [
        {
          "output_type": "execute_result",
          "data": {
            "text/html": [
              "<style  type=\"text/css\" >\n",
              "#T_4c226474_67aa_11eb_9378_0242ac1c0002row0_col0,#T_4c226474_67aa_11eb_9378_0242ac1c0002row0_col1,#T_4c226474_67aa_11eb_9378_0242ac1c0002row0_col2,#T_4c226474_67aa_11eb_9378_0242ac1c0002row0_col3{\n",
              "            width:  10em;\n",
              "             height:  80%;\n",
              "            background:  linear-gradient(90deg,#d65f5f 100.0%, transparent 100.0%);\n",
              "        }#T_4c226474_67aa_11eb_9378_0242ac1c0002row1_col0{\n",
              "            width:  10em;\n",
              "             height:  80%;\n",
              "            background:  linear-gradient(90deg,#d65f5f 12.9%, transparent 12.9%);\n",
              "        }#T_4c226474_67aa_11eb_9378_0242ac1c0002row1_col1{\n",
              "            width:  10em;\n",
              "             height:  80%;\n",
              "            background:  linear-gradient(90deg,#d65f5f 39.9%, transparent 39.9%);\n",
              "        }#T_4c226474_67aa_11eb_9378_0242ac1c0002row1_col2{\n",
              "            width:  10em;\n",
              "             height:  80%;\n",
              "            background:  linear-gradient(90deg,#d65f5f 0.4%, transparent 0.4%);\n",
              "        }#T_4c226474_67aa_11eb_9378_0242ac1c0002row1_col3{\n",
              "            width:  10em;\n",
              "             height:  80%;\n",
              "            background:  linear-gradient(90deg,#d65f5f 13.7%, transparent 13.7%);\n",
              "        }#T_4c226474_67aa_11eb_9378_0242ac1c0002row2_col0,#T_4c226474_67aa_11eb_9378_0242ac1c0002row5_col0{\n",
              "            width:  10em;\n",
              "             height:  80%;\n",
              "            background:  linear-gradient(90deg,#d65f5f 17.8%, transparent 17.8%);\n",
              "        }#T_4c226474_67aa_11eb_9378_0242ac1c0002row2_col1{\n",
              "            width:  10em;\n",
              "             height:  80%;\n",
              "            background:  linear-gradient(90deg,#d65f5f 47.5%, transparent 47.5%);\n",
              "        }#T_4c226474_67aa_11eb_9378_0242ac1c0002row2_col2{\n",
              "            width:  10em;\n",
              "             height:  80%;\n",
              "            background:  linear-gradient(90deg,#d65f5f 51.6%, transparent 51.6%);\n",
              "        }#T_4c226474_67aa_11eb_9378_0242ac1c0002row2_col3{\n",
              "            width:  10em;\n",
              "             height:  80%;\n",
              "            background:  linear-gradient(90deg,#d65f5f 9.5%, transparent 9.5%);\n",
              "        }#T_4c226474_67aa_11eb_9378_0242ac1c0002row3_col0{\n",
              "            width:  10em;\n",
              "             height:  80%;\n",
              "            background:  linear-gradient(90deg,#d65f5f 9.8%, transparent 9.8%);\n",
              "        }#T_4c226474_67aa_11eb_9378_0242ac1c0002row3_col1,#T_4c226474_67aa_11eb_9378_0242ac1c0002row9_col0,#T_4c226474_67aa_11eb_9378_0242ac1c0002row9_col2,#T_4c226474_67aa_11eb_9378_0242ac1c0002row9_col3{\n",
              "            width:  10em;\n",
              "             height:  80%;\n",
              "        }#T_4c226474_67aa_11eb_9378_0242ac1c0002row3_col2{\n",
              "            width:  10em;\n",
              "             height:  80%;\n",
              "            background:  linear-gradient(90deg,#d65f5f 18.7%, transparent 18.7%);\n",
              "        }#T_4c226474_67aa_11eb_9378_0242ac1c0002row3_col3{\n",
              "            width:  10em;\n",
              "             height:  80%;\n",
              "            background:  linear-gradient(90deg,#d65f5f 9.1%, transparent 9.1%);\n",
              "        }#T_4c226474_67aa_11eb_9378_0242ac1c0002row4_col0{\n",
              "            width:  10em;\n",
              "             height:  80%;\n",
              "            background:  linear-gradient(90deg,#d65f5f 12.1%, transparent 12.1%);\n",
              "        }#T_4c226474_67aa_11eb_9378_0242ac1c0002row4_col1{\n",
              "            width:  10em;\n",
              "             height:  80%;\n",
              "            background:  linear-gradient(90deg,#d65f5f 36.1%, transparent 36.1%);\n",
              "        }#T_4c226474_67aa_11eb_9378_0242ac1c0002row4_col2{\n",
              "            width:  10em;\n",
              "             height:  80%;\n",
              "            background:  linear-gradient(90deg,#d65f5f 29.8%, transparent 29.8%);\n",
              "        }#T_4c226474_67aa_11eb_9378_0242ac1c0002row4_col3{\n",
              "            width:  10em;\n",
              "             height:  80%;\n",
              "            background:  linear-gradient(90deg,#d65f5f 7.3%, transparent 7.3%);\n",
              "        }#T_4c226474_67aa_11eb_9378_0242ac1c0002row5_col1{\n",
              "            width:  10em;\n",
              "             height:  80%;\n",
              "            background:  linear-gradient(90deg,#d65f5f 39.1%, transparent 39.1%);\n",
              "        }#T_4c226474_67aa_11eb_9378_0242ac1c0002row5_col2{\n",
              "            width:  10em;\n",
              "             height:  80%;\n",
              "            background:  linear-gradient(90deg,#d65f5f 68.4%, transparent 68.4%);\n",
              "        }#T_4c226474_67aa_11eb_9378_0242ac1c0002row5_col3,#T_4c226474_67aa_11eb_9378_0242ac1c0002row7_col0{\n",
              "            width:  10em;\n",
              "             height:  80%;\n",
              "            background:  linear-gradient(90deg,#d65f5f 6.9%, transparent 6.9%);\n",
              "        }#T_4c226474_67aa_11eb_9378_0242ac1c0002row6_col0{\n",
              "            width:  10em;\n",
              "             height:  80%;\n",
              "            background:  linear-gradient(90deg,#d65f5f 8.4%, transparent 8.4%);\n",
              "        }#T_4c226474_67aa_11eb_9378_0242ac1c0002row6_col1{\n",
              "            width:  10em;\n",
              "             height:  80%;\n",
              "            background:  linear-gradient(90deg,#d65f5f 11.7%, transparent 11.7%);\n",
              "        }#T_4c226474_67aa_11eb_9378_0242ac1c0002row6_col2{\n",
              "            width:  10em;\n",
              "             height:  80%;\n",
              "            background:  linear-gradient(90deg,#d65f5f 31.5%, transparent 31.5%);\n",
              "        }#T_4c226474_67aa_11eb_9378_0242ac1c0002row6_col3{\n",
              "            width:  10em;\n",
              "             height:  80%;\n",
              "            background:  linear-gradient(90deg,#d65f5f 4.1%, transparent 4.1%);\n",
              "        }#T_4c226474_67aa_11eb_9378_0242ac1c0002row7_col1{\n",
              "            width:  10em;\n",
              "             height:  80%;\n",
              "            background:  linear-gradient(90deg,#d65f5f 2.6%, transparent 2.6%);\n",
              "        }#T_4c226474_67aa_11eb_9378_0242ac1c0002row7_col2{\n",
              "            width:  10em;\n",
              "             height:  80%;\n",
              "            background:  linear-gradient(90deg,#d65f5f 34.3%, transparent 34.3%);\n",
              "        }#T_4c226474_67aa_11eb_9378_0242ac1c0002row7_col3{\n",
              "            width:  10em;\n",
              "             height:  80%;\n",
              "            background:  linear-gradient(90deg,#d65f5f 2.3%, transparent 2.3%);\n",
              "        }#T_4c226474_67aa_11eb_9378_0242ac1c0002row8_col0{\n",
              "            width:  10em;\n",
              "             height:  80%;\n",
              "            background:  linear-gradient(90deg,#d65f5f 12.7%, transparent 12.7%);\n",
              "        }#T_4c226474_67aa_11eb_9378_0242ac1c0002row8_col1{\n",
              "            width:  10em;\n",
              "             height:  80%;\n",
              "            background:  linear-gradient(90deg,#d65f5f 7.9%, transparent 7.9%);\n",
              "        }#T_4c226474_67aa_11eb_9378_0242ac1c0002row8_col2{\n",
              "            width:  10em;\n",
              "             height:  80%;\n",
              "            background:  linear-gradient(90deg,#d65f5f 72.4%, transparent 72.4%);\n",
              "        }#T_4c226474_67aa_11eb_9378_0242ac1c0002row8_col3{\n",
              "            width:  10em;\n",
              "             height:  80%;\n",
              "            background:  linear-gradient(90deg,#d65f5f 1.8%, transparent 1.8%);\n",
              "        }#T_4c226474_67aa_11eb_9378_0242ac1c0002row9_col1{\n",
              "            width:  10em;\n",
              "             height:  80%;\n",
              "            background:  linear-gradient(90deg,#d65f5f 5.5%, transparent 5.5%);\n",
              "        }</style><table id=\"T_4c226474_67aa_11eb_9378_0242ac1c0002\" ><thead>    <tr>        <th class=\"blank level0\" ></th>        <th class=\"col_heading level0 col0\" >Confirmed</th>        <th class=\"col_heading level0 col1\" >Deaths</th>        <th class=\"col_heading level0 col2\" >Recovered</th>        <th class=\"col_heading level0 col3\" >Actives</th>    </tr>    <tr>        <th class=\"index_name level0\" >Country</th>        <th class=\"blank\" ></th>        <th class=\"blank\" ></th>        <th class=\"blank\" ></th>        <th class=\"blank\" ></th>    </tr></thead><tbody>\n",
              "                <tr>\n",
              "                        <th id=\"T_4c226474_67aa_11eb_9378_0242ac1c0002level0_row0\" class=\"row_heading level0 row0\" >US</th>\n",
              "                        <td id=\"T_4c226474_67aa_11eb_9378_0242ac1c0002row0_col0\" class=\"data row0 col0\" >57098767</td>\n",
              "                        <td id=\"T_4c226474_67aa_11eb_9378_0242ac1c0002row0_col1\" class=\"data row0 col1\" >3221969</td>\n",
              "                        <td id=\"T_4c226474_67aa_11eb_9378_0242ac1c0002row0_col2\" class=\"data row0 col2\" >8428678</td>\n",
              "                        <td id=\"T_4c226474_67aa_11eb_9378_0242ac1c0002row0_col3\" class=\"data row0 col3\" >45448120</td>\n",
              "            </tr>\n",
              "            <tr>\n",
              "                        <th id=\"T_4c226474_67aa_11eb_9378_0242ac1c0002level0_row1\" class=\"row_heading level0 row1\" >United Kingdom</th>\n",
              "                        <td id=\"T_4c226474_67aa_11eb_9378_0242ac1c0002row1_col0\" class=\"data row1 col0\" >9150537</td>\n",
              "                        <td id=\"T_4c226474_67aa_11eb_9378_0242ac1c0002row1_col1\" class=\"data row1 col1\" >1329006</td>\n",
              "                        <td id=\"T_4c226474_67aa_11eb_9378_0242ac1c0002row1_col2\" class=\"data row1 col2\" >43829</td>\n",
              "                        <td id=\"T_4c226474_67aa_11eb_9378_0242ac1c0002row1_col3\" class=\"data row1 col3\" >7777702</td>\n",
              "            </tr>\n",
              "            <tr>\n",
              "                        <th id=\"T_4c226474_67aa_11eb_9378_0242ac1c0002level0_row2\" class=\"row_heading level0 row2\" >Italy</th>\n",
              "                        <td id=\"T_4c226474_67aa_11eb_9378_0242ac1c0002row2_col0\" class=\"data row2 col0\" >11896347</td>\n",
              "                        <td id=\"T_4c226474_67aa_11eb_9378_0242ac1c0002row2_col1\" class=\"data row2 col1\" >1568276</td>\n",
              "                        <td id=\"T_4c226474_67aa_11eb_9378_0242ac1c0002row2_col2\" class=\"data row2 col2\" >4354815</td>\n",
              "                        <td id=\"T_4c226474_67aa_11eb_9378_0242ac1c0002row2_col3\" class=\"data row2 col3\" >5973256</td>\n",
              "            </tr>\n",
              "            <tr>\n",
              "                        <th id=\"T_4c226474_67aa_11eb_9378_0242ac1c0002level0_row3\" class=\"row_heading level0 row3\" >Russia</th>\n",
              "                        <td id=\"T_4c226474_67aa_11eb_9378_0242ac1c0002row3_col0\" class=\"data row3 col0\" >7459042</td>\n",
              "                        <td id=\"T_4c226474_67aa_11eb_9378_0242ac1c0002row3_col1\" class=\"data row3 col1\" >70758</td>\n",
              "                        <td id=\"T_4c226474_67aa_11eb_9378_0242ac1c0002row3_col2\" class=\"data row3 col2\" >1586423</td>\n",
              "                        <td id=\"T_4c226474_67aa_11eb_9378_0242ac1c0002row3_col3\" class=\"data row3 col3\" >5801861</td>\n",
              "            </tr>\n",
              "            <tr>\n",
              "                        <th id=\"T_4c226474_67aa_11eb_9378_0242ac1c0002level0_row4\" class=\"row_heading level0 row4\" >France</th>\n",
              "                        <td id=\"T_4c226474_67aa_11eb_9378_0242ac1c0002row4_col0\" class=\"data row4 col0\" >8746538</td>\n",
              "                        <td id=\"T_4c226474_67aa_11eb_9378_0242ac1c0002row4_col1\" class=\"data row4 col1\" >1209634</td>\n",
              "                        <td id=\"T_4c226474_67aa_11eb_9378_0242ac1c0002row4_col2\" class=\"data row4 col2\" >2519190</td>\n",
              "                        <td id=\"T_4c226474_67aa_11eb_9378_0242ac1c0002row4_col3\" class=\"data row4 col3\" >5017714</td>\n",
              "            </tr>\n",
              "            <tr>\n",
              "                        <th id=\"T_4c226474_67aa_11eb_9378_0242ac1c0002level0_row5\" class=\"row_heading level0 row5\" >Spain</th>\n",
              "                        <td id=\"T_4c226474_67aa_11eb_9378_0242ac1c0002row5_col0\" class=\"data row5 col0\" >11890691</td>\n",
              "                        <td id=\"T_4c226474_67aa_11eb_9378_0242ac1c0002row5_col1\" class=\"data row5 col1\" >1302010</td>\n",
              "                        <td id=\"T_4c226474_67aa_11eb_9378_0242ac1c0002row5_col2\" class=\"data row5 col2\" >5770271</td>\n",
              "                        <td id=\"T_4c226474_67aa_11eb_9378_0242ac1c0002row5_col3\" class=\"data row5 col3\" >4818410</td>\n",
              "            </tr>\n",
              "            <tr>\n",
              "                        <th id=\"T_4c226474_67aa_11eb_9378_0242ac1c0002level0_row6\" class=\"row_heading level0 row6\" >Brazil</th>\n",
              "                        <td id=\"T_4c226474_67aa_11eb_9378_0242ac1c0002row6_col0\" class=\"data row6 col0\" >6701409</td>\n",
              "                        <td id=\"T_4c226474_67aa_11eb_9378_0242ac1c0002row6_col1\" class=\"data row6 col1\" >438199</td>\n",
              "                        <td id=\"T_4c226474_67aa_11eb_9378_0242ac1c0002row6_col2\" class=\"data row6 col2\" >2666743</td>\n",
              "                        <td id=\"T_4c226474_67aa_11eb_9378_0242ac1c0002row6_col3\" class=\"data row6 col3\" >3596467</td>\n",
              "            </tr>\n",
              "            <tr>\n",
              "                        <th id=\"T_4c226474_67aa_11eb_9378_0242ac1c0002level0_row7\" class=\"row_heading level0 row7\" >Turkey</th>\n",
              "                        <td id=\"T_4c226474_67aa_11eb_9378_0242ac1c0002row7_col0\" class=\"data row7 col0\" >5868751</td>\n",
              "                        <td id=\"T_4c226474_67aa_11eb_9378_0242ac1c0002row7_col1\" class=\"data row7 col1\" >152495</td>\n",
              "                        <td id=\"T_4c226474_67aa_11eb_9378_0242ac1c0002row7_col2\" class=\"data row7 col2\" >2895790</td>\n",
              "                        <td id=\"T_4c226474_67aa_11eb_9378_0242ac1c0002row7_col3\" class=\"data row7 col3\" >2820466</td>\n",
              "            </tr>\n",
              "            <tr>\n",
              "                        <th id=\"T_4c226474_67aa_11eb_9378_0242ac1c0002level0_row8\" class=\"row_heading level0 row8\" >Germany</th>\n",
              "                        <td id=\"T_4c226474_67aa_11eb_9378_0242ac1c0002row8_col0\" class=\"data row8 col0\" >9046257</td>\n",
              "                        <td id=\"T_4c226474_67aa_11eb_9378_0242ac1c0002row8_col1\" class=\"data row8 col1\" >319666</td>\n",
              "                        <td id=\"T_4c226474_67aa_11eb_9378_0242ac1c0002row8_col2\" class=\"data row8 col2\" >6102898</td>\n",
              "                        <td id=\"T_4c226474_67aa_11eb_9378_0242ac1c0002row8_col3\" class=\"data row8 col3\" >2623693</td>\n",
              "            </tr>\n",
              "            <tr>\n",
              "                        <th id=\"T_4c226474_67aa_11eb_9378_0242ac1c0002level0_row9\" class=\"row_heading level0 row9\" >Netherlands</th>\n",
              "                        <td id=\"T_4c226474_67aa_11eb_9378_0242ac1c0002row9_col0\" class=\"data row9 col0\" >2075169</td>\n",
              "                        <td id=\"T_4c226474_67aa_11eb_9378_0242ac1c0002row9_col1\" class=\"data row9 col1\" >244222</td>\n",
              "                        <td id=\"T_4c226474_67aa_11eb_9378_0242ac1c0002row9_col2\" class=\"data row9 col2\" >11692</td>\n",
              "                        <td id=\"T_4c226474_67aa_11eb_9378_0242ac1c0002row9_col3\" class=\"data row9 col3\" >1819255</td>\n",
              "            </tr>\n",
              "    </tbody></table>"
            ],
            "text/plain": [
              "<pandas.io.formats.style.Styler at 0x7fdb25b93dd8>"
            ]
          },
          "metadata": {
            "tags": []
          },
          "execution_count": 21
        }
      ]
    },
    {
      "cell_type": "markdown",
      "metadata": {
        "id": "8vi4C5Yjw3wY"
      },
      "source": [
        "Observations:\r\n",
        "1. US had the most active cases by May 2020.\r\n",
        "2. UK at the 2nd place in the number of active carriers of COVID 19.\r\n",
        "3. The difference between 1st and 2nd place is huge in terms of active carriers with about 37.7 Million. It spreaded quite fast in the US."
      ]
    },
    {
      "cell_type": "markdown",
      "metadata": {
        "id": "_BneFLBJxpF-"
      },
      "source": [
        "Looking at how India handled it."
      ]
    },
    {
      "cell_type": "code",
      "metadata": {
        "id": "vnJeb7qgftiF"
      },
      "source": [
        "\r\n",
        "India_data = pd.pivot_table(data, index=['Country','Date'], values=['Confirmed','Recovered','Deaths','Actives'], aggfunc='sum').loc['India']\r\n",
        "India_data['Dates'] = India_data.index"
      ],
      "execution_count": 22,
      "outputs": []
    },
    {
      "cell_type": "code",
      "metadata": {
        "id": "QzIQ0Xr2i3Wi"
      },
      "source": [
        "from sklearn.preprocessing import StandardScaler"
      ],
      "execution_count": 23,
      "outputs": []
    },
    {
      "cell_type": "code",
      "metadata": {
        "id": "_IYMdwnmftc6"
      },
      "source": [
        "sc = StandardScaler()\r\n",
        "dt1 = pd.DataFrame(sc.fit_transform(dt[['Confirmed','Deaths','Recovered','Actives']]),columns=['Confirmed','Deaths','Recovered','Actives'],index=dt.index)\r\n",
        "dt1['Dates'] = dt1.index\r\n",
        "India_data1 = pd.DataFrame(sc.fit_transform(India_data[['Confirmed','Deaths','Recovered','Actives']]),columns=['Confirmed','Deaths','Recovered','Actives'],index=India_data.index)\r\n",
        "India_data1['Dates'] = India_data1.index"
      ],
      "execution_count": 24,
      "outputs": []
    },
    {
      "cell_type": "code",
      "metadata": {
        "colab": {
          "base_uri": "https://localhost:8080/",
          "height": 561
        },
        "id": "gyQFdmPFftX3",
        "outputId": "6d8d4aa7-3041-4977-e80f-973b358db933"
      },
      "source": [
        "plt.figure(figsize=(20,8))\r\n",
        "plt.title(\"India's Rate of Spread,Rate of Recovery,Rate of death and Actives\")\r\n",
        "sns.lineplot(x=India_data1['Dates'],y=India_data1['Confirmed'])\r\n",
        "sns.lineplot(x=India_data1['Dates'],y=India_data1['Deaths'])\r\n",
        "sns.lineplot(x=India_data1['Dates'],y=India_data1['Recovered'])\r\n",
        "sns.lineplot(x=India_data1['Dates'],y=India_data1['Actives'])\r\n",
        "plt.legend(['India_Confirmed','India_Deaths','India_Recovered','India_Actives'])\r\n",
        "plt.xticks(rotation=90)\r\n",
        "plt.show()"
      ],
      "execution_count": 25,
      "outputs": [
        {
          "output_type": "display_data",
          "data": {
            "image/png": "[encoded data removed]",
            "text/plain": [
              "<Figure size 1440x576 with 1 Axes>"
            ]
          },
          "metadata": {
            "tags": [],
            "needs_background": "light"
          }
        }
      ]
    },
    {
      "cell_type": "markdown",
      "metadata": {
        "id": "vp_OxljUyG7T"
      },
      "source": [
        "Observations - India:\r\n",
        "1. The virus started to exponentialy spread in India after the 1st week of April 2020\r\n",
        "2. The recovery rate was higher than the spreading rate in the begining but after the 1st week of April 2020 the recovery rate really droped and the Death Rate actually increased more than Recovery Rate.\r\n",
        "3. After the surge by mid of May 2020 the recovery rate started increasing and the death rate decreased.\r\n",
        "4. Approximately on 15th,16th and 17th of May 2020, the rate of death was higher than the rate of spread and the rate of recovery."
      ]
    },
    {
      "cell_type": "code",
      "metadata": {
        "colab": {
          "base_uri": "https://localhost:8080/",
          "height": 561
        },
        "id": "IsXA4x59ftbr",
        "outputId": "d4b075cc-fcde-4002-e036-efd8520d580c"
      },
      "source": [
        "plt.figure(figsize=(20,8))\r\n",
        "plt.title(\"World's Rate of Spread,Rate of Recovery,Rate of death and Actives\")\r\n",
        "sns.lineplot(x=dt1['Dates'],y=dt1['Confirmed'])\r\n",
        "sns.lineplot(x=dt1['Dates'],y=dt1['Deaths'])\r\n",
        "sns.lineplot(x=dt1['Dates'],y=dt1['Recovered'])\r\n",
        "sns.lineplot(x=dt1['Dates'],y=dt1['Actives'])\r\n",
        "plt.legend(['World_Confirmed','World_Deaths','World_Recovered','World_Actives'])\r\n",
        "plt.xticks(rotation=90)\r\n",
        "\r\n",
        "plt.show()"
      ],
      "execution_count": 26,
      "outputs": [
        {
          "output_type": "display_data",
          "data": {
            "image/png": "[encoded data removed]",
            "text/plain": [
              "<Figure size 1440x576 with 1 Axes>"
            ]
          },
          "metadata": {
            "tags": [],
            "needs_background": "light"
          }
        }
      ]
    },
    {
      "cell_type": "markdown",
      "metadata": {
        "id": "6rxxr8gXz3Rn"
      },
      "source": [
        "Observations - World:\r\n",
        "1. By mid of March 2020, the rate of spread started increasing exponentialy.\r\n",
        "2. By April 2020 the rate of Death was higher than the rate of recovery.\r\n",
        "3. Between mid of April 2020 and mid of May 2020 the Rate of death actually was higher than the rate of spread.\r\n",
        "4. After that the rate of Recovery started gaining momentum."
      ]
    },
    {
      "cell_type": "code",
      "metadata": {
        "colab": {
          "base_uri": "https://localhost:8080/"
        },
        "id": "3WH-nMkv0tSH",
        "outputId": "66a51583-4b9c-48b2-baf7-6428017088e2"
      },
      "source": [
        "data.columns"
      ],
      "execution_count": 27,
      "outputs": [
        {
          "output_type": "execute_result",
          "data": {
            "text/plain": [
              "Index(['Date', 'Country', 'Confirmed', 'Recovered', 'Deaths', 'Death_rate',\n",
              "       'Recovery_rate', 'Actives'],\n",
              "      dtype='object')"
            ]
          },
          "metadata": {
            "tags": []
          },
          "execution_count": 27
        }
      ]
    },
    {
      "cell_type": "code",
      "metadata": {
        "id": "KDgVZV4_1BFd"
      },
      "source": [
        "from scipy.stats import norm"
      ],
      "execution_count": 28,
      "outputs": []
    },
    {
      "cell_type": "code",
      "metadata": {
        "colab": {
          "base_uri": "https://localhost:8080/",
          "height": 1000
        },
        "id": "uZF-EMw9ftWq",
        "outputId": "3df9f39a-159b-4899-bd45-518cd2f4e559"
      },
      "source": [
        "for col in ['Confirmed', 'Recovered', 'Deaths', 'Actives', 'Death_rate','Recovery_rate']:\r\n",
        "  plt.figure(figsize=(7,5))\r\n",
        "  plt.title(col)\r\n",
        "  sns.distplot(x=data[col], fit = norm, hist=False,)\r\n",
        "  plt.show()"
      ],
      "execution_count": 29,
      "outputs": [
        {
          "output_type": "stream",
          "text": [
            "/usr/local/lib/python3.6/dist-packages/seaborn/distributions.py:2557: FutureWarning:\n",
            "\n",
            "`distplot` is a deprecated function and will be removed in a future version. Please adapt your code to use either `displot` (a figure-level function with similar flexibility) or `kdeplot` (an axes-level function for kernel density plots).\n",
            "\n"
          ],
          "name": "stderr"
        },
        {
          "output_type": "display_data",
          "data": {
            "image/png": "[encoded data removed]",
            "text/plain": [
              "<Figure size 504x360 with 1 Axes>"
            ]
          },
          "metadata": {
            "tags": [],
            "needs_background": "light"
          }
        },
        {
          "output_type": "stream",
          "text": [
            "/usr/local/lib/python3.6/dist-packages/seaborn/distributions.py:2557: FutureWarning:\n",
            "\n",
            "`distplot` is a deprecated function and will be removed in a future version. Please adapt your code to use either `displot` (a figure-level function with similar flexibility) or `kdeplot` (an axes-level function for kernel density plots).\n",
            "\n"
          ],
          "name": "stderr"
        },
        {
          "output_type": "display_data",
          "data": {
            "image/png": "[encoded data removed]",
            "text/plain": [
              "<Figure size 504x360 with 1 Axes>"
            ]
          },
          "metadata": {
            "tags": [],
            "needs_background": "light"
          }
        },
        {
          "output_type": "stream",
          "text": [
            "/usr/local/lib/python3.6/dist-packages/seaborn/distributions.py:2557: FutureWarning:\n",
            "\n",
            "`distplot` is a deprecated function and will be removed in a future version. Please adapt your code to use either `displot` (a figure-level function with similar flexibility) or `kdeplot` (an axes-level function for kernel density plots).\n",
            "\n"
          ],
          "name": "stderr"
        },
        {
          "output_type": "display_data",
          "data": {
            "image/png": "[encoded data removed]",
            "text/plain": [
              "<Figure size 504x360 with 1 Axes>"
            ]
          },
          "metadata": {
            "tags": [],
            "needs_background": "light"
          }
        },
        {
          "output_type": "stream",
          "text": [
            "/usr/local/lib/python3.6/dist-packages/seaborn/distributions.py:2557: FutureWarning:\n",
            "\n",
            "`distplot` is a deprecated function and will be removed in a future version. Please adapt your code to use either `displot` (a figure-level function with similar flexibility) or `kdeplot` (an axes-level function for kernel density plots).\n",
            "\n"
          ],
          "name": "stderr"
        },
        {
          "output_type": "display_data",
          "data": {
            "image/png": "[encoded data removed]",
            "text/plain": [
              "<Figure size 504x360 with 1 Axes>"
            ]
          },
          "metadata": {
            "tags": [],
            "needs_background": "light"
          }
        },
        {
          "output_type": "stream",
          "text": [
            "/usr/local/lib/python3.6/dist-packages/seaborn/distributions.py:2557: FutureWarning:\n",
            "\n",
            "`distplot` is a deprecated function and will be removed in a future version. Please adapt your code to use either `displot` (a figure-level function with similar flexibility) or `kdeplot` (an axes-level function for kernel density plots).\n",
            "\n"
          ],
          "name": "stderr"
        },
        {
          "output_type": "display_data",
          "data": {
            "image/png": "[encoded data removed]",
            "text/plain": [
              "<Figure size 504x360 with 1 Axes>"
            ]
          },
          "metadata": {
            "tags": [],
            "needs_background": "light"
          }
        },
        {
          "output_type": "stream",
          "text": [
            "/usr/local/lib/python3.6/dist-packages/seaborn/distributions.py:2557: FutureWarning:\n",
            "\n",
            "`distplot` is a deprecated function and will be removed in a future version. Please adapt your code to use either `displot` (a figure-level function with similar flexibility) or `kdeplot` (an axes-level function for kernel density plots).\n",
            "\n"
          ],
          "name": "stderr"
        },
        {
          "output_type": "display_data",
          "data": {
            "image/png": "[encoded data removed]",
            "text/plain": [
              "<Figure size 504x360 with 1 Axes>"
            ]
          },
          "metadata": {
            "tags": [],
            "needs_background": "light"
          }
        }
      ]
    },
    {
      "cell_type": "markdown",
      "metadata": {
        "id": "nrKAgi3DfsfY"
      },
      "source": [
        ""
      ]
    },
    {
      "cell_type": "code",
      "metadata": {
        "id": "PlvczfKsYESI"
      },
      "source": [
        "import calendar"
      ],
      "execution_count": 30,
      "outputs": []
    },
    {
      "cell_type": "code",
      "metadata": {
        "colab": {
          "base_uri": "https://localhost:8080/",
          "height": 194
        },
        "id": "Qs1FSXBqsTe3",
        "outputId": "b5a2278b-c5fc-47e3-a368-629d772a95f4"
      },
      "source": [
        "data['Month'] = df['Date'].apply(lambda x: calendar.month_abbr[int(x.split('-')[1])])\r\n",
        "data.head()"
      ],
      "execution_count": 31,
      "outputs": [
        {
          "output_type": "execute_result",
          "data": {
            "text/html": [
              "<div>\n",
              "<style scoped>\n",
              "    .dataframe tbody tr th:only-of-type {\n",
              "        vertical-align: middle;\n",
              "    }\n",
              "\n",
              "    .dataframe tbody tr th {\n",
              "        vertical-align: top;\n",
              "    }\n",
              "\n",
              "    .dataframe thead th {\n",
              "        text-align: right;\n",
              "    }\n",
              "</style>\n",
              "<table border=\"1\" class=\"dataframe\">\n",
              "  <thead>\n",
              "    <tr style=\"text-align: right;\">\n",
              "      <th></th>\n",
              "      <th>Date</th>\n",
              "      <th>Country</th>\n",
              "      <th>Confirmed</th>\n",
              "      <th>Recovered</th>\n",
              "      <th>Deaths</th>\n",
              "      <th>Death_rate</th>\n",
              "      <th>Recovery_rate</th>\n",
              "      <th>Actives</th>\n",
              "      <th>Month</th>\n",
              "    </tr>\n",
              "  </thead>\n",
              "  <tbody>\n",
              "    <tr>\n",
              "      <th>0</th>\n",
              "      <td>2020-01-22</td>\n",
              "      <td>Afghanistan</td>\n",
              "      <td>0</td>\n",
              "      <td>0</td>\n",
              "      <td>0</td>\n",
              "      <td>3</td>\n",
              "      <td>11</td>\n",
              "      <td>0</td>\n",
              "      <td>Jan</td>\n",
              "    </tr>\n",
              "    <tr>\n",
              "      <th>1</th>\n",
              "      <td>2020-01-22</td>\n",
              "      <td>Albania</td>\n",
              "      <td>0</td>\n",
              "      <td>0</td>\n",
              "      <td>0</td>\n",
              "      <td>4</td>\n",
              "      <td>62</td>\n",
              "      <td>0</td>\n",
              "      <td>Jan</td>\n",
              "    </tr>\n",
              "    <tr>\n",
              "      <th>2</th>\n",
              "      <td>2020-01-22</td>\n",
              "      <td>Algeria</td>\n",
              "      <td>0</td>\n",
              "      <td>0</td>\n",
              "      <td>0</td>\n",
              "      <td>10</td>\n",
              "      <td>45</td>\n",
              "      <td>0</td>\n",
              "      <td>Jan</td>\n",
              "    </tr>\n",
              "    <tr>\n",
              "      <th>3</th>\n",
              "      <td>2020-01-22</td>\n",
              "      <td>Andorra</td>\n",
              "      <td>0</td>\n",
              "      <td>0</td>\n",
              "      <td>0</td>\n",
              "      <td>5</td>\n",
              "      <td>50</td>\n",
              "      <td>0</td>\n",
              "      <td>Jan</td>\n",
              "    </tr>\n",
              "    <tr>\n",
              "      <th>4</th>\n",
              "      <td>2020-01-22</td>\n",
              "      <td>Angola</td>\n",
              "      <td>0</td>\n",
              "      <td>0</td>\n",
              "      <td>0</td>\n",
              "      <td>7</td>\n",
              "      <td>27</td>\n",
              "      <td>0</td>\n",
              "      <td>Jan</td>\n",
              "    </tr>\n",
              "  </tbody>\n",
              "</table>\n",
              "</div>"
            ],
            "text/plain": [
              "         Date      Country  Confirmed  ...  Recovery_rate  Actives  Month\n",
              "0  2020-01-22  Afghanistan          0  ...             11        0    Jan\n",
              "1  2020-01-22      Albania          0  ...             62        0    Jan\n",
              "2  2020-01-22      Algeria          0  ...             45        0    Jan\n",
              "3  2020-01-22      Andorra          0  ...             50        0    Jan\n",
              "4  2020-01-22       Angola          0  ...             27        0    Jan\n",
              "\n",
              "[5 rows x 9 columns]"
            ]
          },
          "metadata": {
            "tags": []
          },
          "execution_count": 31
        }
      ]
    },
    {
      "cell_type": "code",
      "metadata": {
        "colab": {
          "base_uri": "https://localhost:8080/",
          "height": 194
        },
        "id": "VRsBek5us5hq",
        "outputId": "065845f5-e551-4e98-ddd1-1860525b4076"
      },
      "source": [
        "data['Day'] = df['Date'].apply(lambda x: x.split('-')[2])\r\n",
        "data.head()"
      ],
      "execution_count": 32,
      "outputs": [
        {
          "output_type": "execute_result",
          "data": {
            "text/html": [
              "<div>\n",
              "<style scoped>\n",
              "    .dataframe tbody tr th:only-of-type {\n",
              "        vertical-align: middle;\n",
              "    }\n",
              "\n",
              "    .dataframe tbody tr th {\n",
              "        vertical-align: top;\n",
              "    }\n",
              "\n",
              "    .dataframe thead th {\n",
              "        text-align: right;\n",
              "    }\n",
              "</style>\n",
              "<table border=\"1\" class=\"dataframe\">\n",
              "  <thead>\n",
              "    <tr style=\"text-align: right;\">\n",
              "      <th></th>\n",
              "      <th>Date</th>\n",
              "      <th>Country</th>\n",
              "      <th>Confirmed</th>\n",
              "      <th>Recovered</th>\n",
              "      <th>Deaths</th>\n",
              "      <th>Death_rate</th>\n",
              "      <th>Recovery_rate</th>\n",
              "      <th>Actives</th>\n",
              "      <th>Month</th>\n",
              "      <th>Day</th>\n",
              "    </tr>\n",
              "  </thead>\n",
              "  <tbody>\n",
              "    <tr>\n",
              "      <th>0</th>\n",
              "      <td>2020-01-22</td>\n",
              "      <td>Afghanistan</td>\n",
              "      <td>0</td>\n",
              "      <td>0</td>\n",
              "      <td>0</td>\n",
              "      <td>3</td>\n",
              "      <td>11</td>\n",
              "      <td>0</td>\n",
              "      <td>Jan</td>\n",
              "      <td>22</td>\n",
              "    </tr>\n",
              "    <tr>\n",
              "      <th>1</th>\n",
              "      <td>2020-01-22</td>\n",
              "      <td>Albania</td>\n",
              "      <td>0</td>\n",
              "      <td>0</td>\n",
              "      <td>0</td>\n",
              "      <td>4</td>\n",
              "      <td>62</td>\n",
              "      <td>0</td>\n",
              "      <td>Jan</td>\n",
              "      <td>22</td>\n",
              "    </tr>\n",
              "    <tr>\n",
              "      <th>2</th>\n",
              "      <td>2020-01-22</td>\n",
              "      <td>Algeria</td>\n",
              "      <td>0</td>\n",
              "      <td>0</td>\n",
              "      <td>0</td>\n",
              "      <td>10</td>\n",
              "      <td>45</td>\n",
              "      <td>0</td>\n",
              "      <td>Jan</td>\n",
              "      <td>22</td>\n",
              "    </tr>\n",
              "    <tr>\n",
              "      <th>3</th>\n",
              "      <td>2020-01-22</td>\n",
              "      <td>Andorra</td>\n",
              "      <td>0</td>\n",
              "      <td>0</td>\n",
              "      <td>0</td>\n",
              "      <td>5</td>\n",
              "      <td>50</td>\n",
              "      <td>0</td>\n",
              "      <td>Jan</td>\n",
              "      <td>22</td>\n",
              "    </tr>\n",
              "    <tr>\n",
              "      <th>4</th>\n",
              "      <td>2020-01-22</td>\n",
              "      <td>Angola</td>\n",
              "      <td>0</td>\n",
              "      <td>0</td>\n",
              "      <td>0</td>\n",
              "      <td>7</td>\n",
              "      <td>27</td>\n",
              "      <td>0</td>\n",
              "      <td>Jan</td>\n",
              "      <td>22</td>\n",
              "    </tr>\n",
              "  </tbody>\n",
              "</table>\n",
              "</div>"
            ],
            "text/plain": [
              "         Date      Country  Confirmed  ...  Actives  Month  Day\n",
              "0  2020-01-22  Afghanistan          0  ...        0    Jan   22\n",
              "1  2020-01-22      Albania          0  ...        0    Jan   22\n",
              "2  2020-01-22      Algeria          0  ...        0    Jan   22\n",
              "3  2020-01-22      Andorra          0  ...        0    Jan   22\n",
              "4  2020-01-22       Angola          0  ...        0    Jan   22\n",
              "\n",
              "[5 rows x 10 columns]"
            ]
          },
          "metadata": {
            "tags": []
          },
          "execution_count": 32
        }
      ]
    },
    {
      "cell_type": "code",
      "metadata": {
        "id": "XE_IYitooLFB"
      },
      "source": [
        "month_data = pd.pivot_table(data, index=['Month'], values=['Confirmed','Deaths','Actives','Recovered'], aggfunc='sum')\r\n",
        "day_data = pd.pivot_table(data, index=['Day'], values=['Confirmed','Deaths','Actives','Recovered'], aggfunc='sum')"
      ],
      "execution_count": 33,
      "outputs": []
    },
    {
      "cell_type": "code",
      "metadata": {
        "colab": {
          "base_uri": "https://localhost:8080/",
          "height": 544
        },
        "id": "lK-G1TeiXyB4",
        "outputId": "5f057063-070b-487c-fb99-28bab8884c3c"
      },
      "source": [
        "plt.figure(figsize=(10,7))\r\n",
        "sns.barplot(month_data.index,month_data['Confirmed'])\r\n",
        "plt.show()"
      ],
      "execution_count": 34,
      "outputs": [
        {
          "output_type": "stream",
          "text": [
            "/usr/local/lib/python3.6/dist-packages/seaborn/_decorators.py:43: FutureWarning:\n",
            "\n",
            "Pass the following variables as keyword args: x, y. From version 0.12, the only valid positional argument will be `data`, and passing other arguments without an explicit keyword will result in an error or misinterpretation.\n",
            "\n"
          ],
          "name": "stderr"
        },
        {
          "output_type": "display_data",
          "data": {
            "image/png": "[encoded data removed]",
            "text/plain": [
              "<Figure size 720x504 with 1 Axes>"
            ]
          },
          "metadata": {
            "tags": [],
            "needs_background": "light"
          }
        }
      ]
    },
    {
      "cell_type": "code",
      "metadata": {
        "id": "JqnNrX7EoLF2",
        "colab": {
          "base_uri": "https://localhost:8080/",
          "height": 433
        },
        "outputId": "d5a8482e-0d58-43be-d231-c5dc2c979ad2"
      },
      "source": [
        "corr = data.corr()\r\n",
        "plt.figure(figsize=(10,7))\r\n",
        "sns.heatmap(corr, annot=True)\r\n",
        "plt.show()"
      ],
      "execution_count": 35,
      "outputs": [
        {
          "output_type": "display_data",
          "data": {
            "image/png": "[encoded data removed]",
            "text/plain": [
              "<Figure size 720x504 with 2 Axes>"
            ]
          },
          "metadata": {
            "tags": [],
            "needs_background": "light"
          }
        }
      ]
    },
    {
      "cell_type": "code",
      "metadata": {
        "colab": {
          "base_uri": "https://localhost:8080/",
          "height": 194
        },
        "id": "FIxqNc_gx8Ls",
        "outputId": "a79cede6-1db4-4563-f02f-f7f577e88ba1"
      },
      "source": [
        "data.head()"
      ],
      "execution_count": 36,
      "outputs": [
        {
          "output_type": "execute_result",
          "data": {
            "text/html": [
              "<div>\n",
              "<style scoped>\n",
              "    .dataframe tbody tr th:only-of-type {\n",
              "        vertical-align: middle;\n",
              "    }\n",
              "\n",
              "    .dataframe tbody tr th {\n",
              "        vertical-align: top;\n",
              "    }\n",
              "\n",
              "    .dataframe thead th {\n",
              "        text-align: right;\n",
              "    }\n",
              "</style>\n",
              "<table border=\"1\" class=\"dataframe\">\n",
              "  <thead>\n",
              "    <tr style=\"text-align: right;\">\n",
              "      <th></th>\n",
              "      <th>Date</th>\n",
              "      <th>Country</th>\n",
              "      <th>Confirmed</th>\n",
              "      <th>Recovered</th>\n",
              "      <th>Deaths</th>\n",
              "      <th>Death_rate</th>\n",
              "      <th>Recovery_rate</th>\n",
              "      <th>Actives</th>\n",
              "      <th>Month</th>\n",
              "      <th>Day</th>\n",
              "    </tr>\n",
              "  </thead>\n",
              "  <tbody>\n",
              "    <tr>\n",
              "      <th>0</th>\n",
              "      <td>2020-01-22</td>\n",
              "      <td>Afghanistan</td>\n",
              "      <td>0</td>\n",
              "      <td>0</td>\n",
              "      <td>0</td>\n",
              "      <td>3</td>\n",
              "      <td>11</td>\n",
              "      <td>0</td>\n",
              "      <td>Jan</td>\n",
              "      <td>22</td>\n",
              "    </tr>\n",
              "    <tr>\n",
              "      <th>1</th>\n",
              "      <td>2020-01-22</td>\n",
              "      <td>Albania</td>\n",
              "      <td>0</td>\n",
              "      <td>0</td>\n",
              "      <td>0</td>\n",
              "      <td>4</td>\n",
              "      <td>62</td>\n",
              "      <td>0</td>\n",
              "      <td>Jan</td>\n",
              "      <td>22</td>\n",
              "    </tr>\n",
              "    <tr>\n",
              "      <th>2</th>\n",
              "      <td>2020-01-22</td>\n",
              "      <td>Algeria</td>\n",
              "      <td>0</td>\n",
              "      <td>0</td>\n",
              "      <td>0</td>\n",
              "      <td>10</td>\n",
              "      <td>45</td>\n",
              "      <td>0</td>\n",
              "      <td>Jan</td>\n",
              "      <td>22</td>\n",
              "    </tr>\n",
              "    <tr>\n",
              "      <th>3</th>\n",
              "      <td>2020-01-22</td>\n",
              "      <td>Andorra</td>\n",
              "      <td>0</td>\n",
              "      <td>0</td>\n",
              "      <td>0</td>\n",
              "      <td>5</td>\n",
              "      <td>50</td>\n",
              "      <td>0</td>\n",
              "      <td>Jan</td>\n",
              "      <td>22</td>\n",
              "    </tr>\n",
              "    <tr>\n",
              "      <th>4</th>\n",
              "      <td>2020-01-22</td>\n",
              "      <td>Angola</td>\n",
              "      <td>0</td>\n",
              "      <td>0</td>\n",
              "      <td>0</td>\n",
              "      <td>7</td>\n",
              "      <td>27</td>\n",
              "      <td>0</td>\n",
              "      <td>Jan</td>\n",
              "      <td>22</td>\n",
              "    </tr>\n",
              "  </tbody>\n",
              "</table>\n",
              "</div>"
            ],
            "text/plain": [
              "         Date      Country  Confirmed  ...  Actives  Month  Day\n",
              "0  2020-01-22  Afghanistan          0  ...        0    Jan   22\n",
              "1  2020-01-22      Albania          0  ...        0    Jan   22\n",
              "2  2020-01-22      Algeria          0  ...        0    Jan   22\n",
              "3  2020-01-22      Andorra          0  ...        0    Jan   22\n",
              "4  2020-01-22       Angola          0  ...        0    Jan   22\n",
              "\n",
              "[5 rows x 10 columns]"
            ]
          },
          "metadata": {
            "tags": []
          },
          "execution_count": 36
        }
      ]
    },
    {
      "cell_type": "markdown",
      "metadata": {
        "id": "8OrTMZmDA1ci"
      },
      "source": [
        "Reference: https://www.pluralsight.com/guides/machine-learning-for-time-series-data-in-python"
      ]
    },
    {
      "cell_type": "code",
      "metadata": {
        "colab": {
          "base_uri": "https://localhost:8080/"
        },
        "id": "A9MEMQK85GWY",
        "outputId": "61df2582-5573-4a31-c22a-3aba118bafec"
      },
      "source": [
        "data['Date'] = pd.to_datetime(data['Date'])\r\n",
        "data['Date'] = data['Date'].dt.strftime(\"%Y-%m-%d\")\r\n",
        "data['Month'] = pd.DatetimeIndex(data['Date']).month\r\n",
        "data['Day'] = pd.DatetimeIndex(data['Date']).day\r\n",
        "data['dayofyear'] = pd.DatetimeIndex(data['Date']).dayofyear\r\n",
        "data['weekofyear'] = pd.DatetimeIndex(data['Date']).weekofyear\r\n",
        "data['weekday'] = pd.DatetimeIndex(data['Date']).weekday\r\n",
        "data['quarter'] = pd.DatetimeIndex(data['Date']).quarter\r\n",
        "data['is_month_start'] = pd.DatetimeIndex(data['Date']).is_month_start\r\n",
        "data['is_month_end'] = pd.DatetimeIndex(data['Date']).is_month_end\r\n",
        "data.info()"
      ],
      "execution_count": 37,
      "outputs": [
        {
          "output_type": "stream",
          "text": [
            "<class 'pandas.core.frame.DataFrame'>\n",
            "RangeIndex: 23688 entries, 0 to 23687\n",
            "Data columns (total 16 columns):\n",
            " #   Column          Non-Null Count  Dtype \n",
            "---  ------          --------------  ----- \n",
            " 0   Date            23688 non-null  object\n",
            " 1   Country         23688 non-null  object\n",
            " 2   Confirmed       23688 non-null  int64 \n",
            " 3   Recovered       23688 non-null  int64 \n",
            " 4   Deaths          23688 non-null  int64 \n",
            " 5   Death_rate      23688 non-null  int64 \n",
            " 6   Recovery_rate   23688 non-null  int64 \n",
            " 7   Actives         23688 non-null  int64 \n",
            " 8   Month           23688 non-null  int64 \n",
            " 9   Day             23688 non-null  int64 \n",
            " 10  dayofyear       23688 non-null  int64 \n",
            " 11  weekofyear      23688 non-null  int64 \n",
            " 12  weekday         23688 non-null  int64 \n",
            " 13  quarter         23688 non-null  int64 \n",
            " 14  is_month_start  23688 non-null  bool  \n",
            " 15  is_month_end    23688 non-null  bool  \n",
            "dtypes: bool(2), int64(12), object(2)\n",
            "memory usage: 2.6+ MB\n"
          ],
          "name": "stdout"
        },
        {
          "output_type": "stream",
          "text": [
            "/usr/local/lib/python3.6/dist-packages/ipykernel_launcher.py:6: FutureWarning:\n",
            "\n",
            "weekofyear and week have been deprecated, please use DatetimeIndex.isocalendar().week instead, which returns a Series.  To exactly reproduce the behavior of week and weekofyear and return an Index, you may call pd.Int64Index(idx.isocalendar().week)\n",
            "\n"
          ],
          "name": "stderr"
        }
      ]
    },
    {
      "cell_type": "code",
      "metadata": {
        "colab": {
          "base_uri": "https://localhost:8080/",
          "height": 399
        },
        "id": "NXX0WJRB6G6t",
        "outputId": "2c6cbd92-70e8-443e-e263-257f96136696"
      },
      "source": [
        "data"
      ],
      "execution_count": 38,
      "outputs": [
        {
          "output_type": "execute_result",
          "data": {
            "text/html": [
              "<div>\n",
              "<style scoped>\n",
              "    .dataframe tbody tr th:only-of-type {\n",
              "        vertical-align: middle;\n",
              "    }\n",
              "\n",
              "    .dataframe tbody tr th {\n",
              "        vertical-align: top;\n",
              "    }\n",
              "\n",
              "    .dataframe thead th {\n",
              "        text-align: right;\n",
              "    }\n",
              "</style>\n",
              "<table border=\"1\" class=\"dataframe\">\n",
              "  <thead>\n",
              "    <tr style=\"text-align: right;\">\n",
              "      <th></th>\n",
              "      <th>Date</th>\n",
              "      <th>Country</th>\n",
              "      <th>Confirmed</th>\n",
              "      <th>Recovered</th>\n",
              "      <th>Deaths</th>\n",
              "      <th>Death_rate</th>\n",
              "      <th>Recovery_rate</th>\n",
              "      <th>Actives</th>\n",
              "      <th>Month</th>\n",
              "      <th>Day</th>\n",
              "      <th>dayofyear</th>\n",
              "      <th>weekofyear</th>\n",
              "      <th>weekday</th>\n",
              "      <th>quarter</th>\n",
              "      <th>is_month_start</th>\n",
              "      <th>is_month_end</th>\n",
              "    </tr>\n",
              "  </thead>\n",
              "  <tbody>\n",
              "    <tr>\n",
              "      <th>0</th>\n",
              "      <td>2020-01-22</td>\n",
              "      <td>Afghanistan</td>\n",
              "      <td>0</td>\n",
              "      <td>0</td>\n",
              "      <td>0</td>\n",
              "      <td>3</td>\n",
              "      <td>11</td>\n",
              "      <td>0</td>\n",
              "      <td>1</td>\n",
              "      <td>22</td>\n",
              "      <td>22</td>\n",
              "      <td>4</td>\n",
              "      <td>2</td>\n",
              "      <td>1</td>\n",
              "      <td>False</td>\n",
              "      <td>False</td>\n",
              "    </tr>\n",
              "    <tr>\n",
              "      <th>1</th>\n",
              "      <td>2020-01-22</td>\n",
              "      <td>Albania</td>\n",
              "      <td>0</td>\n",
              "      <td>0</td>\n",
              "      <td>0</td>\n",
              "      <td>4</td>\n",
              "      <td>62</td>\n",
              "      <td>0</td>\n",
              "      <td>1</td>\n",
              "      <td>22</td>\n",
              "      <td>22</td>\n",
              "      <td>4</td>\n",
              "      <td>2</td>\n",
              "      <td>1</td>\n",
              "      <td>False</td>\n",
              "      <td>False</td>\n",
              "    </tr>\n",
              "    <tr>\n",
              "      <th>2</th>\n",
              "      <td>2020-01-22</td>\n",
              "      <td>Algeria</td>\n",
              "      <td>0</td>\n",
              "      <td>0</td>\n",
              "      <td>0</td>\n",
              "      <td>10</td>\n",
              "      <td>45</td>\n",
              "      <td>0</td>\n",
              "      <td>1</td>\n",
              "      <td>22</td>\n",
              "      <td>22</td>\n",
              "      <td>4</td>\n",
              "      <td>2</td>\n",
              "      <td>1</td>\n",
              "      <td>False</td>\n",
              "      <td>False</td>\n",
              "    </tr>\n",
              "    <tr>\n",
              "      <th>3</th>\n",
              "      <td>2020-01-22</td>\n",
              "      <td>Andorra</td>\n",
              "      <td>0</td>\n",
              "      <td>0</td>\n",
              "      <td>0</td>\n",
              "      <td>5</td>\n",
              "      <td>50</td>\n",
              "      <td>0</td>\n",
              "      <td>1</td>\n",
              "      <td>22</td>\n",
              "      <td>22</td>\n",
              "      <td>4</td>\n",
              "      <td>2</td>\n",
              "      <td>1</td>\n",
              "      <td>False</td>\n",
              "      <td>False</td>\n",
              "    </tr>\n",
              "    <tr>\n",
              "      <th>4</th>\n",
              "      <td>2020-01-22</td>\n",
              "      <td>Angola</td>\n",
              "      <td>0</td>\n",
              "      <td>0</td>\n",
              "      <td>0</td>\n",
              "      <td>7</td>\n",
              "      <td>27</td>\n",
              "      <td>0</td>\n",
              "      <td>1</td>\n",
              "      <td>22</td>\n",
              "      <td>22</td>\n",
              "      <td>4</td>\n",
              "      <td>2</td>\n",
              "      <td>1</td>\n",
              "      <td>False</td>\n",
              "      <td>False</td>\n",
              "    </tr>\n",
              "    <tr>\n",
              "      <th>...</th>\n",
              "      <td>...</td>\n",
              "      <td>...</td>\n",
              "      <td>...</td>\n",
              "      <td>...</td>\n",
              "      <td>...</td>\n",
              "      <td>...</td>\n",
              "      <td>...</td>\n",
              "      <td>...</td>\n",
              "      <td>...</td>\n",
              "      <td>...</td>\n",
              "      <td>...</td>\n",
              "      <td>...</td>\n",
              "      <td>...</td>\n",
              "      <td>...</td>\n",
              "      <td>...</td>\n",
              "      <td>...</td>\n",
              "    </tr>\n",
              "    <tr>\n",
              "      <th>23683</th>\n",
              "      <td>2020-05-26</td>\n",
              "      <td>West Bank and Gaza</td>\n",
              "      <td>429</td>\n",
              "      <td>365</td>\n",
              "      <td>3</td>\n",
              "      <td>1</td>\n",
              "      <td>44</td>\n",
              "      <td>61</td>\n",
              "      <td>5</td>\n",
              "      <td>26</td>\n",
              "      <td>147</td>\n",
              "      <td>22</td>\n",
              "      <td>1</td>\n",
              "      <td>2</td>\n",
              "      <td>False</td>\n",
              "      <td>False</td>\n",
              "    </tr>\n",
              "    <tr>\n",
              "      <th>23684</th>\n",
              "      <td>2020-05-26</td>\n",
              "      <td>Western Sahara</td>\n",
              "      <td>9</td>\n",
              "      <td>6</td>\n",
              "      <td>1</td>\n",
              "      <td>0</td>\n",
              "      <td>61</td>\n",
              "      <td>2</td>\n",
              "      <td>5</td>\n",
              "      <td>26</td>\n",
              "      <td>147</td>\n",
              "      <td>22</td>\n",
              "      <td>1</td>\n",
              "      <td>2</td>\n",
              "      <td>False</td>\n",
              "      <td>False</td>\n",
              "    </tr>\n",
              "    <tr>\n",
              "      <th>23685</th>\n",
              "      <td>2020-05-26</td>\n",
              "      <td>Yemen</td>\n",
              "      <td>249</td>\n",
              "      <td>10</td>\n",
              "      <td>49</td>\n",
              "      <td>17</td>\n",
              "      <td>3</td>\n",
              "      <td>190</td>\n",
              "      <td>5</td>\n",
              "      <td>26</td>\n",
              "      <td>147</td>\n",
              "      <td>22</td>\n",
              "      <td>1</td>\n",
              "      <td>2</td>\n",
              "      <td>False</td>\n",
              "      <td>False</td>\n",
              "    </tr>\n",
              "    <tr>\n",
              "      <th>23686</th>\n",
              "      <td>2020-05-26</td>\n",
              "      <td>Zambia</td>\n",
              "      <td>920</td>\n",
              "      <td>336</td>\n",
              "      <td>7</td>\n",
              "      <td>1</td>\n",
              "      <td>35</td>\n",
              "      <td>577</td>\n",
              "      <td>5</td>\n",
              "      <td>26</td>\n",
              "      <td>147</td>\n",
              "      <td>22</td>\n",
              "      <td>1</td>\n",
              "      <td>2</td>\n",
              "      <td>False</td>\n",
              "      <td>False</td>\n",
              "    </tr>\n",
              "    <tr>\n",
              "      <th>23687</th>\n",
              "      <td>2020-05-26</td>\n",
              "      <td>Zimbabwe</td>\n",
              "      <td>56</td>\n",
              "      <td>25</td>\n",
              "      <td>4</td>\n",
              "      <td>11</td>\n",
              "      <td>21</td>\n",
              "      <td>27</td>\n",
              "      <td>5</td>\n",
              "      <td>26</td>\n",
              "      <td>147</td>\n",
              "      <td>22</td>\n",
              "      <td>1</td>\n",
              "      <td>2</td>\n",
              "      <td>False</td>\n",
              "      <td>False</td>\n",
              "    </tr>\n",
              "  </tbody>\n",
              "</table>\n",
              "<p>23688 rows × 16 columns</p>\n",
              "</div>"
            ],
            "text/plain": [
              "             Date             Country  ...  is_month_start  is_month_end\n",
              "0      2020-01-22         Afghanistan  ...           False         False\n",
              "1      2020-01-22             Albania  ...           False         False\n",
              "2      2020-01-22             Algeria  ...           False         False\n",
              "3      2020-01-22             Andorra  ...           False         False\n",
              "4      2020-01-22              Angola  ...           False         False\n",
              "...           ...                 ...  ...             ...           ...\n",
              "23683  2020-05-26  West Bank and Gaza  ...           False         False\n",
              "23684  2020-05-26      Western Sahara  ...           False         False\n",
              "23685  2020-05-26               Yemen  ...           False         False\n",
              "23686  2020-05-26              Zambia  ...           False         False\n",
              "23687  2020-05-26            Zimbabwe  ...           False         False\n",
              "\n",
              "[23688 rows x 16 columns]"
            ]
          },
          "metadata": {
            "tags": []
          },
          "execution_count": 38
        }
      ]
    },
    {
      "cell_type": "code",
      "metadata": {
        "id": "ZOW7nLSj6G43"
      },
      "source": [
        "data.drop(['Date'],axis=1,inplace=True)"
      ],
      "execution_count": 39,
      "outputs": []
    },
    {
      "cell_type": "code",
      "metadata": {
        "colab": {
          "base_uri": "https://localhost:8080/",
          "height": 194
        },
        "id": "unobNEMX6G1p",
        "outputId": "c705170d-d276-467c-e014-f405ec5c2eb6"
      },
      "source": [
        "data.head()"
      ],
      "execution_count": 40,
      "outputs": [
        {
          "output_type": "execute_result",
          "data": {
            "text/html": [
              "<div>\n",
              "<style scoped>\n",
              "    .dataframe tbody tr th:only-of-type {\n",
              "        vertical-align: middle;\n",
              "    }\n",
              "\n",
              "    .dataframe tbody tr th {\n",
              "        vertical-align: top;\n",
              "    }\n",
              "\n",
              "    .dataframe thead th {\n",
              "        text-align: right;\n",
              "    }\n",
              "</style>\n",
              "<table border=\"1\" class=\"dataframe\">\n",
              "  <thead>\n",
              "    <tr style=\"text-align: right;\">\n",
              "      <th></th>\n",
              "      <th>Country</th>\n",
              "      <th>Confirmed</th>\n",
              "      <th>Recovered</th>\n",
              "      <th>Deaths</th>\n",
              "      <th>Death_rate</th>\n",
              "      <th>Recovery_rate</th>\n",
              "      <th>Actives</th>\n",
              "      <th>Month</th>\n",
              "      <th>Day</th>\n",
              "      <th>dayofyear</th>\n",
              "      <th>weekofyear</th>\n",
              "      <th>weekday</th>\n",
              "      <th>quarter</th>\n",
              "      <th>is_month_start</th>\n",
              "      <th>is_month_end</th>\n",
              "    </tr>\n",
              "  </thead>\n",
              "  <tbody>\n",
              "    <tr>\n",
              "      <th>0</th>\n",
              "      <td>Afghanistan</td>\n",
              "      <td>0</td>\n",
              "      <td>0</td>\n",
              "      <td>0</td>\n",
              "      <td>3</td>\n",
              "      <td>11</td>\n",
              "      <td>0</td>\n",
              "      <td>1</td>\n",
              "      <td>22</td>\n",
              "      <td>22</td>\n",
              "      <td>4</td>\n",
              "      <td>2</td>\n",
              "      <td>1</td>\n",
              "      <td>False</td>\n",
              "      <td>False</td>\n",
              "    </tr>\n",
              "    <tr>\n",
              "      <th>1</th>\n",
              "      <td>Albania</td>\n",
              "      <td>0</td>\n",
              "      <td>0</td>\n",
              "      <td>0</td>\n",
              "      <td>4</td>\n",
              "      <td>62</td>\n",
              "      <td>0</td>\n",
              "      <td>1</td>\n",
              "      <td>22</td>\n",
              "      <td>22</td>\n",
              "      <td>4</td>\n",
              "      <td>2</td>\n",
              "      <td>1</td>\n",
              "      <td>False</td>\n",
              "      <td>False</td>\n",
              "    </tr>\n",
              "    <tr>\n",
              "      <th>2</th>\n",
              "      <td>Algeria</td>\n",
              "      <td>0</td>\n",
              "      <td>0</td>\n",
              "      <td>0</td>\n",
              "      <td>10</td>\n",
              "      <td>45</td>\n",
              "      <td>0</td>\n",
              "      <td>1</td>\n",
              "      <td>22</td>\n",
              "      <td>22</td>\n",
              "      <td>4</td>\n",
              "      <td>2</td>\n",
              "      <td>1</td>\n",
              "      <td>False</td>\n",
              "      <td>False</td>\n",
              "    </tr>\n",
              "    <tr>\n",
              "      <th>3</th>\n",
              "      <td>Andorra</td>\n",
              "      <td>0</td>\n",
              "      <td>0</td>\n",
              "      <td>0</td>\n",
              "      <td>5</td>\n",
              "      <td>50</td>\n",
              "      <td>0</td>\n",
              "      <td>1</td>\n",
              "      <td>22</td>\n",
              "      <td>22</td>\n",
              "      <td>4</td>\n",
              "      <td>2</td>\n",
              "      <td>1</td>\n",
              "      <td>False</td>\n",
              "      <td>False</td>\n",
              "    </tr>\n",
              "    <tr>\n",
              "      <th>4</th>\n",
              "      <td>Angola</td>\n",
              "      <td>0</td>\n",
              "      <td>0</td>\n",
              "      <td>0</td>\n",
              "      <td>7</td>\n",
              "      <td>27</td>\n",
              "      <td>0</td>\n",
              "      <td>1</td>\n",
              "      <td>22</td>\n",
              "      <td>22</td>\n",
              "      <td>4</td>\n",
              "      <td>2</td>\n",
              "      <td>1</td>\n",
              "      <td>False</td>\n",
              "      <td>False</td>\n",
              "    </tr>\n",
              "  </tbody>\n",
              "</table>\n",
              "</div>"
            ],
            "text/plain": [
              "       Country  Confirmed  Recovered  ...  quarter  is_month_start  is_month_end\n",
              "0  Afghanistan          0          0  ...        1           False         False\n",
              "1      Albania          0          0  ...        1           False         False\n",
              "2      Algeria          0          0  ...        1           False         False\n",
              "3      Andorra          0          0  ...        1           False         False\n",
              "4       Angola          0          0  ...        1           False         False\n",
              "\n",
              "[5 rows x 15 columns]"
            ]
          },
          "metadata": {
            "tags": []
          },
          "execution_count": 40
        }
      ]
    },
    {
      "cell_type": "markdown",
      "metadata": {
        "id": "OeIc1kVL8muF"
      },
      "source": [
        "### Encoding"
      ]
    },
    {
      "cell_type": "code",
      "metadata": {
        "id": "YzoaRVBfLdlA"
      },
      "source": [
        ""
      ],
      "execution_count": 40,
      "outputs": []
    },
    {
      "cell_type": "code",
      "metadata": {
        "id": "6laZ4o396Gzr"
      },
      "source": [
        "data = pd.get_dummies(data, columns=['Month'], drop_first=True, prefix='month')\r\n",
        "\r\n",
        "data = pd.get_dummies(data, columns=['weekday'], drop_first=True, prefix='wday')\r\n",
        "data = pd.get_dummies(data, columns=['quarter'], drop_first=True, prefix='qrtr')\r\n",
        "\r\n",
        "data = pd.get_dummies(data, columns=['is_month_start'], drop_first=True, prefix='m_start')\r\n",
        "\r\n",
        "data = pd.get_dummies(data, columns=['is_month_end'], drop_first=True, prefix='m_end')\r\n",
        "data = pd.get_dummies(data, columns=['Country'], drop_first=True, prefix='Country')\r\n"
      ],
      "execution_count": 41,
      "outputs": []
    },
    {
      "cell_type": "code",
      "metadata": {
        "colab": {
          "base_uri": "https://localhost:8080/"
        },
        "id": "8bMrn2um6Gvx",
        "outputId": "a7f44b40-51c0-4d61-fb33-3980e31bfae6"
      },
      "source": [
        "data.columns"
      ],
      "execution_count": 42,
      "outputs": [
        {
          "output_type": "execute_result",
          "data": {
            "text/plain": [
              "Index(['Confirmed', 'Recovered', 'Deaths', 'Death_rate', 'Recovery_rate',\n",
              "       'Actives', 'Day', 'dayofyear', 'weekofyear', 'month_2',\n",
              "       ...\n",
              "       'Country_United Kingdom', 'Country_Uruguay', 'Country_Uzbekistan',\n",
              "       'Country_Venezuela', 'Country_Vietnam', 'Country_West Bank and Gaza',\n",
              "       'Country_Western Sahara', 'Country_Yemen', 'Country_Zambia',\n",
              "       'Country_Zimbabwe'],\n",
              "      dtype='object', length=209)"
            ]
          },
          "metadata": {
            "tags": []
          },
          "execution_count": 42
        }
      ]
    },
    {
      "cell_type": "markdown",
      "metadata": {
        "id": "Wzib9hM2FZAh"
      },
      "source": [
        "Splitting into train and test"
      ]
    },
    {
      "cell_type": "code",
      "metadata": {
        "id": "OpikFaq1FYT0"
      },
      "source": [
        "data.drop(['Recovery_rate','Death_rate','Actives'],axis=1,inplace=True)"
      ],
      "execution_count": 43,
      "outputs": []
    },
    {
      "cell_type": "code",
      "metadata": {
        "colab": {
          "base_uri": "https://localhost:8080/",
          "height": 277
        },
        "id": "knGqkF6EzSO0",
        "outputId": "28d0beb4-6df3-4351-cf9c-9b82c301e957"
      },
      "source": [
        "data.head()"
      ],
      "execution_count": 44,
      "outputs": [
        {
          "output_type": "execute_result",
          "data": {
            "text/html": [
              "<div>\n",
              "<style scoped>\n",
              "    .dataframe tbody tr th:only-of-type {\n",
              "        vertical-align: middle;\n",
              "    }\n",
              "\n",
              "    .dataframe tbody tr th {\n",
              "        vertical-align: top;\n",
              "    }\n",
              "\n",
              "    .dataframe thead th {\n",
              "        text-align: right;\n",
              "    }\n",
              "</style>\n",
              "<table border=\"1\" class=\"dataframe\">\n",
              "  <thead>\n",
              "    <tr style=\"text-align: right;\">\n",
              "      <th></th>\n",
              "      <th>Confirmed</th>\n",
              "      <th>Recovered</th>\n",
              "      <th>Deaths</th>\n",
              "      <th>Day</th>\n",
              "      <th>dayofyear</th>\n",
              "      <th>weekofyear</th>\n",
              "      <th>month_2</th>\n",
              "      <th>month_3</th>\n",
              "      <th>month_4</th>\n",
              "      <th>month_5</th>\n",
              "      <th>wday_1</th>\n",
              "      <th>wday_2</th>\n",
              "      <th>wday_3</th>\n",
              "      <th>wday_4</th>\n",
              "      <th>wday_5</th>\n",
              "      <th>wday_6</th>\n",
              "      <th>qrtr_2</th>\n",
              "      <th>m_start_True</th>\n",
              "      <th>m_end_True</th>\n",
              "      <th>Country_Albania</th>\n",
              "      <th>Country_Algeria</th>\n",
              "      <th>Country_Andorra</th>\n",
              "      <th>Country_Angola</th>\n",
              "      <th>Country_Antigua and Barbuda</th>\n",
              "      <th>Country_Argentina</th>\n",
              "      <th>Country_Armenia</th>\n",
              "      <th>Country_Australia</th>\n",
              "      <th>Country_Austria</th>\n",
              "      <th>Country_Azerbaijan</th>\n",
              "      <th>Country_Bahamas</th>\n",
              "      <th>Country_Bahrain</th>\n",
              "      <th>Country_Bangladesh</th>\n",
              "      <th>Country_Barbados</th>\n",
              "      <th>Country_Belarus</th>\n",
              "      <th>Country_Belgium</th>\n",
              "      <th>Country_Belize</th>\n",
              "      <th>Country_Benin</th>\n",
              "      <th>Country_Bhutan</th>\n",
              "      <th>Country_Bolivia</th>\n",
              "      <th>Country_Bosnia and Herzegovina</th>\n",
              "      <th>...</th>\n",
              "      <th>Country_Senegal</th>\n",
              "      <th>Country_Serbia</th>\n",
              "      <th>Country_Seychelles</th>\n",
              "      <th>Country_Sierra Leone</th>\n",
              "      <th>Country_Singapore</th>\n",
              "      <th>Country_Slovakia</th>\n",
              "      <th>Country_Slovenia</th>\n",
              "      <th>Country_Somalia</th>\n",
              "      <th>Country_South Africa</th>\n",
              "      <th>Country_South Sudan</th>\n",
              "      <th>Country_Spain</th>\n",
              "      <th>Country_Sri Lanka</th>\n",
              "      <th>Country_Sudan</th>\n",
              "      <th>Country_Suriname</th>\n",
              "      <th>Country_Sweden</th>\n",
              "      <th>Country_Switzerland</th>\n",
              "      <th>Country_Syria</th>\n",
              "      <th>Country_Taiwan*</th>\n",
              "      <th>Country_Tajikistan</th>\n",
              "      <th>Country_Tanzania</th>\n",
              "      <th>Country_Thailand</th>\n",
              "      <th>Country_Timor-Leste</th>\n",
              "      <th>Country_Togo</th>\n",
              "      <th>Country_Trinidad and Tobago</th>\n",
              "      <th>Country_Tunisia</th>\n",
              "      <th>Country_Turkey</th>\n",
              "      <th>Country_US</th>\n",
              "      <th>Country_Uganda</th>\n",
              "      <th>Country_Ukraine</th>\n",
              "      <th>Country_United Arab Emirates</th>\n",
              "      <th>Country_United Kingdom</th>\n",
              "      <th>Country_Uruguay</th>\n",
              "      <th>Country_Uzbekistan</th>\n",
              "      <th>Country_Venezuela</th>\n",
              "      <th>Country_Vietnam</th>\n",
              "      <th>Country_West Bank and Gaza</th>\n",
              "      <th>Country_Western Sahara</th>\n",
              "      <th>Country_Yemen</th>\n",
              "      <th>Country_Zambia</th>\n",
              "      <th>Country_Zimbabwe</th>\n",
              "    </tr>\n",
              "  </thead>\n",
              "  <tbody>\n",
              "    <tr>\n",
              "      <th>0</th>\n",
              "      <td>0</td>\n",
              "      <td>0</td>\n",
              "      <td>0</td>\n",
              "      <td>22</td>\n",
              "      <td>22</td>\n",
              "      <td>4</td>\n",
              "      <td>0</td>\n",
              "      <td>0</td>\n",
              "      <td>0</td>\n",
              "      <td>0</td>\n",
              "      <td>0</td>\n",
              "      <td>1</td>\n",
              "      <td>0</td>\n",
              "      <td>0</td>\n",
              "      <td>0</td>\n",
              "      <td>0</td>\n",
              "      <td>0</td>\n",
              "      <td>0</td>\n",
              "      <td>0</td>\n",
              "      <td>0</td>\n",
              "      <td>0</td>\n",
              "      <td>0</td>\n",
              "      <td>0</td>\n",
              "      <td>0</td>\n",
              "      <td>0</td>\n",
              "      <td>0</td>\n",
              "      <td>0</td>\n",
              "      <td>0</td>\n",
              "      <td>0</td>\n",
              "      <td>0</td>\n",
              "      <td>0</td>\n",
              "      <td>0</td>\n",
              "      <td>0</td>\n",
              "      <td>0</td>\n",
              "      <td>0</td>\n",
              "      <td>0</td>\n",
              "      <td>0</td>\n",
              "      <td>0</td>\n",
              "      <td>0</td>\n",
              "      <td>0</td>\n",
              "      <td>...</td>\n",
              "      <td>0</td>\n",
              "      <td>0</td>\n",
              "      <td>0</td>\n",
              "      <td>0</td>\n",
              "      <td>0</td>\n",
              "      <td>0</td>\n",
              "      <td>0</td>\n",
              "      <td>0</td>\n",
              "      <td>0</td>\n",
              "      <td>0</td>\n",
              "      <td>0</td>\n",
              "      <td>0</td>\n",
              "      <td>0</td>\n",
              "      <td>0</td>\n",
              "      <td>0</td>\n",
              "      <td>0</td>\n",
              "      <td>0</td>\n",
              "      <td>0</td>\n",
              "      <td>0</td>\n",
              "      <td>0</td>\n",
              "      <td>0</td>\n",
              "      <td>0</td>\n",
              "      <td>0</td>\n",
              "      <td>0</td>\n",
              "      <td>0</td>\n",
              "      <td>0</td>\n",
              "      <td>0</td>\n",
              "      <td>0</td>\n",
              "      <td>0</td>\n",
              "      <td>0</td>\n",
              "      <td>0</td>\n",
              "      <td>0</td>\n",
              "      <td>0</td>\n",
              "      <td>0</td>\n",
              "      <td>0</td>\n",
              "      <td>0</td>\n",
              "      <td>0</td>\n",
              "      <td>0</td>\n",
              "      <td>0</td>\n",
              "      <td>0</td>\n",
              "    </tr>\n",
              "    <tr>\n",
              "      <th>1</th>\n",
              "      <td>0</td>\n",
              "      <td>0</td>\n",
              "      <td>0</td>\n",
              "      <td>22</td>\n",
              "      <td>22</td>\n",
              "      <td>4</td>\n",
              "      <td>0</td>\n",
              "      <td>0</td>\n",
              "      <td>0</td>\n",
              "      <td>0</td>\n",
              "      <td>0</td>\n",
              "      <td>1</td>\n",
              "      <td>0</td>\n",
              "      <td>0</td>\n",
              "      <td>0</td>\n",
              "      <td>0</td>\n",
              "      <td>0</td>\n",
              "      <td>0</td>\n",
              "      <td>0</td>\n",
              "      <td>1</td>\n",
              "      <td>0</td>\n",
              "      <td>0</td>\n",
              "      <td>0</td>\n",
              "      <td>0</td>\n",
              "      <td>0</td>\n",
              "      <td>0</td>\n",
              "      <td>0</td>\n",
              "      <td>0</td>\n",
              "      <td>0</td>\n",
              "      <td>0</td>\n",
              "      <td>0</td>\n",
              "      <td>0</td>\n",
              "      <td>0</td>\n",
              "      <td>0</td>\n",
              "      <td>0</td>\n",
              "      <td>0</td>\n",
              "      <td>0</td>\n",
              "      <td>0</td>\n",
              "      <td>0</td>\n",
              "      <td>0</td>\n",
              "      <td>...</td>\n",
              "      <td>0</td>\n",
              "      <td>0</td>\n",
              "      <td>0</td>\n",
              "      <td>0</td>\n",
              "      <td>0</td>\n",
              "      <td>0</td>\n",
              "      <td>0</td>\n",
              "      <td>0</td>\n",
              "      <td>0</td>\n",
              "      <td>0</td>\n",
              "      <td>0</td>\n",
              "      <td>0</td>\n",
              "      <td>0</td>\n",
              "      <td>0</td>\n",
              "      <td>0</td>\n",
              "      <td>0</td>\n",
              "      <td>0</td>\n",
              "      <td>0</td>\n",
              "      <td>0</td>\n",
              "      <td>0</td>\n",
              "      <td>0</td>\n",
              "      <td>0</td>\n",
              "      <td>0</td>\n",
              "      <td>0</td>\n",
              "      <td>0</td>\n",
              "      <td>0</td>\n",
              "      <td>0</td>\n",
              "      <td>0</td>\n",
              "      <td>0</td>\n",
              "      <td>0</td>\n",
              "      <td>0</td>\n",
              "      <td>0</td>\n",
              "      <td>0</td>\n",
              "      <td>0</td>\n",
              "      <td>0</td>\n",
              "      <td>0</td>\n",
              "      <td>0</td>\n",
              "      <td>0</td>\n",
              "      <td>0</td>\n",
              "      <td>0</td>\n",
              "    </tr>\n",
              "    <tr>\n",
              "      <th>2</th>\n",
              "      <td>0</td>\n",
              "      <td>0</td>\n",
              "      <td>0</td>\n",
              "      <td>22</td>\n",
              "      <td>22</td>\n",
              "      <td>4</td>\n",
              "      <td>0</td>\n",
              "      <td>0</td>\n",
              "      <td>0</td>\n",
              "      <td>0</td>\n",
              "      <td>0</td>\n",
              "      <td>1</td>\n",
              "      <td>0</td>\n",
              "      <td>0</td>\n",
              "      <td>0</td>\n",
              "      <td>0</td>\n",
              "      <td>0</td>\n",
              "      <td>0</td>\n",
              "      <td>0</td>\n",
              "      <td>0</td>\n",
              "      <td>1</td>\n",
              "      <td>0</td>\n",
              "      <td>0</td>\n",
              "      <td>0</td>\n",
              "      <td>0</td>\n",
              "      <td>0</td>\n",
              "      <td>0</td>\n",
              "      <td>0</td>\n",
              "      <td>0</td>\n",
              "      <td>0</td>\n",
              "      <td>0</td>\n",
              "      <td>0</td>\n",
              "      <td>0</td>\n",
              "      <td>0</td>\n",
              "      <td>0</td>\n",
              "      <td>0</td>\n",
              "      <td>0</td>\n",
              "      <td>0</td>\n",
              "      <td>0</td>\n",
              "      <td>0</td>\n",
              "      <td>...</td>\n",
              "      <td>0</td>\n",
              "      <td>0</td>\n",
              "      <td>0</td>\n",
              "      <td>0</td>\n",
              "      <td>0</td>\n",
              "      <td>0</td>\n",
              "      <td>0</td>\n",
              "      <td>0</td>\n",
              "      <td>0</td>\n",
              "      <td>0</td>\n",
              "      <td>0</td>\n",
              "      <td>0</td>\n",
              "      <td>0</td>\n",
              "      <td>0</td>\n",
              "      <td>0</td>\n",
              "      <td>0</td>\n",
              "      <td>0</td>\n",
              "      <td>0</td>\n",
              "      <td>0</td>\n",
              "      <td>0</td>\n",
              "      <td>0</td>\n",
              "      <td>0</td>\n",
              "      <td>0</td>\n",
              "      <td>0</td>\n",
              "      <td>0</td>\n",
              "      <td>0</td>\n",
              "      <td>0</td>\n",
              "      <td>0</td>\n",
              "      <td>0</td>\n",
              "      <td>0</td>\n",
              "      <td>0</td>\n",
              "      <td>0</td>\n",
              "      <td>0</td>\n",
              "      <td>0</td>\n",
              "      <td>0</td>\n",
              "      <td>0</td>\n",
              "      <td>0</td>\n",
              "      <td>0</td>\n",
              "      <td>0</td>\n",
              "      <td>0</td>\n",
              "    </tr>\n",
              "    <tr>\n",
              "      <th>3</th>\n",
              "      <td>0</td>\n",
              "      <td>0</td>\n",
              "      <td>0</td>\n",
              "      <td>22</td>\n",
              "      <td>22</td>\n",
              "      <td>4</td>\n",
              "      <td>0</td>\n",
              "      <td>0</td>\n",
              "      <td>0</td>\n",
              "      <td>0</td>\n",
              "      <td>0</td>\n",
              "      <td>1</td>\n",
              "      <td>0</td>\n",
              "      <td>0</td>\n",
              "      <td>0</td>\n",
              "      <td>0</td>\n",
              "      <td>0</td>\n",
              "      <td>0</td>\n",
              "      <td>0</td>\n",
              "      <td>0</td>\n",
              "      <td>0</td>\n",
              "      <td>1</td>\n",
              "      <td>0</td>\n",
              "      <td>0</td>\n",
              "      <td>0</td>\n",
              "      <td>0</td>\n",
              "      <td>0</td>\n",
              "      <td>0</td>\n",
              "      <td>0</td>\n",
              "      <td>0</td>\n",
              "      <td>0</td>\n",
              "      <td>0</td>\n",
              "      <td>0</td>\n",
              "      <td>0</td>\n",
              "      <td>0</td>\n",
              "      <td>0</td>\n",
              "      <td>0</td>\n",
              "      <td>0</td>\n",
              "      <td>0</td>\n",
              "      <td>0</td>\n",
              "      <td>...</td>\n",
              "      <td>0</td>\n",
              "      <td>0</td>\n",
              "      <td>0</td>\n",
              "      <td>0</td>\n",
              "      <td>0</td>\n",
              "      <td>0</td>\n",
              "      <td>0</td>\n",
              "      <td>0</td>\n",
              "      <td>0</td>\n",
              "      <td>0</td>\n",
              "      <td>0</td>\n",
              "      <td>0</td>\n",
              "      <td>0</td>\n",
              "      <td>0</td>\n",
              "      <td>0</td>\n",
              "      <td>0</td>\n",
              "      <td>0</td>\n",
              "      <td>0</td>\n",
              "      <td>0</td>\n",
              "      <td>0</td>\n",
              "      <td>0</td>\n",
              "      <td>0</td>\n",
              "      <td>0</td>\n",
              "      <td>0</td>\n",
              "      <td>0</td>\n",
              "      <td>0</td>\n",
              "      <td>0</td>\n",
              "      <td>0</td>\n",
              "      <td>0</td>\n",
              "      <td>0</td>\n",
              "      <td>0</td>\n",
              "      <td>0</td>\n",
              "      <td>0</td>\n",
              "      <td>0</td>\n",
              "      <td>0</td>\n",
              "      <td>0</td>\n",
              "      <td>0</td>\n",
              "      <td>0</td>\n",
              "      <td>0</td>\n",
              "      <td>0</td>\n",
              "    </tr>\n",
              "    <tr>\n",
              "      <th>4</th>\n",
              "      <td>0</td>\n",
              "      <td>0</td>\n",
              "      <td>0</td>\n",
              "      <td>22</td>\n",
              "      <td>22</td>\n",
              "      <td>4</td>\n",
              "      <td>0</td>\n",
              "      <td>0</td>\n",
              "      <td>0</td>\n",
              "      <td>0</td>\n",
              "      <td>0</td>\n",
              "      <td>1</td>\n",
              "      <td>0</td>\n",
              "      <td>0</td>\n",
              "      <td>0</td>\n",
              "      <td>0</td>\n",
              "      <td>0</td>\n",
              "      <td>0</td>\n",
              "      <td>0</td>\n",
              "      <td>0</td>\n",
              "      <td>0</td>\n",
              "      <td>0</td>\n",
              "      <td>1</td>\n",
              "      <td>0</td>\n",
              "      <td>0</td>\n",
              "      <td>0</td>\n",
              "      <td>0</td>\n",
              "      <td>0</td>\n",
              "      <td>0</td>\n",
              "      <td>0</td>\n",
              "      <td>0</td>\n",
              "      <td>0</td>\n",
              "      <td>0</td>\n",
              "      <td>0</td>\n",
              "      <td>0</td>\n",
              "      <td>0</td>\n",
              "      <td>0</td>\n",
              "      <td>0</td>\n",
              "      <td>0</td>\n",
              "      <td>0</td>\n",
              "      <td>...</td>\n",
              "      <td>0</td>\n",
              "      <td>0</td>\n",
              "      <td>0</td>\n",
              "      <td>0</td>\n",
              "      <td>0</td>\n",
              "      <td>0</td>\n",
              "      <td>0</td>\n",
              "      <td>0</td>\n",
              "      <td>0</td>\n",
              "      <td>0</td>\n",
              "      <td>0</td>\n",
              "      <td>0</td>\n",
              "      <td>0</td>\n",
              "      <td>0</td>\n",
              "      <td>0</td>\n",
              "      <td>0</td>\n",
              "      <td>0</td>\n",
              "      <td>0</td>\n",
              "      <td>0</td>\n",
              "      <td>0</td>\n",
              "      <td>0</td>\n",
              "      <td>0</td>\n",
              "      <td>0</td>\n",
              "      <td>0</td>\n",
              "      <td>0</td>\n",
              "      <td>0</td>\n",
              "      <td>0</td>\n",
              "      <td>0</td>\n",
              "      <td>0</td>\n",
              "      <td>0</td>\n",
              "      <td>0</td>\n",
              "      <td>0</td>\n",
              "      <td>0</td>\n",
              "      <td>0</td>\n",
              "      <td>0</td>\n",
              "      <td>0</td>\n",
              "      <td>0</td>\n",
              "      <td>0</td>\n",
              "      <td>0</td>\n",
              "      <td>0</td>\n",
              "    </tr>\n",
              "  </tbody>\n",
              "</table>\n",
              "<p>5 rows × 206 columns</p>\n",
              "</div>"
            ],
            "text/plain": [
              "   Confirmed  Recovered  ...  Country_Zambia  Country_Zimbabwe\n",
              "0          0          0  ...               0                 0\n",
              "1          0          0  ...               0                 0\n",
              "2          0          0  ...               0                 0\n",
              "3          0          0  ...               0                 0\n",
              "4          0          0  ...               0                 0\n",
              "\n",
              "[5 rows x 206 columns]"
            ]
          },
          "metadata": {
            "tags": []
          },
          "execution_count": 44
        }
      ]
    },
    {
      "cell_type": "markdown",
      "metadata": {
        "id": "xjuH9abfA57d"
      },
      "source": [
        "Reference: https://medium.com/keita-starts-data-science/time-series-split-with-scikit-learn-74f5be38489e#:~:text=The%20function%20splits%20training%20data,1%20times%20of%20cross%2Dvalidation.\r\n",
        "\r\n",
        "https://scikit-learn.org/stable/modules/generated/sklearn.model_selection.TimeSeriesSplit.html"
      ]
    },
    {
      "cell_type": "code",
      "metadata": {
        "colab": {
          "base_uri": "https://localhost:8080/",
          "height": 451
        },
        "id": "ez-Qnycjkpqb",
        "outputId": "664c01b1-2b47-488d-fb94-cb5911491a0c"
      },
      "source": [
        "corr = data[['Confirmed', 'Recovered', 'Day', 'dayofyear', 'weekofyear', 'month_2',\r\n",
        "       'month_3', 'month_4', 'month_5','Deaths']].corr()\r\n",
        "plt.figure(figsize=(15,7))\r\n",
        "sns.heatmap(corr,annot=True)"
      ],
      "execution_count": 45,
      "outputs": [
        {
          "output_type": "execute_result",
          "data": {
            "text/plain": [
              "<matplotlib.axes._subplots.AxesSubplot at 0x7fdb22f0f1d0>"
            ]
          },
          "metadata": {
            "tags": []
          },
          "execution_count": 45
        },
        {
          "output_type": "display_data",
          "data": {
            "image/png": "[encoded data removed]",
            "text/plain": [
              "<Figure size 1080x504 with 2 Axes>"
            ]
          },
          "metadata": {
            "tags": [],
            "needs_background": "light"
          }
        }
      ]
    },
    {
      "cell_type": "code",
      "metadata": {
        "id": "xauxIGgc6Gqw"
      },
      "source": [
        "x_train = data[:int(data.shape[0]*0.7)].drop(['Deaths'],axis=1)\r\n",
        "x_test = data[int(data.shape[0]*0.7):].drop(['Deaths'],axis=1)\r\n",
        "y_train = data[:int(data.shape[0]*0.7)]['Deaths']\r\n",
        "y_test = data[int(data.shape[0]*0.7):]['Deaths']"
      ],
      "execution_count": 46,
      "outputs": []
    },
    {
      "cell_type": "code",
      "metadata": {
        "colab": {
          "base_uri": "https://localhost:8080/"
        },
        "id": "szqeLFEdI1uy",
        "outputId": "8bf3a09f-d70a-4473-fae7-efe535088fb1"
      },
      "source": [
        "x_train.shape, x_test.shape"
      ],
      "execution_count": 47,
      "outputs": [
        {
          "output_type": "execute_result",
          "data": {
            "text/plain": [
              "((16581, 205), (7107, 205))"
            ]
          },
          "metadata": {
            "tags": []
          },
          "execution_count": 47
        }
      ]
    },
    {
      "cell_type": "markdown",
      "metadata": {
        "id": "caVNQWgnzdNZ"
      },
      "source": [
        "Normalising for PCA"
      ]
    },
    {
      "cell_type": "code",
      "metadata": {
        "id": "1ljJF6I9zcxV"
      },
      "source": [
        "from sklearn.preprocessing import StandardScaler"
      ],
      "execution_count": 48,
      "outputs": []
    },
    {
      "cell_type": "code",
      "metadata": {
        "id": "qPHdZuVPzcvg"
      },
      "source": [
        "sc = StandardScaler()\r\n",
        "x_train_s = sc.fit_transform(x_train)\r\n",
        "x_test_s = sc.transform(x_test)"
      ],
      "execution_count": 49,
      "outputs": []
    },
    {
      "cell_type": "markdown",
      "metadata": {
        "id": "yeQxZuobzwVP"
      },
      "source": [
        "PCA"
      ]
    },
    {
      "cell_type": "code",
      "metadata": {
        "id": "Jx6merq-zcsl",
        "colab": {
          "base_uri": "https://localhost:8080/"
        },
        "outputId": "a78611b4-cd3d-414b-bc06-20d3aa3e8426"
      },
      "source": [
        "#from sklearn.decomposition import PCA\r\n",
        "from statsmodels.multivariate.pca import PCA"
      ],
      "execution_count": 50,
      "outputs": [
        {
          "output_type": "stream",
          "text": [
            "/usr/local/lib/python3.6/dist-packages/statsmodels/tools/_testing.py:19: FutureWarning:\n",
            "\n",
            "pandas.util.testing is deprecated. Use the functions in the public API at pandas.testing instead.\n",
            "\n"
          ],
          "name": "stderr"
        }
      ]
    },
    {
      "cell_type": "code",
      "metadata": {
        "id": "RUyrWptGzcqs"
      },
      "source": [
        "pca = PCA(data, method='eig')\r\n",
        "#x_train_p = pca.fit_transform(x_train_s)\r\n",
        "#x_test_p = pca.transform(x_test_s)\r\n",
        "components_df=pca.factors\r\n",
        "combo = pd.concat([data, components_df], axis=1)\r\n",
        "corr = combo.corr()"
      ],
      "execution_count": 51,
      "outputs": []
    },
    {
      "cell_type": "markdown",
      "metadata": {
        "id": "uC89Fy6i1JVv"
      },
      "source": [
        "TimeSeriesSplit"
      ]
    },
    {
      "cell_type": "code",
      "metadata": {
        "id": "Ic7N-smAh4CN"
      },
      "source": [
        "pip install statsmodels\r\n"
      ],
      "execution_count": null,
      "outputs": []
    },
    {
      "cell_type": "code",
      "metadata": {
        "id": "lfBqVWZD6GpR"
      },
      "source": [
        "from sklearn.model_selection import TimeSeriesSplit\r\n",
        "\r\n",
        "from sklearn.svm import SVR\r\n",
        "from sklearn.tree import DecisionTreeRegressor\r\n",
        "from sklearn.ensemble import RandomForestRegressor\r\n",
        "from xgboost import XGBRegressor\r\n",
        "from sklearn.model_selection import cross_val_score\r\n",
        "import statsmodels.api as sm"
      ],
      "execution_count": 52,
      "outputs": []
    },
    {
      "cell_type": "code",
      "metadata": {
        "colab": {
          "base_uri": "https://localhost:8080/"
        },
        "id": "JCfcc4VUhNRS",
        "outputId": "6e55bc1b-0884-41e6-cc30-183af26c4f6b"
      },
      "source": [
        "est = sm.OLS(y_train, x_train_s).fit()\r\n",
        "print(est.summary())"
      ],
      "execution_count": 60,
      "outputs": [
        {
          "output_type": "stream",
          "text": [
            "                                 OLS Regression Results                                \n",
            "=======================================================================================\n",
            "Dep. Variable:                 Deaths   R-squared (uncentered):                   0.842\n",
            "Model:                            OLS   Adj. R-squared (uncentered):              0.840\n",
            "Method:                 Least Squares   F-statistic:                              432.7\n",
            "Date:                Fri, 05 Feb 2021   Prob (F-statistic):                        0.00\n",
            "Time:                        03:12:24   Log-Likelihood:                     -1.2754e+05\n",
            "No. Observations:               16581   AIC:                                  2.555e+05\n",
            "Df Residuals:                   16380   BIC:                                  2.570e+05\n",
            "Df Model:                         201                                                  \n",
            "Covariance Type:            nonrobust                                                  \n",
            "==============================================================================\n",
            "                 coef    std err          t      P>|t|      [0.025      0.975]\n",
            "------------------------------------------------------------------------------\n",
            "x1          1099.9514      6.212    177.055      0.000    1087.774    1112.129\n",
            "x2           197.0511      7.179     27.450      0.000     182.980     211.122\n",
            "x3             0.5986      4.622      0.130      0.897      -8.460       9.657\n",
            "x4            -3.0167      2.738     -1.102      0.271      -8.384       2.350\n",
            "x5            -3.1805      2.725     -1.167      0.243      -8.521       2.160\n",
            "x6            -2.3034      4.874     -0.473      0.636     -11.856       7.249\n",
            "x7            -9.3266      2.732     -3.413      0.001     -14.683      -3.971\n",
            "x8             5.9362      1.687      3.518      0.000       2.629       9.243\n",
            "const      -5.265e-14   1.13e-13     -0.466      0.641   -2.74e-13    1.69e-13\n",
            "x9             0.8984      5.481      0.164      0.870      -9.844      11.641\n",
            "x10            0.2391      5.570      0.043      0.966     -10.679      11.157\n",
            "x11            0.1067      5.526      0.019      0.985     -10.725      10.938\n",
            "x12            0.8862      5.553      0.160      0.873      -9.998      11.770\n",
            "x13            1.6958      5.573      0.304      0.761      -9.227      12.619\n",
            "x14           -0.2330      5.458     -0.043      0.966     -10.931      10.465\n",
            "x15            5.9362      1.687      3.518      0.000       2.629       9.243\n",
            "x16           -2.5232      4.483     -0.563      0.574     -11.311       6.264\n",
            "x17           -1.6018      4.471     -0.358      0.720     -10.366       7.162\n",
            "x18            0.1107      5.843      0.019      0.985     -11.342      11.564\n",
            "x19            2.3207      5.843      0.397      0.691      -9.132      13.774\n",
            "x20            0.0192      5.843      0.003      0.997     -11.434      11.472\n",
            "x21            0.2828      5.843      0.048      0.961     -11.170      11.736\n",
            "x22            0.2697      5.843      0.046      0.963     -11.183      11.723\n",
            "x23           -0.6116      5.843     -0.105      0.917     -12.065      10.841\n",
            "x24           -0.6527      5.843     -0.112      0.911     -12.106      10.800\n",
            "x25           -6.6810      5.843     -1.143      0.253     -18.134       4.772\n",
            "x26          -13.0145      5.844     -2.227      0.026     -24.469      -1.560\n",
            "x27           -0.5576      5.843     -0.095      0.924     -12.011      10.895\n",
            "x28            0.3220      5.843      0.055      0.956     -11.131      11.775\n",
            "x29           -1.3406      5.843     -0.229      0.819     -12.794      10.112\n",
            "x30            0.1637      5.843      0.028      0.978     -11.289      11.617\n",
            "x31            0.2406      5.843      0.041      0.967     -11.212      11.694\n",
            "x32           -1.4088      5.843     -0.241      0.809     -12.862      10.044\n",
            "x33           20.2991      5.844      3.473      0.001       8.844      31.755\n",
            "x34            0.2743      5.843      0.047      0.963     -11.179      11.727\n",
            "x35            0.2446      5.843      0.042      0.967     -11.208      11.698\n",
            "x36            0.2577      5.843      0.044      0.965     -11.195      11.711\n",
            "x37            0.3038      5.843      0.052      0.959     -11.149      11.757\n",
            "x38           -0.1485      5.843     -0.025      0.980     -11.602      11.304\n",
            "x39            0.2724      5.843      0.047      0.963     -11.181      11.725\n",
            "x40           -2.5669      5.844     -0.439      0.660     -14.021       8.887\n",
            "x41            0.0338      5.843      0.006      0.995     -11.419      11.487\n",
            "x42           -0.0111      5.843     -0.002      0.998     -11.464      11.442\n",
            "x43            0.1622      5.843      0.028      0.978     -11.291      11.615\n",
            "x44            0.2668      5.843      0.046      0.964     -11.186      11.720\n",
            "x45            0.2674      5.843      0.046      0.964     -11.186      11.720\n",
            "x46            0.2671      5.843      0.046      0.964     -11.186      11.720\n",
            "x47            0.0624      5.843      0.011      0.991     -11.391      11.515\n",
            "x48           -0.2297      5.843     -0.039      0.969     -11.683      11.223\n",
            "x49          -13.6850      5.844     -2.342      0.019     -25.140      -2.230\n",
            "x50            0.2548      5.843      0.044      0.965     -11.198      11.708\n",
            "x51            0.2482      5.843      0.042      0.966     -11.205      11.701\n",
            "x52           -6.0319      5.843     -1.032      0.302     -17.485       5.421\n",
            "x53         -202.8880      6.906    -29.376      0.000    -216.425    -189.351\n",
            "x54           -0.7274      5.827     -0.125      0.901     -12.149      10.694\n",
            "x55            0.2801      5.827      0.048      0.962     -11.141      11.701\n",
            "x56            0.2858      5.827      0.049      0.961     -11.135      11.707\n",
            "x57            0.3891      5.827      0.067      0.947     -11.032      11.810\n",
            "x58           -0.2493      5.827     -0.043      0.966     -11.670      11.172\n",
            "x59           -0.1215      5.827     -0.021      0.983     -11.543      11.300\n",
            "x60           -0.9946      5.827     -0.171      0.864     -12.416      10.427\n",
            "x61           -0.0014      5.827     -0.000      1.000     -11.423      11.420\n",
            "x62           -0.1141      5.827     -0.020      0.984     -11.535      11.307\n",
            "x63           -3.7396      5.827     -0.642      0.521     -15.161       7.682\n",
            "x64           -3.0423      5.827     -0.522      0.602     -14.464       8.379\n",
            "x65           -1.9827      5.827     -0.340      0.734     -13.404       9.439\n",
            "x66            0.0726      5.827      0.012      0.990     -11.349      11.494\n",
            "x67            0.2623      5.827      0.045      0.964     -11.159      11.683\n",
            "x68           -0.0265      5.827     -0.005      0.996     -11.448      11.395\n",
            "x69           -0.9341      5.827     -0.160      0.873     -12.355      10.487\n",
            "x70            0.4189      5.827      0.072      0.943     -11.002      11.840\n",
            "x71            0.2497      5.827      0.043      0.966     -11.171      11.671\n",
            "x72            0.2490      5.827      0.043      0.966     -11.172      11.670\n",
            "x73            0.2519      5.827      0.043      0.966     -11.169      11.673\n",
            "x74           -0.7243      5.827     -0.124      0.901     -12.146      10.697\n",
            "x75            0.2662      5.827      0.046      0.964     -11.155      11.687\n",
            "x76            0.2460      5.827      0.042      0.966     -11.175      11.667\n",
            "x77            0.2667      5.827      0.046      0.963     -11.154      11.688\n",
            "x78           -1.9647      5.827     -0.337      0.736     -13.386       9.456\n",
            "x79           85.3825      5.847     14.602      0.000      73.921      96.844\n",
            "x80            0.2610      5.827      0.045      0.964     -11.160      11.682\n",
            "x81            0.2946      5.827      0.051      0.960     -11.127      11.716\n",
            "x82            0.0314      5.827      0.005      0.996     -11.390      11.453\n",
            "x83         -108.8292      5.894    -18.464      0.000    -120.382     -97.276\n",
            "x84           -0.0005      5.827  -8.81e-05      1.000     -11.422      11.421\n",
            "x85           -0.4703      5.827     -0.081      0.936     -11.892      10.951\n",
            "x86            0.2670      5.827      0.046      0.963     -11.154      11.688\n",
            "x87            0.2229      5.827      0.038      0.969     -11.198      11.644\n",
            "x88            0.0801      5.827      0.014      0.989     -11.341      11.501\n",
            "x89            0.2540      5.827      0.044      0.965     -11.167      11.675\n",
            "x90            0.3330      5.827      0.057      0.954     -11.088      11.754\n",
            "x91            0.2766      5.827      0.047      0.962     -11.145      11.698\n",
            "x92            0.2706      5.827      0.046      0.963     -11.151      11.692\n",
            "x93            0.3442      5.827      0.059      0.953     -11.077      11.765\n",
            "x94            0.4222      5.827      0.072      0.942     -10.999      11.843\n",
            "x95           -1.8458      5.827     -0.317      0.751     -13.267       9.575\n",
            "x96           -3.0500      5.827     -0.523      0.601     -14.471       8.371\n",
            "x97            2.1671      5.827      0.372      0.710      -9.254      13.588\n",
            "x98          -12.6127      5.874     -2.147      0.032     -24.126      -1.100\n",
            "x99            0.1307      5.827      0.022      0.982     -11.291      11.552\n",
            "x100          -2.9106      5.827     -0.500      0.617     -14.332       8.511\n",
            "x101          -8.7939      5.827     -1.509      0.131     -20.215       2.628\n",
            "x102         177.3141      5.881     30.148      0.000     165.786     188.842\n",
            "x103           0.2588      5.827      0.044      0.965     -11.162      11.680\n",
            "x104          -3.8142      5.827     -0.655      0.513     -15.235       7.607\n",
            "x105          -0.1136      5.827     -0.019      0.984     -11.535      11.308\n",
            "x106          -0.4512      5.827     -0.077      0.938     -11.872      10.970\n",
            "x107           0.2121      5.827      0.036      0.971     -11.209      11.633\n",
            "x108         -20.0936      5.829     -3.447      0.001     -31.519      -8.668\n",
            "x109           0.1076      5.827      0.018      0.985     -11.314      11.529\n",
            "x110          -0.7844      5.827     -0.135      0.893     -12.206      10.637\n",
            "x111           0.0358      5.827      0.006      0.995     -11.385      11.457\n",
            "x112           0.2652      5.827      0.046      0.964     -11.156      11.686\n",
            "x113          -0.3185      5.827     -0.055      0.956     -11.740      11.103\n",
            "x114          -0.1027      5.827     -0.018      0.986     -11.524      11.318\n",
            "x115           0.2801      5.827      0.048      0.962     -11.141      11.701\n",
            "x116           0.3056      5.827      0.052      0.958     -11.116      11.727\n",
            "x117           0.2677      5.827      0.046      0.963     -11.153      11.689\n",
            "x118           0.1761      5.827      0.030      0.976     -11.245      11.597\n",
            "x119          -0.3483      5.827     -0.060      0.952     -11.769      11.073\n",
            "x120          -2.3393      5.827     -0.401      0.688     -13.760       9.082\n",
            "x121           0.3021      5.827      0.052      0.959     -11.119      11.723\n",
            "x122           0.1855      5.827      0.032      0.975     -11.236      11.607\n",
            "x123           0.2885      5.827      0.050      0.961     -11.133      11.710\n",
            "x124          -4.3262      5.827     -0.742      0.458     -15.748       7.095\n",
            "x125           0.2397      5.827      0.041      0.967     -11.181      11.661\n",
            "x126           0.3082      5.827      0.053      0.958     -11.113      11.729\n",
            "x127          -0.0488      5.827     -0.008      0.993     -11.470      11.372\n",
            "x128           0.2879      5.827      0.049      0.961     -11.133      11.709\n",
            "x129           0.1375      5.827      0.024      0.981     -11.284      11.559\n",
            "x130           0.0620      5.827      0.011      0.992     -11.359      11.483\n",
            "x131          -0.5519      5.827     -0.095      0.925     -11.973      10.869\n",
            "x132           0.2139      5.827      0.037      0.971     -11.207      11.635\n",
            "x133           0.2554      5.827      0.044      0.965     -11.166      11.677\n",
            "x134           0.0914      5.827      0.016      0.987     -11.330      11.513\n",
            "x135           0.4076      5.827      0.070      0.944     -11.014      11.829\n",
            "x136           0.2613      5.827      0.045      0.964     -11.160      11.682\n",
            "x137           0.2608      5.827      0.045      0.964     -11.160      11.682\n",
            "x138           0.2637      5.827      0.045      0.964     -11.158      11.685\n",
            "x139          17.7193      5.828      3.040      0.002       6.296      29.143\n",
            "x140          -1.0176      5.827     -0.175      0.861     -12.439      10.404\n",
            "x141           0.2917      5.827      0.050      0.960     -11.130      11.713\n",
            "x142           0.1124      5.827      0.019      0.985     -11.309      11.534\n",
            "x143           0.0803      5.827      0.014      0.989     -11.341      11.502\n",
            "x144           0.0331      5.827      0.006      0.995     -11.388      11.454\n",
            "x145          -5.2765      5.827     -0.906      0.365     -16.698       6.145\n",
            "x146          -0.2793      5.827     -0.048      0.962     -11.700      11.142\n",
            "x147          -3.4171      5.827     -0.586      0.558     -14.838       8.004\n",
            "x148          -1.0819      5.827     -0.186      0.853     -12.503      10.339\n",
            "x149           0.2775      5.827      0.048      0.962     -11.144      11.699\n",
            "x150           0.2422      5.827      0.042      0.967     -11.179      11.663\n",
            "x151          -4.0526      5.827     -0.695      0.487     -15.474       7.369\n",
            "x152           0.3100      5.827      0.053      0.958     -11.111      11.731\n",
            "x153          -2.3598      5.827     -0.405      0.685     -13.781       9.061\n",
            "x154          -6.5799      5.827     -1.129      0.259     -18.002       4.842\n",
            "x155          -2.3503      5.827     -0.403      0.687     -13.772       9.071\n",
            "x156          -1.1400      5.827     -0.196      0.845     -12.561      10.281\n",
            "x157         -10.6383      5.827     -1.826      0.068     -22.060       0.783\n",
            "x158           0.1474      5.827      0.025      0.980     -11.274      11.569\n",
            "x159           0.2697      5.827      0.046      0.963     -11.152      11.691\n",
            "x160           0.2630      5.827      0.045      0.964     -11.158      11.684\n",
            "x161           0.2712      5.827      0.047      0.963     -11.150      11.692\n",
            "x162           0.5994      5.827      0.103      0.918     -10.822      12.021\n",
            "x163           0.2777      5.827      0.048      0.962     -11.143      11.699\n",
            "x164          -3.1245      5.827     -0.536      0.592     -14.546       8.297\n",
            "x165          -0.0502      5.827     -0.009      0.993     -11.471      11.371\n",
            "x166          -1.5187      5.827     -0.261      0.794     -12.940       9.902\n",
            "x167           0.2661      5.827      0.046      0.964     -11.155      11.687\n",
            "x168           0.2722      5.827      0.047      0.963     -11.149      11.693\n",
            "x169          -2.5869      5.827     -0.444      0.657     -14.008       8.834\n",
            "x170          -0.4230      5.827     -0.073      0.942     -11.844      10.998\n",
            "x171          -0.3797      5.827     -0.065      0.948     -11.801      11.042\n",
            "x172           0.2743      5.827      0.047      0.962     -11.147      11.695\n",
            "x173          -1.6686      5.827     -0.286      0.775     -13.090       9.753\n",
            "x174           0.2780      5.827      0.048      0.962     -11.143      11.699\n",
            "x175          84.0923      5.906     14.238      0.000      72.515      95.669\n",
            "x176           0.1156      5.827      0.020      0.984     -11.306      11.537\n",
            "x177           0.3250      5.827      0.056      0.956     -11.096      11.746\n",
            "x178           0.2795      5.827      0.048      0.962     -11.142      11.701\n",
            "x179           3.1898      5.827      0.547      0.584      -8.232      14.611\n",
            "x180         -15.7578      5.830     -2.703      0.007     -27.185      -4.331\n",
            "x181           0.2908      5.827      0.050      0.960     -11.130      11.712\n",
            "x182          -0.1697      5.827     -0.029      0.977     -11.591      11.251\n",
            "x183           0.2801      5.827      0.048      0.962     -11.141      11.701\n",
            "x184           0.2655      5.827      0.046      0.964     -11.156      11.687\n",
            "x185          -2.4320      5.827     -0.417      0.676     -13.853       8.989\n",
            "x186           0.2754      5.827      0.047      0.962     -11.146      11.697\n",
            "x187           0.2506      5.827      0.043      0.966     -11.171      11.672\n",
            "x188           0.2770      5.827      0.048      0.962     -11.144      11.698\n",
            "x189           0.0650      5.827      0.011      0.991     -11.356      11.486\n",
            "x190         -26.2481      5.830     -4.502      0.000     -37.676     -14.821\n",
            "x191        -107.6138      6.199    -17.360      0.000    -119.764     -95.463\n",
            "x192           0.2253      5.827      0.039      0.969     -11.196      11.647\n",
            "x193          -0.7698      5.827     -0.132      0.895     -12.191      10.651\n",
            "x194          -2.7344      5.827     -0.469      0.639     -14.156       8.687\n",
            "x195          95.5312      5.838     16.364      0.000      84.088     106.974\n",
            "x196          -0.2278      5.827     -0.039      0.969     -11.649      11.193\n",
            "x197          -0.3500      5.827     -0.060      0.952     -11.771      11.071\n",
            "x198           0.1520      5.827      0.026      0.979     -11.269      11.573\n",
            "x199          -0.1564      5.827     -0.027      0.979     -11.578      11.265\n",
            "x200           0.0097      5.827      0.002      0.999     -11.411      11.431\n",
            "x201           0.2769      5.827      0.048      0.962     -11.144      11.698\n",
            "x202           0.2797      5.827      0.048      0.962     -11.142      11.701\n",
            "x203           0.2484      5.827      0.043      0.966     -11.173      11.670\n",
            "x204           0.3072      5.827      0.053      0.958     -11.114      11.728\n",
            "==============================================================================\n",
            "Omnibus:                    20179.110   Durbin-Watson:                   1.855\n",
            "Prob(Omnibus):                  0.000   Jarque-Bera (JB):         10966691.109\n",
            "Skew:                           6.018   Prob(JB):                         0.00\n",
            "Kurtosis:                     128.414   Cond. No.                     6.09e+16\n",
            "==============================================================================\n",
            "\n",
            "Warnings:\n",
            "[1] Standard Errors assume that the covariance matrix of the errors is correctly specified.\n",
            "[2] The smallest eigenvalue is 1.73e-29. This might indicate that there are\n",
            "strong multicollinearity problems or that the design matrix is singular.\n"
          ],
          "name": "stdout"
        }
      ]
    },
    {
      "cell_type": "code",
      "metadata": {
        "colab": {
          "base_uri": "https://localhost:8080/"
        },
        "id": "UcxcyqqWkrrE",
        "outputId": "ce482860-2906-419c-899d-4d5a413812e6"
      },
      "source": [
        "x_train.columns"
      ],
      "execution_count": 73,
      "outputs": [
        {
          "output_type": "execute_result",
          "data": {
            "text/plain": [
              "Index(['Confirmed', 'Recovered', 'Day', 'dayofyear', 'weekofyear', 'month_2',\n",
              "       'month_3', 'month_4', 'month_5', 'wday_1',\n",
              "       ...\n",
              "       'Country_United Kingdom', 'Country_Uruguay', 'Country_Uzbekistan',\n",
              "       'Country_Venezuela', 'Country_Vietnam', 'Country_West Bank and Gaza',\n",
              "       'Country_Western Sahara', 'Country_Yemen', 'Country_Zambia',\n",
              "       'Country_Zimbabwe'],\n",
              "      dtype='object', length=205)"
            ]
          },
          "metadata": {
            "tags": []
          },
          "execution_count": 73
        }
      ]
    },
    {
      "cell_type": "code",
      "metadata": {
        "colab": {
          "base_uri": "https://localhost:8080/"
        },
        "id": "j0W2seYzJpad",
        "outputId": "ee06512f-d96e-4439-a719-6614879aef04"
      },
      "source": [
        "models = [SVR(), DecisionTreeRegressor(), RandomForestRegressor(), XGBRegressor()]\r\n",
        "for model in models:\r\n",
        "  score = []\r\n",
        "  tscv = TimeSeriesSplit(n_splits=5)\r\n",
        "  MSE = cross_val_score(model, x_train, y_train, cv=tscv, scoring='neg_mean_squared_error')\r\n",
        "  print(f\"Model {model} | Error: {0:.3f} (+/- {1:.3f})\".format(MSE, MSE.std()))\r\n"
      ],
      "execution_count": 76,
      "outputs": [
        {
          "output_type": "stream",
          "text": [
            "Model SVR(C=1.0, cache_size=200, coef0=0.0, degree=3, epsilon=0.1, gamma='scale',\n",
            "    kernel='rbf', max_iter=-1, shrinking=True, tol=0.001, verbose=False) | Error: 0.000 (+/- 1.000)\n",
            "Model DecisionTreeRegressor(ccp_alpha=0.0, criterion='mse', max_depth=None,\n",
            "                      max_features=None, max_leaf_nodes=None,\n",
            "                      min_impurity_decrease=0.0, min_impurity_split=None,\n",
            "                      min_samples_leaf=1, min_samples_split=2,\n",
            "                      min_weight_fraction_leaf=0.0, presort='deprecated',\n",
            "                      random_state=None, splitter='best') | Error: 0.000 (+/- 1.000)\n",
            "Model RandomForestRegressor(bootstrap=True, ccp_alpha=0.0, criterion='mse',\n",
            "                      max_depth=None, max_features='auto', max_leaf_nodes=None,\n",
            "                      max_samples=None, min_impurity_decrease=0.0,\n",
            "                      min_impurity_split=None, min_samples_leaf=1,\n",
            "                      min_samples_split=2, min_weight_fraction_leaf=0.0,\n",
            "                      n_estimators=100, n_jobs=None, oob_score=False,\n",
            "                      random_state=None, verbose=0, warm_start=False) | Error: 0.000 (+/- 1.000)\n",
            "[03:20:15] WARNING: /workspace/src/objective/regression_obj.cu:152: reg:linear is now deprecated in favor of reg:squarederror.\n",
            "[03:20:16] WARNING: /workspace/src/objective/regression_obj.cu:152: reg:linear is now deprecated in favor of reg:squarederror.\n",
            "[03:20:18] WARNING: /workspace/src/objective/regression_obj.cu:152: reg:linear is now deprecated in favor of reg:squarederror.\n",
            "[03:20:21] WARNING: /workspace/src/objective/regression_obj.cu:152: reg:linear is now deprecated in favor of reg:squarederror.\n",
            "[03:20:25] WARNING: /workspace/src/objective/regression_obj.cu:152: reg:linear is now deprecated in favor of reg:squarederror.\n",
            "Model XGBRegressor(base_score=0.5, booster='gbtree', colsample_bylevel=1,\n",
            "             colsample_bynode=1, colsample_bytree=1, gamma=0,\n",
            "             importance_type='gain', learning_rate=0.1, max_delta_step=0,\n",
            "             max_depth=3, min_child_weight=1, missing=None, n_estimators=100,\n",
            "             n_jobs=1, nthread=None, objective='reg:linear', random_state=0,\n",
            "             reg_alpha=0, reg_lambda=1, scale_pos_weight=1, seed=None,\n",
            "             silent=None, subsample=1, verbosity=1) | Error: 0.000 (+/- 1.000)\n"
          ],
          "name": "stdout"
        }
      ]
    },
    {
      "cell_type": "code",
      "metadata": {
        "id": "LPgu_PAyVxyp"
      },
      "source": [
        "from sklearn.metrics import mean_squared_error"
      ],
      "execution_count": 53,
      "outputs": []
    },
    {
      "cell_type": "markdown",
      "metadata": {
        "id": "CMxM2VS0kjKT"
      },
      "source": [
        "GridSearchCV"
      ]
    },
    {
      "cell_type": "code",
      "metadata": {
        "id": "rvwnxFa46F-a"
      },
      "source": [
        "from sklearn.model_selection import GridSearchCV\r\n",
        "from sklearn.metrics import r2_score"
      ],
      "execution_count": 54,
      "outputs": []
    },
    {
      "cell_type": "code",
      "metadata": {
        "id": "y-IWpRBsmPVm",
        "colab": {
          "base_uri": "https://localhost:8080/"
        },
        "outputId": "943b4a52-63b0-402b-becb-b48b54bb76be"
      },
      "source": [
        "model = XGBRegressor()\r\n",
        "params = {\"n_estimators\":[int(x) for x in np.linspace(200,3000,5)],\r\n",
        "    \"learning_rate\"    : [0.1] ,\r\n",
        " \"max_depth\"        : [ 2, 3],\r\n",
        " \"gamma\"            : [ 0.05, 0.09]}\r\n",
        "\r\n",
        "\r\n",
        "tscv = TimeSeriesSplit(n_splits=5)\r\n",
        "gsearch = GridSearchCV(estimator=model, cv=tscv,\r\n",
        "                        param_grid=params, scoring= 'r2', n_jobs = -1, verbose=10)\r\n",
        "gsearch.fit(x_train, y_train)"
      ],
      "execution_count": 62,
      "outputs": [
        {
          "output_type": "stream",
          "text": [
            "Fitting 5 folds for each of 20 candidates, totalling 100 fits\n"
          ],
          "name": "stdout"
        },
        {
          "output_type": "stream",
          "text": [
            "[Parallel(n_jobs=-1)]: Using backend LokyBackend with 2 concurrent workers.\n",
            "[Parallel(n_jobs=-1)]: Done   1 tasks      | elapsed:   20.5s\n",
            "[Parallel(n_jobs=-1)]: Done   4 tasks      | elapsed:  1.9min\n",
            "[Parallel(n_jobs=-1)]: Done   9 tasks      | elapsed:  4.7min\n",
            "[Parallel(n_jobs=-1)]: Done  14 tasks      | elapsed:  8.0min\n",
            "[Parallel(n_jobs=-1)]: Done  21 tasks      | elapsed: 13.9min\n",
            "[Parallel(n_jobs=-1)]: Done  28 tasks      | elapsed: 19.2min\n",
            "[Parallel(n_jobs=-1)]: Done  37 tasks      | elapsed: 26.4min\n",
            "[Parallel(n_jobs=-1)]: Done  46 tasks      | elapsed: 36.9min\n",
            "[Parallel(n_jobs=-1)]: Done  57 tasks      | elapsed: 45.3min\n",
            "[Parallel(n_jobs=-1)]: Done  68 tasks      | elapsed: 53.5min\n",
            "[Parallel(n_jobs=-1)]: Done  81 tasks      | elapsed: 63.8min\n",
            "[Parallel(n_jobs=-1)]: Done  94 tasks      | elapsed: 76.5min\n",
            "[Parallel(n_jobs=-1)]: Done 100 out of 100 | elapsed: 84.9min finished\n"
          ],
          "name": "stderr"
        },
        {
          "output_type": "stream",
          "text": [
            "[11:41:56] WARNING: /workspace/src/objective/regression_obj.cu:152: reg:linear is now deprecated in favor of reg:squarederror.\n"
          ],
          "name": "stdout"
        },
        {
          "output_type": "execute_result",
          "data": {
            "text/plain": [
              "GridSearchCV(cv=TimeSeriesSplit(max_train_size=None, n_splits=5),\n",
              "             error_score=nan,\n",
              "             estimator=XGBRegressor(base_score=0.5, booster='gbtree',\n",
              "                                    colsample_bylevel=1, colsample_bynode=1,\n",
              "                                    colsample_bytree=1, gamma=0,\n",
              "                                    importance_type='gain', learning_rate=0.1,\n",
              "                                    max_delta_step=0, max_depth=3,\n",
              "                                    min_child_weight=1, missing=None,\n",
              "                                    n_estimators=100, n_jobs=1, nthread=None,\n",
              "                                    objective='reg:linear', random_state=0,\n",
              "                                    reg_alpha=0, reg_lambda=1,\n",
              "                                    scale_pos_weight=1, seed=None, silent=None,\n",
              "                                    subsample=1, verbosity=1),\n",
              "             iid='deprecated', n_jobs=-1,\n",
              "             param_grid={'gamma': [0.05, 0.09], 'learning_rate': [0.1],\n",
              "                         'max_depth': [2, 3],\n",
              "                         'n_estimators': [1500, 1875, 2250, 2625, 3000]},\n",
              "             pre_dispatch='2*n_jobs', refit=True, return_train_score=False,\n",
              "             scoring='r2', verbose=10)"
            ]
          },
          "metadata": {
            "tags": []
          },
          "execution_count": 62
        }
      ]
    },
    {
      "cell_type": "code",
      "metadata": {
        "id": "5GMsoOSkmPQ3",
        "colab": {
          "base_uri": "https://localhost:8080/"
        },
        "outputId": "24b7210a-5d16-40bb-9194-4f134790ccc6"
      },
      "source": [
        "print(\"The best score: \",gsearch.best_score_)\r\n",
        "print(\"Best parameters: \",gsearch.best_params_)"
      ],
      "execution_count": 63,
      "outputs": [
        {
          "output_type": "stream",
          "text": [
            "The best score:  0.7439191570973899\n",
            "Best parameters:  {'gamma': 0.05, 'learning_rate': 0.1, 'max_depth': 2, 'n_estimators': 3000}\n"
          ],
          "name": "stdout"
        }
      ]
    },
    {
      "cell_type": "markdown",
      "metadata": {
        "id": "JD_0ooGADsyk"
      },
      "source": [
        "## Final Model"
      ]
    },
    {
      "cell_type": "code",
      "metadata": {
        "id": "abu2wYbMZHEN"
      },
      "source": [
        "xgbr = XGBRegressor(gamma= 0.05, learning_rate= 0.1, max_depth= 2, n_estimators= 3000,verbosity=2)\r\n",
        "xgbr.fit(x_train, y_train)"
      ],
      "execution_count": null,
      "outputs": []
    },
    {
      "cell_type": "code",
      "metadata": {
        "colab": {
          "base_uri": "https://localhost:8080/"
        },
        "id": "0_ZQ6HfRZlw_",
        "outputId": "e15f93b9-7eeb-47d9-b2b8-38ec1f251a2e"
      },
      "source": [
        "y_preds = xgbr.predict(x_test)\r\n",
        "print(f\"MSE: {mean_squared_error(y_test, y_preds)}\")\r\n",
        "print(f\"R2 score: {r2_score(y_test, y_preds)}\")"
      ],
      "execution_count": 56,
      "outputs": [
        {
          "output_type": "stream",
          "text": [
            "MSE: 11470918.723081505\n",
            "R2 score: 0.7604471964232531\n"
          ],
          "name": "stdout"
        }
      ]
    },
    {
      "cell_type": "markdown",
      "metadata": {
        "id": "irhDznk7FS9I"
      },
      "source": [
        "## Saving the model"
      ]
    },
    {
      "cell_type": "code",
      "metadata": {
        "id": "DDCw8JlDZlvv"
      },
      "source": [
        "import joblib\r\n",
        "joblib.dump(xgbr,'./models/covid_model.obj')"
      ],
      "execution_count": 57,
      "outputs": []
    },
    {
      "cell_type": "code",
      "metadata": {
        "id": "TNDF93KJZlnm"
      },
      "source": [
        ""
      ],
      "execution_count": null,
      "outputs": []
    }
  ]
}